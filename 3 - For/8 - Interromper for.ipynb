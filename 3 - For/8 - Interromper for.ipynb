{
 "cells": [
  {
   "cell_type": "markdown",
   "metadata": {},
   "source": [
    "# Formas de interromper\n",
    "\n",
    "- break -> encerra o for\n",
    "- continue -> interrompe e vai para o próximo item"
   ]
  },
  {
   "cell_type": "code",
   "execution_count": 1,
   "metadata": {},
   "outputs": [],
   "source": [
    "vendas = [100, 150, 1500, 2000, 120]"
   ]
  },
  {
   "cell_type": "markdown",
   "metadata": {},
   "source": [
    "Se todas as vendas forem acima da meta a loja ganha um bônus"
   ]
  },
  {
   "cell_type": "code",
   "execution_count": 4,
   "metadata": {},
   "outputs": [
    {
     "name": "stdout",
     "output_type": "stream",
     "text": [
      "A loja não ganha bônus\n"
     ]
    }
   ],
   "source": [
    "meta = 110\n",
    "\n",
    "for venda in vendas:\n",
    "    if venda < meta:\n",
    "        print('A loja não ganha bônus')\n",
    "        break"
   ]
  },
  {
   "cell_type": "markdown",
   "metadata": {},
   "source": [
    "Exibindo quem alcançou a meta"
   ]
  },
  {
   "cell_type": "code",
   "execution_count": 7,
   "metadata": {},
   "outputs": [
    {
     "name": "stdout",
     "output_type": "stream",
     "text": [
      "150\n",
      "1500\n",
      "2000\n"
     ]
    }
   ],
   "source": [
    "vendedores = ['Daniel', 'Jorge', 'Lucas', 'Afonso', 'Maria']\n",
    "vendas = [100, 150, 1500, 2000, 120]\n",
    "meta = 130\n",
    "\n",
    "for venda in vendas:\n",
    "    if venda < meta:\n",
    "        continue\n",
    "    #Com o continue quando a venda é abaixo da meta, o print é ignorado\n",
    "    print(venda)"
   ]
  }
 ],
 "metadata": {
  "kernelspec": {
   "display_name": "Python 3",
   "language": "python",
   "name": "python3"
  },
  "language_info": {
   "codemirror_mode": {
    "name": "ipython",
    "version": 3
   },
   "file_extension": ".py",
   "mimetype": "text/x-python",
   "name": "python",
   "nbconvert_exporter": "python",
   "pygments_lexer": "ipython3",
   "version": "3.7.3"
  },
  "orig_nbformat": 4
 },
 "nbformat": 4,
 "nbformat_minor": 2
}
