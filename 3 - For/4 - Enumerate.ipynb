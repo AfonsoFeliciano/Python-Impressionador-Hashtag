{
 "cells": [
  {
   "cell_type": "markdown",
   "metadata": {},
   "source": [
    "# Enumerate \n",
    "\n",
    "## Estrutura\n",
    "\n",
    "O enumerate possibilidade percorrer uma lista e ao mesmo tempo capturar o índice. \n",
    "\n",
    "Essa estrutura é um pouco mais lenta se comparada ao for\n"
   ]
  },
  {
   "cell_type": "raw",
   "metadata": {},
   "source": [
    "for i, item in enumerate(lista):\n",
    "    resto do código"
   ]
  },
  {
   "cell_type": "code",
   "execution_count": 1,
   "metadata": {},
   "outputs": [
    {
     "name": "stdout",
     "output_type": "stream",
     "text": [
      "Indice 0 é o funcionario jorge\n",
      "Indice 1 é o funcionario daniel\n",
      "Indice 2 é o funcionario afonso\n",
      "Indice 3 é o funcionario carlos\n",
      "Indice 4 é o funcionario jose\n",
      "Indice 5 é o funcionario manoel\n"
     ]
    }
   ],
   "source": [
    "funcionarios = ['jorge', 'daniel', 'afonso', 'carlos', 'jose', 'manoel']\n",
    "\n",
    "for i, funcionario in enumerate(funcionarios):\n",
    "    print('Indice {} é o funcionario {}'.format(i, funcionario))"
   ]
  },
  {
   "cell_type": "markdown",
   "metadata": {},
   "source": [
    "## Exemplo prático\n",
    "\n",
    "Em uma fábrica você tem vários produtos e não pode deixar que os produtos fiquem em falta no estoque. Para isso, foi definido uma quantidade mínima que eles precisam obedecer. \n",
    "\n",
    "Identifique quais produtos estão abaixo do nível mínimo de estoque."
   ]
  },
  {
   "cell_type": "code",
   "execution_count": 5,
   "metadata": {},
   "outputs": [],
   "source": [
    "estoque = [1200, 22, 40, 5000, 50, 100, 15, 200, 10500]\n",
    "produtos = ['arroz', 'feijao', 'trigo', 'tomate', 'cebola', 'laranja', 'alface', 'cenoura', 'macarrao']\n",
    "nivel_minimo = 50"
   ]
  },
  {
   "cell_type": "code",
   "execution_count": 9,
   "metadata": {},
   "outputs": [
    {
     "name": "stdout",
     "output_type": "stream",
     "text": [
      "O produto: feijao está abaixo do nível mínimo pois só possui 22 unidades\n",
      "O produto: trigo está abaixo do nível mínimo pois só possui 40 unidades\n",
      "O produto: alface está abaixo do nível mínimo pois só possui 15 unidades\n"
     ]
    }
   ],
   "source": [
    "# Percorrer a lista de estoque\n",
    "\n",
    "for i, quantidade in enumerate(estoque):\n",
    "    if quantidade < nivel_minimo:\n",
    "        print('O produto: {} está abaixo do nível mínimo pois só possui {} unidades'.format(produtos[i], quantidade))\n",
    "\n",
    "\n",
    "\n",
    "\n"
   ]
  },
  {
   "cell_type": "code",
   "execution_count": null,
   "metadata": {},
   "outputs": [],
   "source": []
  }
 ],
 "metadata": {
  "kernelspec": {
   "display_name": "Python 3",
   "language": "python",
   "name": "python3"
  },
  "language_info": {
   "codemirror_mode": {
    "name": "ipython",
    "version": 3
   },
   "file_extension": ".py",
   "mimetype": "text/x-python",
   "name": "python",
   "nbconvert_exporter": "python",
   "pygments_lexer": "ipython3",
   "version": "3.7.3"
  },
  "orig_nbformat": 4
 },
 "nbformat": 4,
 "nbformat_minor": 2
}
