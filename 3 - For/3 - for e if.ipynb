{
 "cells": [
  {
   "cell_type": "markdown",
   "metadata": {},
   "source": [
    "# For + If\n",
    "\n",
    "Validando se as vendas da lista abaixo atingiram uma determinada meta. Neste caso a meta é de 1000 reais. \n",
    "\n",
    "O objetivo será saber o percentual de pessoas que bateram a meta. "
   ]
  },
  {
   "cell_type": "code",
   "execution_count": 6,
   "metadata": {},
   "outputs": [
    {
     "name": "stdout",
     "output_type": "stream",
     "text": [
      "O percentual de pessoas que bateram a meta foi de 62.50%\n"
     ]
    }
   ],
   "source": [
    "vendas = [1222, 100, 500, 999, 1001, 2000, 30000, 450000, 10, 15, 28, 1280, 34550, 3654, 12000, 10001]\n",
    "meta = 1000\n",
    "\n",
    "qtd_pessoas_meta_batida = 0\n",
    "qtd_total_pessoas = len(vendas)\n",
    "\n",
    "for venda in vendas:\n",
    "    if venda >= meta:\n",
    "        qtd_pessoas_meta_batida += 1\n",
    "\n",
    "print('O percentual de pessoas que bateram a meta foi de {:.2%}'.format(qtd_pessoas_meta_batida / qtd_total_pessoas))"
   ]
  },
  {
   "cell_type": "code",
   "execution_count": null,
   "metadata": {},
   "outputs": [],
   "source": []
  }
 ],
 "metadata": {
  "kernelspec": {
   "display_name": "Python 3",
   "language": "python",
   "name": "python3"
  },
  "language_info": {
   "codemirror_mode": {
    "name": "ipython",
    "version": 3
   },
   "file_extension": ".py",
   "mimetype": "text/x-python",
   "name": "python",
   "nbconvert_exporter": "python",
   "pygments_lexer": "ipython3",
   "version": "3.7.3"
  },
  "orig_nbformat": 4
 },
 "nbformat": 4,
 "nbformat_minor": 2
}
