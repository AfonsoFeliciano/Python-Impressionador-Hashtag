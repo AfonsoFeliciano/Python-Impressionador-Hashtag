{
 "cells": [
  {
   "cell_type": "markdown",
   "metadata": {},
   "source": [
    "# For dentro de For\n",
    "\n",
    "Quando temos listas dentro de listas, às vezes precisamos fazer um \"for dentro de for\""
   ]
  },
  {
   "cell_type": "raw",
   "metadata": {},
   "source": [
    "for item in lista: \n",
    "    for item2 in lista2:\n",
    "        codigo aqui"
   ]
  },
  {
   "cell_type": "markdown",
   "metadata": {},
   "source": [
    "Vamos pegar um exemplo de nível mínimo de estoque. Em uma fábrica você tem vários produtos e não pode deixar que os produtos fiquem em falta. Para isso, foi definido uma quantidade mínima de estoque que os produtos precisam ter:\n",
    "\n",
    "Identifique quais fábricas tem algum produto abaixo do nível de estoque\n",
    "\n",
    "- Agora ao invés de analisar o estoque de apenas 1 fábrica, vamos analisar o estoque de várias fábricas"
   ]
  },
  {
   "cell_type": "code",
   "execution_count": 14,
   "metadata": {},
   "outputs": [],
   "source": [
    "estoque = [\n",
    "    [294, 125, 269, 208, 783, 852, 259, 371, 47, 102, 386, 87, 685, 686, 697, 941, 163, 631, 7, 714, 218, 670, 453],\n",
    "    [648, 816, 310, 555, 992, 643, 226, 319, 501, 23, 239, 42, 372, 441, 126, 645, 927, 911, 761, 445, 974, 2, 549],\n",
    "    [832, 683, 784, 449, 977, 705, 198, 937, 729, 327, 339, 10, 975, 310, 95, 689, 137, 795, 211, 538, 933, 751, 522],\n",
    "    [837, 168, 570, 397, 53, 297, 966, 714, 72, 737, 259, 629, 625, 469, 922, 305, 782, 243, 841, 848, 372, 621, 362],\n",
    "    [429, 242, 53, 985, 406, 186, 198, 50, 501, 870, 781, 632, 781, 105, 644, 509, 401, 88, 961, 765, 422, 340, 654],\n",
    "]\n",
    "fabricas = ['Lira Manufacturing', 'Fábrica Hashtag', 'Python Manufaturas', 'Produções e Cia', 'Manufatura e Cia']\n",
    "nivel_minimo = 50"
   ]
  },
  {
   "cell_type": "code",
   "execution_count": 16,
   "metadata": {},
   "outputs": [
    {
     "name": "stdout",
     "output_type": "stream",
     "text": [
      "As fábrica Lira Manufacturing possui itens abaixo do nível\n",
      "As fábrica Fábrica Hashtag possui itens abaixo do nível\n",
      "As fábrica Python Manufaturas possui itens abaixo do nível\n"
     ]
    }
   ],
   "source": [
    "fabricas_abaixo_nivel = []\n",
    "\n",
    "for i, lista in enumerate(estoque):\n",
    "\n",
    "    #Verificando na lista fabricas abaixo do valor mminimo\n",
    "    for quantidade in lista:\n",
    "        if quantidade < nivel_minimo:\n",
    "            if fabricas[i] in fabricas_abaixo_nivel:\n",
    "                pass\n",
    "            else:\n",
    "                fabricas_abaixo_nivel.append(fabricas[i])\n",
    "\n",
    "for fabrica in fabricas_abaixo_nivel:\n",
    "    print('As fábrica {} possui itens abaixo do nível'.format(fabrica))\n",
    "\n"
   ]
  },
  {
   "cell_type": "code",
   "execution_count": null,
   "metadata": {},
   "outputs": [],
   "source": []
  }
 ],
 "metadata": {
  "kernelspec": {
   "display_name": "Python 3",
   "language": "python",
   "name": "python3"
  },
  "language_info": {
   "codemirror_mode": {
    "name": "ipython",
    "version": 3
   },
   "file_extension": ".py",
   "mimetype": "text/x-python",
   "name": "python",
   "nbconvert_exporter": "python",
   "pygments_lexer": "ipython3",
   "version": "3.7.3"
  }
 },
 "nbformat": 4,
 "nbformat_minor": 4
}
