{
 "cells": [
  {
   "cell_type": "markdown",
   "metadata": {},
   "source": [
    "# Exercícios\n",
    "\n",
    "## 1. Criando um Registro de Hóspedes\n",
    "\n",
    "Digamos que você está criando o sistema para registrar a chegada de hóspedes em um hotel. No hotel, os hóspedes podem ter quartos com 1, 2, 3 e 4 pessoas. Seu sistema deve conseguir:\n",
    "\n",
    "1. Identificar quantas pessoas o hóspede que acabou de chegar vai ter no quarto (perguntando por meio de input)\n",
    "2. De acordo com a quantidade de pessoas do hóspede, ele deve fazer um for para perguntar o cpf e o nome de cada pessoa, a fim de registrá-la no quarto (2 inputs para cada pessoa, 1 para o cpf e outro para o nome)\n",
    "3. O seu programa então deve gerar uma lista com todas as pessoas que ficarão no quarto em que cada item dessa lista é o nome da pessoa e o cpf da pessoa, assim:"
   ]
  },
  {
   "cell_type": "raw",
   "metadata": {},
   "source": [
    "quarto = [\n",
    "    ['João', 'cpf:00000000000'],\n",
    "    ['Julia', 'cpf:11111111111'],\n",
    "    ['Marcus', 'cpf:22222222222'],\n",
    "    ['Maria', 'cpf:33333333333'],\n",
    "]"
   ]
  },
  {
   "cell_type": "markdown",
   "metadata": {},
   "source": [
    "- Para simplificar, não vamos nos preocupar com possibilidades de \"tentar colocar mais de 1 hóspede, digitar o cpf errado, etc. Nosso objetivo é treinar a criação de uma rotina de cadastro"
   ]
  },
  {
   "cell_type": "code",
   "execution_count": 6,
   "metadata": {},
   "outputs": [
    {
     "name": "stdout",
     "output_type": "stream",
     "text": [
      "[['afonso', 'cpf: 1212100'], ['maria', 'cpf: 45451000']]\n"
     ]
    }
   ],
   "source": [
    "limite_pessoas = 4\n",
    "quantidade_pessoas = int(input('Quantas pessoas terão no quarto? '))\n",
    "\n",
    "\n",
    "if quantidade_pessoas > limite_pessoas:\n",
    "    print('O limite máximo é de {} e você informou {} pessoas'.format(limite_pessoas, quantidade_pessoas))\n",
    "else: \n",
    "    quarto = []\n",
    "    for i in range(quantidade_pessoas):\n",
    "        nome = input('Informe o seu nome: ')\n",
    "        cpf = input('Informe o seu cpf: ')\n",
    "        hospede = [nome, 'cpf: {}'.format(cpf)]\n",
    "        quarto.append(hospede)\n",
    "    print(quarto)"
   ]
  },
  {
   "cell_type": "markdown",
   "metadata": {},
   "source": [
    "## 2. Análise de Vendas\n",
    "\n",
    "Nesse exercício vamos fazer uma \"análise simples\" de atingimento de Meta.\n",
    "\n",
    "Temos uma lista com os vendedores e os valores de vendas e queremos identificar (printar) quais os vendedores que bateram a meta e qual foi o valor que eles venderam."
   ]
  },
  {
   "cell_type": "code",
   "execution_count": 13,
   "metadata": {},
   "outputs": [
    {
     "name": "stdout",
     "output_type": "stream",
     "text": [
      "O vendedor João bateu a meta pois fez o total de 15000 vendas\n",
      "O vendedor Julia bateu a meta pois fez o total de 27000 vendas\n",
      "O vendedor Ana bateu a meta pois fez o total de 10300 vendas\n"
     ]
    }
   ],
   "source": [
    "meta = 10000\n",
    "vendas = [\n",
    "    ['João', 15000],\n",
    "    ['Julia', 27000],\n",
    "    ['Marcus', 9900],\n",
    "    ['Maria', 3750],\n",
    "    ['Ana', 10300],\n",
    "    ['Alon', 7870],\n",
    "]\n",
    "\n",
    "for item in vendas:\n",
    "    if item[1] >= meta:\n",
    "        print('O vendedor {} bateu a meta pois fez o total de {} vendas'.format(item[0], item[1]))\n",
    "\n"
   ]
  },
  {
   "cell_type": "markdown",
   "metadata": {},
   "source": [
    "## 3. Comparação com Ano Anterior\n",
    "\n",
    "Digamos que você está analisando as vendas de produtos de um ecommerce e quer identificar quais produtos tiveram no ano de 2020 mais vendas do que no ano de 2019, para reportar isso para a diretoria.\n",
    "\n",
    "Sua resposta pode ser um print de cada produto, qual foi a venda de 2019, a venda de 2020 e o % de crescimento de 2020 para 2019.\n",
    "\n",
    "Lembrando, para calcular o % de crescimento de um produto de um ano para o outro, podemos fazer: (vendas_produto2020/vendas_produto2019 - 1)\n",
    "\n",
    "Dica: lembre do enumerate, ele pode facilitar seu \"for\""
   ]
  },
  {
   "cell_type": "code",
   "execution_count": 23,
   "metadata": {},
   "outputs": [
    {
     "name": "stdout",
     "output_type": "stream",
     "text": [
      "Para o produto iphone as vendas em 2019 foram R$ 558,147 e em 2020 foram R$ 951,642. O crescimento foi de 70.50%\n",
      "Para o produto galaxy as vendas em 2019 foram R$ 712,350 e em 2020 foram R$ 244,295. Indicando uma queda de -65.71%\n",
      "Para o produto ipad as vendas em 2019 foram R$ 573,823 e em 2020 foram R$ 26,964. Indicando uma queda de -95.30%\n",
      "Para o produto tv as vendas em 2019 foram R$ 405,252 e em 2020 foram R$ 787,604. O crescimento foi de 94.35%\n",
      "Para o produto máquina de café as vendas em 2019 foram R$ 718,654 e em 2020 foram R$ 867,660. O crescimento foi de 20.73%\n",
      "Para o produto kindle as vendas em 2019 foram R$ 531,580 e em 2020 foram R$ 78,830. Indicando uma queda de -85.17%\n",
      "Para o produto geladeira as vendas em 2019 foram R$ 973,139 e em 2020 foram R$ 710,331. Indicando uma queda de -27.01%\n",
      "Para o produto adega as vendas em 2019 foram R$ 892,292 e em 2020 foram R$ 646,016. Indicando uma queda de -27.60%\n",
      "Para o produto notebook dell as vendas em 2019 foram R$ 422,760 e em 2020 foram R$ 694,913. O crescimento foi de 64.38%\n",
      "Para o produto notebook hp as vendas em 2019 foram R$ 154,753 e em 2020 foram R$ 539,704. O crescimento foi de 248.75%\n",
      "Para o produto notebook asus as vendas em 2019 foram R$ 887,061 e em 2020 foram R$ 324,831. Indicando uma queda de -63.38%\n",
      "Para o produto microsoft surface as vendas em 2019 foram R$ 438,508 e em 2020 foram R$ 667,179. O crescimento foi de 52.15%\n",
      "Para o produto webcam as vendas em 2019 foram R$ 237,467 e em 2020 foram R$ 295,633. O crescimento foi de 24.49%\n",
      "Para o produto caixa de som as vendas em 2019 foram R$ 489,705 e em 2020 foram R$ 725,316. O crescimento foi de 48.11%\n",
      "Para o produto microfone as vendas em 2019 foram R$ 328,311 e em 2020 foram R$ 644,622. O crescimento foi de 96.34%\n",
      "Para o produto câmera canon as vendas em 2019 foram R$ 591,120 e em 2020 foram R$ 994,303. O crescimento foi de 68.21%\n"
     ]
    }
   ],
   "source": [
    "produtos = ['iphone', 'galaxy', 'ipad', 'tv', 'máquina de café', 'kindle', 'geladeira', 'adega', 'notebook dell', 'notebook hp', 'notebook asus', 'microsoft surface', 'webcam', 'caixa de som', 'microfone', 'câmera canon']\n",
    "vendas2019 = [558147,712350,573823,405252,718654,531580,973139,892292,422760,154753,887061,438508,237467,489705,328311,591120]\n",
    "vendas2020 = [951642,244295,26964,787604,867660,78830,710331,646016,694913,539704,324831,667179,295633,725316,644622,994303]\n",
    "\n",
    "\n",
    "for i, produto in enumerate(produtos):\n",
    "\n",
    "    if vendas2020[i] > vendas2019[i]:\n",
    "        crescimento = vendas2020[i] / vendas2019[i] - 1\n",
    "        print('Para o produto {} as vendas em 2019 foram R$ {:,} e em 2020 foram R$ {:,}. O crescimento foi de {:.2%}'.format(produto, vendas2019[i], vendas2020[i], crescimento))\n",
    "    \n",
    "    else:\n",
    "        crescimento = vendas2020[i] / vendas2019[i] - 1\n",
    "        print('Para o produto {} as vendas em 2019 foram R$ {:,} e em 2020 foram R$ {:,}. Indicando uma queda de {:.2%}'.format(produto, vendas2019[i], vendas2020[i], crescimento))\n",
    "\n",
    "\n"
   ]
  },
  {
   "cell_type": "code",
   "execution_count": null,
   "metadata": {},
   "outputs": [],
   "source": []
  }
 ],
 "metadata": {
  "kernelspec": {
   "display_name": "Python 3",
   "language": "python",
   "name": "python3"
  },
  "language_info": {
   "codemirror_mode": {
    "name": "ipython",
    "version": 3
   },
   "file_extension": ".py",
   "mimetype": "text/x-python",
   "name": "python",
   "nbconvert_exporter": "python",
   "pygments_lexer": "ipython3",
   "version": "3.7.3"
  }
 },
 "nbformat": 4,
 "nbformat_minor": 4
}
