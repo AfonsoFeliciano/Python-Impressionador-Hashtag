{
 "cells": [
  {
   "cell_type": "markdown",
   "metadata": {},
   "source": [
    "# Métodos úteis em dicionários\n",
    "\n",
    "## items() dos dicionários\n",
    "\n",
    "### Estrutura:"
   ]
  },
  {
   "cell_type": "raw",
   "metadata": {},
   "source": [
    "itens_dicionario = dicionario.items()\n",
    "\n",
    "ou então:\n",
    "\n",
    "for item in dicionario.items()\n",
    "    cada item do dicionario em formato de tupla"
   ]
  },
  {
   "cell_type": "code",
   "execution_count": 1,
   "metadata": {},
   "outputs": [
    {
     "name": "stdout",
     "output_type": "stream",
     "text": [
      "dict_items([('notebook asus', 2450), ('iphone', 15000), ('samsung galaxy', 12000), ('tv samsung', 10000), ('ps5', 14300), ('tablet', 1720), ('notebook dell', 17000), ('ipad', 1000), ('tv philco', 2500), ('notebook hp', 1000)])\n"
     ]
    }
   ],
   "source": [
    "vendas_tecnologia = {'notebook asus': 2450, 'iphone': 15000, 'samsung galaxy': 12000, 'tv samsung': 10000, 'ps5': 14300, 'tablet': 1720, 'notebook dell': 17000, 'ipad': 1000, 'tv philco': 2500, 'notebook hp': 1000}\n",
    "\n",
    "itens_dicionario = vendas_tecnologia.items()\n",
    "print(itens_dicionario)\n"
   ]
  },
  {
   "cell_type": "code",
   "execution_count": 3,
   "metadata": {},
   "outputs": [
    {
     "name": "stdout",
     "output_type": "stream",
     "text": [
      "notebook asus: 2450 unidades\n",
      "iphone: 15000 unidades\n",
      "samsung galaxy: 12000 unidades\n",
      "tv samsung: 10000 unidades\n",
      "ps5: 14300 unidades\n",
      "tablet: 1720 unidades\n",
      "notebook dell: 17000 unidades\n",
      "ipad: 1000 unidades\n",
      "tv philco: 2500 unidades\n",
      "notebook hp: 1000 unidades\n"
     ]
    }
   ],
   "source": [
    "for produto, quantidade in vendas_tecnologia.items():\n",
    "    print('{}: {} unidades'.format(produto, quantidade))"
   ]
  },
  {
   "cell_type": "markdown",
   "metadata": {},
   "source": [
    "- Quais produtos venderam mais de 5000 unidades?"
   ]
  },
  {
   "cell_type": "code",
   "execution_count": 10,
   "metadata": {},
   "outputs": [
    {
     "name": "stdout",
     "output_type": "stream",
     "text": [
      "Forma 1\n",
      "iphone: 15000 unidades\n",
      "samsung galaxy: 12000 unidades\n",
      "tv samsung: 10000 unidades\n",
      "ps5: 14300 unidades\n",
      "notebook dell: 17000 unidades\n",
      "\n",
      "Forma 2\n",
      "iphone: 15000 unidades\n",
      "samsung galaxy: 12000 unidades\n",
      "tv samsung: 10000 unidades\n",
      "ps5: 14300 unidades\n",
      "notebook dell: 17000 unidades\n"
     ]
    }
   ],
   "source": [
    "#forma 1 -> usando apenas o dicionario e as chaves\n",
    "\n",
    "print('Forma 1')\n",
    "for chave in vendas_tecnologia:\n",
    "    if vendas_tecnologia[chave] > 5000:\n",
    "        print('{}: {} unidades'.format(chave, vendas_tecnologia[chave]))\n",
    "\n",
    "print('\\nForma 2')\n",
    "\n",
    "#forma 2 -> usando o dicionario.items()\n",
    "for produto, quantidade in vendas_tecnologia.items():\n",
    "    if quantidade > 5000:\n",
    "        print('{}: {} unidades'.format(produto,quantidade))"
   ]
  },
  {
   "cell_type": "markdown",
   "metadata": {},
   "source": [
    "# Listas importantes a partir do Dicionário\n",
    "\n",
    "### Métodos importantes:\n",
    "\n",
    ".keys() -> uma \"lista\" com todas as chaves do dicionario\n",
    "\n",
    ".values() -> uma \"lista\" com todos os valores do dicionario\n",
    "\n",
    "Obs: Se o dicionario for modificado, automaticamente essas variáveis são modificadas, mesmo tendo sido criadas anteriormente"
   ]
  },
  {
   "cell_type": "code",
   "execution_count": 11,
   "metadata": {},
   "outputs": [
    {
     "name": "stdout",
     "output_type": "stream",
     "text": [
      "dict_keys(['notebook asus', 'iphone', 'samsung galaxy', 'tv samsung', 'ps5', 'tablet', 'notebook dell', 'ipad', 'tv philco', 'notebook hp'])\n",
      "dict_values([2450, 15000, 12000, 10000, 14300, 1720, 17000, 1000, 2500, 1000])\n"
     ]
    }
   ],
   "source": [
    "chaves = vendas_tecnologia.keys()\n",
    "valores = vendas_tecnologia.values()\n",
    "print(chaves)\n",
    "print(valores)"
   ]
  },
  {
   "cell_type": "code",
   "execution_count": 13,
   "metadata": {},
   "outputs": [
    {
     "name": "stdout",
     "output_type": "stream",
     "text": [
      "dict_keys(['notebook asus', 'iphone', 'samsung galaxy', 'tv samsung', 'ps5', 'tablet', 'notebook dell', 'ipad', 'tv philco', 'notebook hp', 'liraphone'])\n",
      "dict_values([2450, 15000, 12000, 10000, 14300, 1720, 17000, 1000, 2500, 1000, 10])\n"
     ]
    }
   ],
   "source": [
    "vendas_tecnologia['liraphone'] = 10\n",
    "print(chaves)\n",
    "print(valores)\n",
    "print(list(chaves))\n",
    "print(list(valores))"
   ]
  },
  {
   "cell_type": "markdown",
   "metadata": {},
   "source": [
    "### O for vai funcionar normal em dict_listas, porque não deixa de ser uma lista de itens que pode ser percorrida (iterable), mas o que aprendemos de lista não necessariamente se aplicam a essas dict_listas.\n",
    "\n",
    "Para transformar as dict_listas em listas normais, usamos a função list:\n",
    "\n",
    "- lista_chaves = list(dicionario.keys())"
   ]
  },
  {
   "cell_type": "markdown",
   "metadata": {},
   "source": [
    "- Pode ser útil caso a gente queira fazer alguma organização das chaves. Ex: Imprimir uma lista com os valores em ordem alfabética, de forma que todas as tvs fiquem juntas, todos os iphone/ipad também e assim vai:"
   ]
  },
  {
   "cell_type": "code",
   "execution_count": 17,
   "metadata": {},
   "outputs": [
    {
     "name": "stdout",
     "output_type": "stream",
     "text": [
      "notebook asus: 2450 unidades\n",
      "iphone: 15000 unidades\n",
      "samsung galaxy: 12000 unidades\n",
      "tv samsung: 10000 unidades\n",
      "ps5: 14300 unidades\n",
      "tablet: 1720 unidades\n",
      "notebook dell: 17000 unidades\n",
      "ipad: 1000 unidades\n",
      "tv philco: 2500 unidades\n",
      "notebook hp: 1000 unidades\n",
      "liraphone: 10 unidades\n",
      "----------------------------------------\n",
      "ipad: 1000 unidades\n",
      "iphone: 15000 unidades\n",
      "liraphone: 10 unidades\n",
      "notebook asus: 2450 unidades\n",
      "notebook dell: 17000 unidades\n",
      "notebook hp: 1000 unidades\n",
      "ps5: 14300 unidades\n",
      "samsung galaxy: 12000 unidades\n",
      "tablet: 1720 unidades\n",
      "tv philco: 2500 unidades\n",
      "tv samsung: 10000 unidades\n"
     ]
    }
   ],
   "source": [
    "for chave in vendas_tecnologia:\n",
    "     print('{}: {} unidades'.format(chave, vendas_tecnologia[chave]))\n",
    "print('-' * 40)\n",
    "\n",
    "#agora se quisermos organizar isso, fazemos:\n",
    "chaves = vendas_tecnologia.keys()\n",
    "valores = vendas_tecnologia.values()\n",
    "\n",
    "lista_chaves = list(chaves)\n",
    "lista_chaves.sort()\n",
    "\n",
    "for chave in lista_chaves:\n",
    "    print('{}: {} unidades'.format(chave, vendas_tecnologia[chave])) \n",
    "\n"
   ]
  }
 ],
 "metadata": {
  "kernelspec": {
   "display_name": "Python 3",
   "language": "python",
   "name": "python3"
  },
  "language_info": {
   "codemirror_mode": {
    "name": "ipython",
    "version": 3
   },
   "file_extension": ".py",
   "mimetype": "text/x-python",
   "name": "python",
   "nbconvert_exporter": "python",
   "pygments_lexer": "ipython3",
   "version": "3.7.3"
  }
 },
 "nbformat": 4,
 "nbformat_minor": 4
}
