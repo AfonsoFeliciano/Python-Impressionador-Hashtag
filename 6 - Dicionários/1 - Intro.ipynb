{
 "cells": [
  {
   "cell_type": "markdown",
   "metadata": {},
   "source": [
    "# Estrutura\n",
    "\n",
    "dicionario = {chave: valor, chave: valor, chave: valor ....}\n",
    "\n",
    "## Vantagens e desvantagens\n",
    "\n",
    "- Não devem ser usados para pegar itens em uma determinada ordem\n",
    "- Podem ter valores heterogêneos (vários tipos de valores diferentes)\n",
    "- Chaves são únicas obrigatoriamente\n",
    "- Mais intuitivos"
   ]
  },
  {
   "cell_type": "code",
   "execution_count": 13,
   "metadata": {},
   "outputs": [],
   "source": [
    "mais_vendidos = {'tecnologia': 'iphone', 'refrigeracao': 'ar consul 12000 btu', 'livros': 'o alquimista', 'eletrodoméstico': 'geladeira', 'lazer': 'prancha surf'}\n",
    "\n",
    "vendas_tecnologia = {'iphone': 15000, 'samsung galaxy': 12000, 'tv samsung': 10000, 'ps5': 14300, 'tablet': 1720, 'ipad': 1000, 'tv philco': 2500, 'notebook hp': 1000, 'notebook dell': 17000, 'notebook asus': 2450}"
   ]
  },
  {
   "cell_type": "markdown",
   "metadata": {},
   "source": [
    "- Qual foi o item mais vendido na categoria livros e lazer?\n",
    "- Quanto foi vendido de notebook asus e de ipad? "
   ]
  },
  {
   "cell_type": "code",
   "execution_count": 15,
   "metadata": {},
   "outputs": [
    {
     "name": "stdout",
     "output_type": "stream",
     "text": [
      "O livro mais vendido foi o alquimista\n",
      "O item de lazer mais vendido foi prancha surf\n"
     ]
    }
   ],
   "source": [
    "livro_mais_vendido = mais_vendidos['livros']\n",
    "lazer_mais_vendido = mais_vendidos['lazer']\n",
    "\n",
    "print('O livro mais vendido foi {}'.format(livro_mais_vendido))\n",
    "print('O item de lazer mais vendido foi {}'.format(lazer_mais_vendido))"
   ]
  },
  {
   "cell_type": "code",
   "execution_count": 16,
   "metadata": {},
   "outputs": [
    {
     "name": "stdout",
     "output_type": "stream",
     "text": [
      "O notebook asus teve 2450 vendas\n",
      "O ipad teve 1000 vendas\n"
     ]
    }
   ],
   "source": [
    "asus = vendas_tecnologia['notebook asus']\n",
    "ipad = vendas_tecnologia['ipad']\n",
    "\n",
    "print('O notebook asus teve {} vendas'.format(asus))\n",
    "print('O ipad teve {} vendas'.format(ipad))"
   ]
  }
 ],
 "metadata": {
  "kernelspec": {
   "display_name": "Python 3",
   "language": "python",
   "name": "python3"
  },
  "language_info": {
   "codemirror_mode": {
    "name": "ipython",
    "version": 3
   },
   "file_extension": ".py",
   "mimetype": "text/x-python",
   "name": "python",
   "nbconvert_exporter": "python",
   "pygments_lexer": "ipython3",
   "version": "3.7.3"
  },
  "orig_nbformat": 4
 },
 "nbformat": 4,
 "nbformat_minor": 2
}
