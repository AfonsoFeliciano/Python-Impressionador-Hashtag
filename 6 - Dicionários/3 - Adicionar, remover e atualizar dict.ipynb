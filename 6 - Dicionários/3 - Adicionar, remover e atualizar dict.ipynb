{
 "cells": [
  {
   "cell_type": "markdown",
   "metadata": {},
   "source": [
    "# Adicionar, Remover e Modificar Itens no Dicionário\n",
    "\n",
    "### Estrutura:\n",
    "\n",
    "- Adicionar itens:"
   ]
  },
  {
   "cell_type": "raw",
   "metadata": {},
   "source": [
    "dicionario = {}\n",
    "\n",
    "dicionario[chave] = valor\n",
    "\n",
    "outra opção:\n",
    "\n",
    "dicionario.update({chave: valor, chave: valor})"
   ]
  },
  {
   "cell_type": "code",
   "execution_count": 3,
   "metadata": {},
   "outputs": [
    {
     "name": "stdout",
     "output_type": "stream",
     "text": [
      "{'janeiro': 88000, 'fevereiro': 120000, 'março': 90000}\n"
     ]
    }
   ],
   "source": [
    "#Criação dos dicionários\n",
    "lucro_1tri = {'janeiro': 100000, 'fevereiro': 120000, 'março': 90000}\n",
    "lucro_2tri = {'abril': 88000, 'maio': 89000, 'junho': 120000}\n",
    "\n",
    "\n",
    "#Adicionando 1 item\n",
    "\n",
    "#Primeira forma\n",
    "#lucro_1tri['abril'] = 88000\n",
    "\n",
    "\n",
    "\n",
    "\n",
    "#Adicionando vários itens ou um dicionário a outro\n",
    "\n",
    "#Segunda forma\n",
    "#lucro_1tri.update(lucro_2tri)\n",
    "\n",
    "\n",
    "\n",
    "#Adicionando um item já existente (manualmente ou pelo update)\n",
    "#lucro_1tri['janeiro'] = 88000\n"
   ]
  },
  {
   "cell_type": "markdown",
   "metadata": {},
   "source": [
    "- Modificar itens:\n",
    "\n",
    "Da mesma forma que adicionamos 1 valor, caso essa chave já exista o item é apenas modificado.\n",
    "\n",
    "dicionario[chave] = valor\n",
    "\n",
    "Vamos modificar o lucro de fevereiro:<br>\n",
    "(Lembrando: caso o item não exista, ele vai criar o item no dicionário)"
   ]
  },
  {
   "cell_type": "code",
   "execution_count": 5,
   "metadata": {},
   "outputs": [
    {
     "name": "stdout",
     "output_type": "stream",
     "text": [
      "{'janeiro': 88000, 'fevereiro': 85000, 'março': 90000}\n"
     ]
    }
   ],
   "source": [
    "lucro_fev = 85000\n",
    "\n",
    "lucro_1tri['fevereiro'] = lucro_fev\n",
    "print(lucro_1tri)"
   ]
  },
  {
   "cell_type": "markdown",
   "metadata": {},
   "source": [
    "- Remover itens:\n",
    "\n",
    "del dicionario[chave]\n",
    "\n",
    "ou então\n",
    "\n",
    "valor = dicionario.pop(chave)\n",
    "\n",
    "mas cuidado com:\n",
    "\n",
    "del dicionario<br>    ->    que é diferente de dicionario.clear()"
   ]
  },
  {
   "cell_type": "code",
   "execution_count": 8,
   "metadata": {},
   "outputs": [
    {
     "name": "stdout",
     "output_type": "stream",
     "text": [
      "{'janeiro': 88000, 'fevereiro': 85000, 'março': 90000, 'junho': 12000}\n",
      "{'janeiro': 88000, 'fevereiro': 85000, 'março': 90000}\n"
     ]
    }
   ],
   "source": [
    "#removendo o mês de junho\n",
    "lucro_1tri['junho'] = 12000\n",
    "print(lucro_1tri)\n",
    "del lucro_1tri['junho']\n",
    "print(lucro_1tri)\n",
    "\n",
    "\n"
   ]
  },
  {
   "cell_type": "code",
   "execution_count": 9,
   "metadata": {},
   "outputs": [
    {
     "name": "stdout",
     "output_type": "stream",
     "text": [
      "{'janeiro': 88000, 'fevereiro': 85000, 'março': 90000, 'junho': 12000}\n",
      "Após remoção \n",
      "\n",
      "{'janeiro': 88000, 'fevereiro': 85000, 'março': 90000}\n",
      "12000\n"
     ]
    }
   ],
   "source": [
    "lucro_1tri['junho'] = 12000\n",
    "print(lucro_1tri)\n",
    "lucro_jun = lucro_1tri.pop('junho')\n",
    "print('Após remoção \\n')\n",
    "print(lucro_1tri)\n",
    "print(lucro_jun)\n",
    "\n"
   ]
  },
  {
   "cell_type": "markdown",
   "metadata": {},
   "source": [
    "Limpando dicionário"
   ]
  },
  {
   "cell_type": "code",
   "execution_count": 10,
   "metadata": {},
   "outputs": [
    {
     "name": "stdout",
     "output_type": "stream",
     "text": [
      "{'janeiro': 88000, 'fevereiro': 85000, 'março': 90000}\n",
      "{}\n"
     ]
    }
   ],
   "source": [
    "print(lucro_1tri)\n",
    "lucro_1tri.clear()\n",
    "print(lucro_1tri)"
   ]
  },
  {
   "cell_type": "code",
   "execution_count": 11,
   "metadata": {},
   "outputs": [
    {
     "name": "stdout",
     "output_type": "stream",
     "text": [
      "Lira\n"
     ]
    }
   ],
   "source": [
    "#obs: o del também funciona para listas, caso queira usar\n",
    "#del lista[i]\n",
    "funcionarios = ['João', 'Lira', 'Maria', 'Ana', 'Paula']\n",
    "del funcionarios[0]\n",
    "print(funcionarios[0])"
   ]
  }
 ],
 "metadata": {
  "kernelspec": {
   "display_name": "Python 3",
   "language": "python",
   "name": "python3"
  },
  "language_info": {
   "codemirror_mode": {
    "name": "ipython",
    "version": 3
   },
   "file_extension": ".py",
   "mimetype": "text/x-python",
   "name": "python",
   "nbconvert_exporter": "python",
   "pygments_lexer": "ipython3",
   "version": "3.7.3"
  }
 },
 "nbformat": 4,
 "nbformat_minor": 4
}
