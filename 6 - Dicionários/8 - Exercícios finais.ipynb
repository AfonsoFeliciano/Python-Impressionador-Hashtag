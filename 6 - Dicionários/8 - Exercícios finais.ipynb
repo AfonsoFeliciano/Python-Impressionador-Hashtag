{
 "cells": [
  {
   "cell_type": "markdown",
   "metadata": {},
   "source": [
    "# Exercícios\n",
    "\n",
    "## 1. Exercício \"menos prático\" para treinar manipulação de dicionário\n",
    "\n",
    "Dessa vez, vamos apenas treinar a manipulação de dicionário. Transforme as listas abaixo em 1 único dicionário no formato:"
   ]
  },
  {
   "cell_type": "raw",
   "metadata": {},
   "source": [
    "dicionario = {\n",
    "    produto: [vendas2019, vendas2020],\n",
    "    produto2: [vendas2019, vendas2020],\n",
    "    produto3: [vendas2019, vendas2020],\n",
    "    ...\n",
    "}"
   ]
  },
  {
   "cell_type": "markdown",
   "metadata": {},
   "source": [
    "- Apesar de parecer \"menos prático\" esse é um procedimento que precisamos nos acostumar a fazer, visto que algumas funções (tema dos próximos módulos) precisam de dicionários para funcionar e saber transformar listas em dicionários (e vice-versa) é uma habilidade muito útil\n",
    "\n",
    "Obs: Lembre do zip para juntar listas.<br>\n",
    "Obs2: Repare que cada item das vendas é na verdade uma lista. Então é provável que você precise fazer esse código em 2 etapas"
   ]
  },
  {
   "cell_type": "code",
   "execution_count": null,
   "metadata": {},
   "outputs": [],
   "source": [
    "produtos = ['iphone', 'galaxy', 'ipad', 'tv', 'máquina de café', 'kindle', 'geladeira', 'adega', 'notebook dell', 'notebook hp', 'notebook asus', 'microsoft surface', 'webcam', 'caixa de som', 'microfone', 'câmera canon']\n",
    "vendas2019 = [558147,712350,573823,405252,718654,531580,973139,892292,422760,154753,887061,438508,237467,489705,328311,591120]\n",
    "vendas2020 = [951642,244295,26964,787604,867660,78830,710331,646016,694913,539704,324831,667179,295633,725316,644622,994303]\n",
    "\n",
    "#seu código aqui\n"
   ]
  }
 ],
 "metadata": {
  "kernelspec": {
   "display_name": "Python 3",
   "language": "python",
   "name": "python3"
  },
  "language_info": {
   "codemirror_mode": {
    "name": "ipython",
    "version": 3
   },
   "file_extension": ".py",
   "mimetype": "text/x-python",
   "name": "python",
   "nbconvert_exporter": "python",
   "pygments_lexer": "ipython3",
   "version": "3.8.3"
  }
 },
 "nbformat": 4,
 "nbformat_minor": 4
}
