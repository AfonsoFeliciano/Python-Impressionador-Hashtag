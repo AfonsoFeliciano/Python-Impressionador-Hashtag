{
 "cells": [
  {
   "cell_type": "markdown",
   "metadata": {},
   "source": [
    "# Exercício - Mini Projeto de Análise de Dados\n",
    "\n",
    "Vamos fazer um exercício completo de pandas para um miniprojeto de análise de dados.\n",
    "\n",
    "Esse exercício vai obrigar a gente a usar boa parte dos conhecimento de pandas e até de outros módulos que já aprendemos ao longo do curso.\n",
    "\n",
    "### O que temos?\n",
    "\n",
    "Temos os dados de 2019 de uma empresa de prestação de serviços. \n",
    "\n",
    "- CadastroFuncionarios\n",
    "- CadastroClientes\n",
    "- BaseServiçosPrestados\n",
    "\n",
    "Obs1: Para ler arquivos csv, temos o read_csv<br>\n",
    "Obs2: Para ler arquivos xlsx (arquivos em excel normais, que não são padrão csv), temos o read_excel\n",
    "\n",
    "### O que queremos saber/fazer?\n",
    "\n",
    "1. Valor Total da Folha Salarial -> Qual foi o gasto total com salários de funcionários pela empresa? <br>\n",
    "    Sugestão: calcule o salário total de cada funcionário, salário + benefícios + impostos, depois some todos os salários\n",
    "    \n",
    "    \n",
    "2. Qual foi o faturamento da empresa?<br>\n",
    "    Sugestão: calcule o faturamento total de cada serviço e depois some o faturamento de todos\n",
    "    \n",
    "    \n",
    "3. Qual o % de funcionários que já fechou algum contrato?<br>\n",
    "    Sugestão: na base de serviços temos o funcionário que fechou cada serviço. Mas nem todos os funcionários que a empresa tem já fecharam algum serviço.<br>\n",
    "    . Na base de funcionários temos uma lista com todos os funcionários<br>\n",
    "    . Queremos calcular Qtde_Funcionarios_Fecharam_Serviço / Qtde_Funcionários_Totais<br>\n",
    "    . Para calcular a qtde de funcionários que fecharam algum serviço, use a base de serviços e conte quantos funcionários tem ali. Mas lembre-se, cada funcionário só pode ser contado uma única vez.<br><br>\n",
    "    Dica: se você aplicar o método .unique() em uma variável que é apenas 1 coluna de um dataframe, ele vai excluir todos os valores duplicados daquela coluna.<br>\n",
    "    Ex: unicos_colunaA = dataframe['colunaA'].unique() te dá como resposta uma lista com todos os itens da colunaA aparecendo uma única vez. Todos os valores repetidos da colunaA são excluidos da variável unicos_colunaA \n",
    "    \n",
    "    \n",
    "4. Calcule o total de contratos que cada área da empresa já fechou\n",
    "\n",
    "\n",
    "5. Calcule o total de funcionários por área\n",
    "\n",
    "\n",
    "6. Qual o ticket médio mensal (faturamento médio mensal) dos contratos?<br>\n",
    "    Dica: .mean() calcula a média -> exemplo: media_colunaA = dataframe['colunaA'].mean()\n",
    "\n",
    "Obs: Lembrando as opções mais usuais de encoding:<br>\n",
    "encoding='latin1', encoding='ISO-8859-1', encoding='utf-8' ou então encoding='cp1252'\n",
    "\n",
    "Observação Importante: Se o seu código der um erro na hora de importar os arquivos:<br>\n",
    "- CadastroClientes.csv\n",
    "- CadastroFuncionarios.csv\n",
    "\n",
    "Use separador \";\" (ponto e vírgula) para resolver e inclua o parâmetro decimal ',' para o pandas identificar os números corretamente"
   ]
  },
  {
   "cell_type": "markdown",
   "metadata": {},
   "source": [
    "### Import dos módulos e leitura dos dataframes"
   ]
  },
  {
   "cell_type": "code",
   "execution_count": 1,
   "metadata": {},
   "outputs": [],
   "source": [
    "import pandas as pd"
   ]
  },
  {
   "cell_type": "code",
   "execution_count": 21,
   "metadata": {},
   "outputs": [],
   "source": [
    "#Importando as bases\n",
    "df_base_servicos = pd.read_excel(r'files/BaseServiçosPrestados.xlsx')\n",
    "df_cadastro_clientes = pd.read_csv(r'files/CadastroClientes.csv', sep=';')\n",
    "df_cadastro_funcionarios = pd.read_csv(r'files/CadastroFuncionarios.csv', sep=';', decimal=',')"
   ]
  },
  {
   "cell_type": "code",
   "execution_count": 22,
   "metadata": {},
   "outputs": [],
   "source": [
    "#Selecionado as colunas necessárias\n",
    "df_cadastro_funcionarios = df_cadastro_funcionarios.drop(['Estado Civil', 'Cargo'], axis=1)"
   ]
  },
  {
   "cell_type": "markdown",
   "metadata": {},
   "source": [
    "### 1 - Folha Salarial\n",
    "Valor Total da Folha Salarial -> Qual foi o gasto total com salários de funcionários pela empresa? <br>\n",
    "    Sugestão: calcule o salário total de cada funcionário, salário + benefícios + impostos, depois some todos os salários"
   ]
  },
  {
   "cell_type": "code",
   "execution_count": 23,
   "metadata": {},
   "outputs": [
    {
     "name": "stdout",
     "output_type": "stream",
     "text": [
      "O total da folha mensal é de: R$ 2,717,493.22\n"
     ]
    }
   ],
   "source": [
    "df_cadastro_funcionarios['Salario Total'] = df_cadastro_funcionarios['Salario Base'] + df_cadastro_funcionarios['Impostos']  \\\n",
    "                                            + df_cadastro_funcionarios['Beneficios'] + df_cadastro_funcionarios['VT'] \\\n",
    "                                            + df_cadastro_funcionarios['VR']\n",
    "\n",
    "total_gasto = df_cadastro_funcionarios['Salario Total'].sum()\n",
    "print('O total da folha mensal é de: R$ {:,}'.format( total_gasto))\n"
   ]
  },
  {
   "cell_type": "markdown",
   "metadata": {},
   "source": [
    "### 2 - Faturamento da empresa\n",
    "Qual foi o faturamento da empresa?<br>\n",
    "    Sugestão: calcule o faturamento total de cada serviço e depois some o faturamento de todos"
   ]
  },
  {
   "cell_type": "code",
   "execution_count": 34,
   "metadata": {},
   "outputs": [
    {
     "name": "stdout",
     "output_type": "stream",
     "text": [
      "O total faturado foi de: R$ 5,519,160\n"
     ]
    }
   ],
   "source": [
    "#Join dos dataframes selecionando as colunas necessárias\n",
    "df_faturamento = df_base_servicos[['ID Cliente', 'Tempo Total de Contrato (Meses)']].merge(df_cadastro_clientes[['ID Cliente', 'Valor Contrato Mensal']], on='ID Cliente')\n",
    "\n",
    "#Cálcula o faturamento por serviço e cliente\n",
    "df_faturamento['Total Faturamento'] = df_faturamento['Tempo Total de Contrato (Meses)'] * df_faturamento['Valor Contrato Mensal']\n",
    "\n",
    "#Calcula o total faturado\n",
    "total_faturado = df_faturamento['Total Faturamento'].sum()\n",
    "\n",
    "#Exibe o total faturado\n",
    "print('O total faturado foi de: R$ {:,}'.format(total_faturado))\n"
   ]
  },
  {
   "cell_type": "code",
   "execution_count": 50,
   "metadata": {},
   "outputs": [
    {
     "name": "stdout",
     "output_type": "stream",
     "text": [
      "O percentual foi de 86.84%\n"
     ]
    }
   ],
   "source": [
    "funcionarios_servicos_fechados = df_base_servicos['ID Funcionário'].nunique()\n",
    "total_funcionarios = df_cadastro_funcionarios['ID Funcionário'].nunique()\n",
    "percentual = funcionarios_servicos_fechados / total_funcionarios\n",
    "\n",
    "print('O percentual foi de {:.2%}'.format(percentual))\n"
   ]
  },
  {
   "cell_type": "markdown",
   "metadata": {},
   "source": [
    "Outra proposta, seria: "
   ]
  },
  {
   "cell_type": "code",
   "execution_count": 51,
   "metadata": {},
   "outputs": [
    {
     "name": "stdout",
     "output_type": "stream",
     "text": [
      "O percentual foi de 86.84%\n"
     ]
    }
   ],
   "source": [
    "funcionarios_servicos_fechados = len(df_base_servicos['ID Funcionário'].unique())\n",
    "total_funcionarios = len(df_cadastro_funcionarios['ID Funcionário'].unique())\n",
    "percentual = funcionarios_servicos_fechados / total_funcionarios\n",
    "\n",
    "print('O percentual foi de {:.2%}'.format(percentual))"
   ]
  },
  {
   "cell_type": "markdown",
   "metadata": {},
   "source": [
    "### 4 - Calculando o total de contratos que cada área da empresa já fechou"
   ]
  },
  {
   "cell_type": "code",
   "execution_count": 66,
   "metadata": {},
   "outputs": [
    {
     "data": {
      "text/plain": [
       "ID Funcionário  Area          \n",
       "47              Operações         6\n",
       "37              Financeiro        5\n",
       "84              Logística         5\n",
       "4               Administrativo    5\n",
       "54              Administrativo    4\n",
       "                                 ..\n",
       "79              Operações         1\n",
       "85              Operações         1\n",
       "93              Financeiro        1\n",
       "99              Administrativo    1\n",
       "150             Comercial         1\n",
       "Length: 99, dtype: int64"
      ]
     },
     "execution_count": 66,
     "metadata": {},
     "output_type": "execute_result"
    }
   ],
   "source": [
    "df_area = df_base_servicos[['ID Funcionário']].merge(df_cadastro_funcionarios[['ID Funcionário', 'Area']], on='ID Funcionário')\n",
    "contratos_por_area_df = df_area.value_counts()\n",
    "contratos_por_area_df\n"
   ]
  },
  {
   "cell_type": "markdown",
   "metadata": {},
   "source": [
    "### 5 - Calculando o total de funcionários por área"
   ]
  },
  {
   "cell_type": "code",
   "execution_count": 73,
   "metadata": {},
   "outputs": [
    {
     "data": {
      "text/html": [
       "<div>\n",
       "<style scoped>\n",
       "    .dataframe tbody tr th:only-of-type {\n",
       "        vertical-align: middle;\n",
       "    }\n",
       "\n",
       "    .dataframe tbody tr th {\n",
       "        vertical-align: top;\n",
       "    }\n",
       "\n",
       "    .dataframe thead th {\n",
       "        text-align: right;\n",
       "    }\n",
       "</style>\n",
       "<table border=\"1\" class=\"dataframe\">\n",
       "  <thead>\n",
       "    <tr style=\"text-align: right;\">\n",
       "      <th></th>\n",
       "      <th>ID Funcionário</th>\n",
       "    </tr>\n",
       "    <tr>\n",
       "      <th>Area</th>\n",
       "      <th></th>\n",
       "    </tr>\n",
       "  </thead>\n",
       "  <tbody>\n",
       "    <tr>\n",
       "      <th>Administrativo</th>\n",
       "      <td>26</td>\n",
       "    </tr>\n",
       "    <tr>\n",
       "      <th>Comercial</th>\n",
       "      <td>26</td>\n",
       "    </tr>\n",
       "    <tr>\n",
       "      <th>Financeiro</th>\n",
       "      <td>18</td>\n",
       "    </tr>\n",
       "    <tr>\n",
       "      <th>Logística</th>\n",
       "      <td>21</td>\n",
       "    </tr>\n",
       "    <tr>\n",
       "      <th>Operações</th>\n",
       "      <td>23</td>\n",
       "    </tr>\n",
       "  </tbody>\n",
       "</table>\n",
       "</div>"
      ],
      "text/plain": [
       "                ID Funcionário\n",
       "Area                          \n",
       "Administrativo              26\n",
       "Comercial                   26\n",
       "Financeiro                  18\n",
       "Logística                   21\n",
       "Operações                   23"
      ]
     },
     "execution_count": 73,
     "metadata": {},
     "output_type": "execute_result"
    }
   ],
   "source": [
    "funcionarios_area_df = df_cadastro_funcionarios[['ID Funcionário', 'Area']]\n",
    "funcionarios_area_df.groupby('Area').count()"
   ]
  },
  {
   "cell_type": "markdown",
   "metadata": {},
   "source": [
    "Outra proposta"
   ]
  },
  {
   "cell_type": "code",
   "execution_count": 75,
   "metadata": {},
   "outputs": [
    {
     "data": {
      "text/plain": [
       "<AxesSubplot:>"
      ]
     },
     "execution_count": 75,
     "metadata": {},
     "output_type": "execute_result"
    },
    {
     "data": {
      "image/png": "[encoded data removed]",
      "text/plain": [
       "<Figure size 432x288 with 1 Axes>"
      ]
     },
     "metadata": {
      "needs_background": "light"
     },
     "output_type": "display_data"
    }
   ],
   "source": [
    "funcionarios_area_df = df_cadastro_funcionarios['Area'].value_counts()\n",
    "funcionarios_area_df\n",
    "funcionarios_area_df.plot(kind='bar')"
   ]
  },
  {
   "cell_type": "markdown",
   "metadata": {},
   "source": [
    "### 6 - Ticket Médio Mensal\n",
    "Qual o ticket médio mensal (faturamento médio mensal) dos contratos?<br>\n",
    "    Dica: .mean() calcula a média -> exemplo: media_colunaA = dataframe['colunaA'].mean()"
   ]
  },
  {
   "cell_type": "code",
   "execution_count": 79,
   "metadata": {},
   "outputs": [
    {
     "name": "stdout",
     "output_type": "stream",
     "text": [
      "O ticket médio mensal é de R$ 2,502.56\n"
     ]
    }
   ],
   "source": [
    "ticket_medio = df_cadastro_clientes['Valor Contrato Mensal'].mean()\n",
    "print('O ticket médio mensal é de R$ {:,.2f}'.format(ticket_medio))"
   ]
  }
 ],
 "metadata": {
  "kernelspec": {
   "display_name": "Python 3.9.12 ('base')",
   "language": "python",
   "name": "python3"
  },
  "language_info": {
   "codemirror_mode": {
    "name": "ipython",
    "version": 3
   },
   "file_extension": ".py",
   "mimetype": "text/x-python",
   "name": "python",
   "nbconvert_exporter": "python",
   "pygments_lexer": "ipython3",
   "version": "3.9.12"
  },
  "vscode": {
   "interpreter": {
    "hash": "ad2bdc8ecc057115af97d19610ffacc2b4e99fae6737bb82f5d7fb13d2f2c186"
   }
  }
 },
 "nbformat": 4,
 "nbformat_minor": 4
}
