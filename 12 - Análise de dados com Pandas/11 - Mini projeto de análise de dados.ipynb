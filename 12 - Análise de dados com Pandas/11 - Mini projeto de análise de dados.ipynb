{
 "cells": [
  {
   "cell_type": "markdown",
   "metadata": {},
   "source": [
    "# Exercício - Mini Projeto de Análise de Dados\n",
    "\n",
    "Vamos fazer um exercício completo de pandas para um miniprojeto de análise de dados.\n",
    "\n",
    "Esse exercício vai obrigar a gente a usar boa parte dos conhecimento de pandas e até de outros módulos que já aprendemos ao longo do curso.\n",
    "\n",
    "### O que temos?\n",
    "\n",
    "Temos os dados de 2019 de uma empresa de prestação de serviços. \n",
    "\n",
    "- CadastroFuncionarios\n",
    "- CadastroClientes\n",
    "- BaseServiçosPrestados\n",
    "\n",
    "Obs1: Para ler arquivos csv, temos o read_csv<br>\n",
    "Obs2: Para ler arquivos xlsx (arquivos em excel normais, que não são padrão csv), temos o read_excel\n",
    "\n",
    "### O que queremos saber/fazer?\n",
    "\n",
    "1. Valor Total da Folha Salarial -> Qual foi o gasto total com salários de funcionários pela empresa? <br>\n",
    "    Sugestão: calcule o salário total de cada funcionário, salário + benefícios + impostos, depois some todos os salários\n",
    "    \n",
    "    \n",
    "2. Qual foi o faturamento da empresa?<br>\n",
    "    Sugestão: calcule o faturamento total de cada serviço e depois some o faturamento de todos\n",
    "    \n",
    "    \n",
    "3. Qual o % de funcionários que já fechou algum contrato?<br>\n",
    "    Sugestão: na base de serviços temos o funcionário que fechou cada serviço. Mas nem todos os funcionários que a empresa tem já fecharam algum serviço.<br>\n",
    "    . Na base de funcionários temos uma lista com todos os funcionários<br>\n",
    "    . Queremos calcular Qtde_Funcionarios_Fecharam_Serviço / Qtde_Funcionários_Totais<br>\n",
    "    . Para calcular a qtde de funcionários que fecharam algum serviço, use a base de serviços e conte quantos funcionários tem ali. Mas lembre-se, cada funcionário só pode ser contado uma única vez.<br><br>\n",
    "    Dica: se você aplicar o método .unique() em uma variável que é apenas 1 coluna de um dataframe, ele vai excluir todos os valores duplicados daquela coluna.<br>\n",
    "    Ex: unicos_colunaA = dataframe['colunaA'].unique() te dá como resposta uma lista com todos os itens da colunaA aparecendo uma única vez. Todos os valores repetidos da colunaA são excluidos da variável unicos_colunaA \n",
    "    \n",
    "    \n",
    "4. Calcule o total de contratos que cada área da empresa já fechou\n",
    "\n",
    "\n",
    "5. Calcule o total de funcionários por área\n",
    "\n",
    "\n",
    "6. Qual o ticket médio mensal (faturamento médio mensal) dos contratos?<br>\n",
    "    Dica: .mean() calcula a média -> exemplo: media_colunaA = dataframe['colunaA'].mean()\n",
    "\n",
    "Obs: Lembrando as opções mais usuais de encoding:<br>\n",
    "encoding='latin1', encoding='ISO-8859-1', encoding='utf-8' ou então encoding='cp1252'\n",
    "\n",
    "Observação Importante: Se o seu código der um erro na hora de importar os arquivos:<br>\n",
    "- CadastroClientes.csv\n",
    "- CadastroFuncionarios.csv\n",
    "\n",
    "Use separador \";\" (ponto e vírgula) para resolver e inclua o parâmetro decimal ',' para o pandas identificar os números corretamente"
   ]
  },
  {
   "cell_type": "markdown",
   "metadata": {},
   "source": [
    "### Import dos módulos e leitura dos dataframes"
   ]
  },
  {
   "cell_type": "code",
   "execution_count": 1,
   "metadata": {},
   "outputs": [],
   "source": [
    "import pandas as pd"
   ]
  },
  {
   "cell_type": "code",
   "execution_count": 21,
   "metadata": {},
   "outputs": [],
   "source": [
    "#Importando as bases\n",
    "df_base_servicos = pd.read_excel(r'files/BaseServiçosPrestados.xlsx')\n",
    "df_cadastro_clientes = pd.read_csv(r'files/CadastroClientes.csv', sep=';')\n",
    "df_cadastro_funcionarios = pd.read_csv(r'files/CadastroFuncionarios.csv', sep=';', decimal=',')"
   ]
  },
  {
   "cell_type": "code",
   "execution_count": 22,
   "metadata": {},
   "outputs": [],
   "source": [
    "#Selecionado as colunas necessárias\n",
    "df_cadastro_funcionarios = df_cadastro_funcionarios.drop(['Estado Civil', 'Cargo'], axis=1)"
   ]
  },
  {
   "cell_type": "markdown",
   "metadata": {},
   "source": [
    "### 1 - Folha Salarial\n",
    "Valor Total da Folha Salarial -> Qual foi o gasto total com salários de funcionários pela empresa? <br>\n",
    "    Sugestão: calcule o salário total de cada funcionário, salário + benefícios + impostos, depois some todos os salários"
   ]
  },
  {
   "cell_type": "code",
   "execution_count": 23,
   "metadata": {},
   "outputs": [
    {
     "name": "stdout",
     "output_type": "stream",
     "text": [
      "O total da folha mensal é de: R$ 2,717,493.22\n"
     ]
    }
   ],
   "source": [
    "df_cadastro_funcionarios['Salario Total'] = df_cadastro_funcionarios['Salario Base'] + df_cadastro_funcionarios['Impostos']  \\\n",
    "                                            + df_cadastro_funcionarios['Beneficios'] + df_cadastro_funcionarios['VT'] \\\n",
    "                                            + df_cadastro_funcionarios['VR']\n",
    "\n",
    "total_gasto = df_cadastro_funcionarios['Salario Total'].sum()\n",
    "print('O total da folha mensal é de: R$ {:,}'.format( total_gasto))\n"
   ]
  },
  {
   "cell_type": "markdown",
   "metadata": {},
   "source": [
    "### 2 - Faturamento da empresa\n",
    "Qual foi o faturamento da empresa?<br>\n",
    "    Sugestão: calcule o faturamento total de cada serviço e depois some o faturamento de todos"
   ]
  },
  {
   "cell_type": "code",
   "execution_count": 34,
   "metadata": {},
   "outputs": [
    {
     "name": "stdout",
     "output_type": "stream",
     "text": [
      "O total faturado foi de: R$ 5,519,160\n"
     ]
    }
   ],
   "source": [
    "#Join dos dataframes selecionando as colunas necessárias\n",
    "df_faturamento = df_base_servicos[['ID Cliente', 'Tempo Total de Contrato (Meses)']].merge(df_cadastro_clientes[['ID Cliente', 'Valor Contrato Mensal']], on='ID Cliente')\n",
    "\n",
    "#Cálcula o faturamento por serviço e cliente\n",
    "df_faturamento['Total Faturamento'] = df_faturamento['Tempo Total de Contrato (Meses)'] * df_faturamento['Valor Contrato Mensal']\n",
    "\n",
    "#Calcula o total faturado\n",
    "total_faturado = df_faturamento['Total Faturamento'].sum()\n",
    "\n",
    "#Exibe o total faturado\n",
    "print('O total faturado foi de: R$ {:,}'.format(total_faturado))\n"
   ]
  },
  {
   "cell_type": "code",
   "execution_count": 50,
   "metadata": {},
   "outputs": [
    {
     "name": "stdout",
     "output_type": "stream",
     "text": [
      "O percentual foi de 86.84%\n"
     ]
    }
   ],
   "source": [
    "funcionarios_servicos_fechados = df_base_servicos['ID Funcionário'].nunique()\n",
    "total_funcionarios = df_cadastro_funcionarios['ID Funcionário'].nunique()\n",
    "percentual = funcionarios_servicos_fechados / total_funcionarios\n",
    "\n",
    "print('O percentual foi de {:.2%}'.format(percentual))\n"
   ]
  },
  {
   "cell_type": "markdown",
   "metadata": {},
   "source": [
    "Outra proposta, seria: "
   ]
  },
  {
   "cell_type": "code",
   "execution_count": 51,
   "metadata": {},
   "outputs": [
    {
     "name": "stdout",
     "output_type": "stream",
     "text": [
      "O percentual foi de 86.84%\n"
     ]
    }
   ],
   "source": [
    "funcionarios_servicos_fechados = len(df_base_servicos['ID Funcionário'].unique())\n",
    "total_funcionarios = len(df_cadastro_funcionarios['ID Funcionário'].unique())\n",
    "percentual = funcionarios_servicos_fechados / total_funcionarios\n",
    "\n",
    "print('O percentual foi de {:.2%}'.format(percentual))"
   ]
  }
 ],
 "metadata": {
  "kernelspec": {
   "display_name": "Python 3.9.12 ('base')",
   "language": "python",
   "name": "python3"
  },
  "language_info": {
   "codemirror_mode": {
    "name": "ipython",
    "version": 3
   },
   "file_extension": ".py",
   "mimetype": "text/x-python",
   "name": "python",
   "nbconvert_exporter": "python",
   "pygments_lexer": "ipython3",
   "version": "3.9.12"
  },
  "vscode": {
   "interpreter": {
    "hash": "ad2bdc8ecc057115af97d19610ffacc2b4e99fae6737bb82f5d7fb13d2f2c186"
   }
  }
 },
 "nbformat": 4,
 "nbformat_minor": 4
}
