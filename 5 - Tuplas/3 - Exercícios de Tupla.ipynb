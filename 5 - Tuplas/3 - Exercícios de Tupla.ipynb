{
 "cells": [
  {
   "cell_type": "markdown",
   "metadata": {},
   "source": [
    "# Exercícios\n",
    "\n",
    "São exercícios bem parecidos com os que fizemos com listas. Mas na tupla, podemos não só trabalhar com índices, mas fazer o \"unpacking\" das tuplas, o que pode facilitar nossos códigos.\n",
    "\n",
    "## 1. Análise de Vendas\n",
    "\n",
    "Nesse exercício vamos fazer uma \"análise simples\" de atingimento de Meta.\n",
    "\n",
    "Temos uma lista com os vendedores e os valores de vendas e queremos identificar (printar) quais os vendedores que bateram a meta e qual foi o valor que eles venderam."
   ]
  },
  {
   "cell_type": "code",
   "execution_count": 1,
   "metadata": {},
   "outputs": [],
   "source": [
    "meta = 10000\n",
    "vendas = [\n",
    "    ('João', 15000),\n",
    "    ('Julia', 27000),\n",
    "    ('Marcus', 9900),\n",
    "    ('Maria', 3750),\n",
    "    ('Ana', 10300),\n",
    "    ('Alon', 7870),\n",
    "]"
   ]
  },
  {
   "cell_type": "code",
   "execution_count": 4,
   "metadata": {},
   "outputs": [
    {
     "name": "stdout",
     "output_type": "stream",
     "text": [
      "O vendedor João bateu a meta pois vendeu 15000 unidades\n",
      "O vendedor Julia bateu a meta pois vendeu 27000 unidades\n",
      "O vendedor Ana bateu a meta pois vendeu 10300 unidades\n"
     ]
    }
   ],
   "source": [
    "for vendedor, valor in vendas:\n",
    "    if valor >= meta:\n",
    "        print('O vendedor {} bateu a meta pois vendeu {} unidades'.format(vendedor, valor))\n",
    "    "
   ]
  },
  {
   "cell_type": "markdown",
   "metadata": {},
   "source": [
    "## 2. Comparação com Ano Anterior\n",
    "\n",
    "Digamos que você está analisando as vendas de produtos de um ecommerce e quer identificar quais produtos tiveram no ano de 2020 mais vendas do que no ano de 2019, para reportar isso para a diretoria.\n",
    "\n",
    "Sua resposta pode ser um print de cada produto, qual foi a venda de 2019, a venda de 2020 e o % de crescimento de 2020 para 2019.\n",
    "\n",
    "Lembrando, para calcular o % de crescimento de um produto de um ano para o outro, podemos fazer: (vendas_produto2020/vendas_produto2019 - 1)\n",
    "\n",
    "A lógica da tupla é: (produto, vendas2019, vendas2020)"
   ]
  },
  {
   "cell_type": "code",
   "execution_count": 6,
   "metadata": {},
   "outputs": [],
   "source": [
    "vendas_produtos = [('iphone', 558147, 951642), ('galaxy', 712350, 244295), ('ipad', 573823, 26964), ('tv', 405252, 787604), ('máquina de café', 718654, 867660), ('kindle', 531580, 78830), ('geladeira', 973139, 710331), ('adega', 892292, 646016), ('notebook dell', 422760, 694913), ('notebook hp', 154753, 539704), ('notebook asus', 887061, 324831), ('microsoft surface', 438508, 667179), ('webcam', 237467, 295633), ('caixa de som', 489705, 725316), ('microfone', 328311, 644622), ('câmera canon', 591120, 994303)]"
   ]
  },
  {
   "cell_type": "code",
   "execution_count": 11,
   "metadata": {},
   "outputs": [
    {
     "name": "stdout",
     "output_type": "stream",
     "text": [
      "O produto iphone vendeu 558147 em 2019 e em 2020 teve 951642 de vendas. Houve um crescimento de 70.50%\n",
      "O produto tv vendeu 405252 em 2019 e em 2020 teve 787604 de vendas. Houve um crescimento de 94.35%\n",
      "O produto máquina de café vendeu 718654 em 2019 e em 2020 teve 867660 de vendas. Houve um crescimento de 20.73%\n",
      "O produto notebook dell vendeu 422760 em 2019 e em 2020 teve 694913 de vendas. Houve um crescimento de 64.38%\n",
      "O produto notebook hp vendeu 154753 em 2019 e em 2020 teve 539704 de vendas. Houve um crescimento de 248.75%\n",
      "O produto microsoft surface vendeu 438508 em 2019 e em 2020 teve 667179 de vendas. Houve um crescimento de 52.15%\n",
      "O produto webcam vendeu 237467 em 2019 e em 2020 teve 295633 de vendas. Houve um crescimento de 24.49%\n",
      "O produto caixa de som vendeu 489705 em 2019 e em 2020 teve 725316 de vendas. Houve um crescimento de 48.11%\n",
      "O produto microfone vendeu 328311 em 2019 e em 2020 teve 644622 de vendas. Houve um crescimento de 96.34%\n",
      "O produto câmera canon vendeu 591120 em 2019 e em 2020 teve 994303 de vendas. Houve um crescimento de 68.21%\n"
     ]
    }
   ],
   "source": [
    "for produto, venda2019, venda2020 in vendas_produtos:\n",
    "    if venda2020 > venda2019:\n",
    "        print('O produto {} vendeu {} em 2019 e em 2020 teve {} de vendas. Houve um crescimento de {:.2%}'.format(produto, venda2019, venda2020, venda2020 / venda2019 - 1 ))"
   ]
  }
 ],
 "metadata": {
  "kernelspec": {
   "display_name": "Python 3",
   "language": "python",
   "name": "python3"
  },
  "language_info": {
   "codemirror_mode": {
    "name": "ipython",
    "version": 3
   },
   "file_extension": ".py",
   "mimetype": "text/x-python",
   "name": "python",
   "nbconvert_exporter": "python",
   "pygments_lexer": "ipython3",
   "version": "3.7.3"
  }
 },
 "nbformat": 4,
 "nbformat_minor": 4
}
