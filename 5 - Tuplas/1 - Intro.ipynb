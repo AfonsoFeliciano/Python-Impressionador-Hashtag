{
 "cells": [
  {
   "cell_type": "markdown",
   "metadata": {},
   "source": [
    "# Tuplas\n",
    "\n",
    "## Estrutura:\n",
    "\n",
    "tupla = (valor1, valor2 ... valor10)\n",
    "\n",
    "## Diferença\n",
    "\n",
    "Os valores da tupla não podem ser alterados\n",
    "\n",
    "## Vantagens\n",
    "\n",
    "- Mais eficiente em termos de performance\n",
    "- Protege a base de dados por ser imutável\n",
    "- Utilizada em dados heterogêneos"
   ]
  },
  {
   "cell_type": "markdown",
   "metadata": {},
   "source": [
    "## Criando a tupla"
   ]
  },
  {
   "cell_type": "code",
   "execution_count": 1,
   "metadata": {},
   "outputs": [],
   "source": [
    "vendas = ('Afonso', '01/01/2021', 'Geladeira', 5000)"
   ]
  },
  {
   "cell_type": "markdown",
   "metadata": {},
   "source": [
    "## Acessando os valores"
   ]
  },
  {
   "cell_type": "code",
   "execution_count": 2,
   "metadata": {},
   "outputs": [],
   "source": [
    "nome = vendas[0]\n",
    "data = vendas[1]\n",
    "produto = vendas[2]\n",
    "valor = vendas[3]"
   ]
  },
  {
   "cell_type": "code",
   "execution_count": 3,
   "metadata": {},
   "outputs": [
    {
     "name": "stdout",
     "output_type": "stream",
     "text": [
      "Nome: Afonso\n",
      "Data: 01/01/2021\n",
      "Produto: Geladeira\n",
      "Valor: 5000\n"
     ]
    }
   ],
   "source": [
    "print('Nome: {}'.format(nome))\n",
    "print('Data: {}'.format(data))\n",
    "print('Produto: {}'.format(produto))\n",
    "print('Valor: {}'.format(valor))"
   ]
  },
  {
   "cell_type": "code",
   "execution_count": 5,
   "metadata": {},
   "outputs": [],
   "source": [
    "#Outra forma de acessar os elementos da tupla\n",
    "nome, data, produto, valor = vendas"
   ]
  },
  {
   "cell_type": "markdown",
   "metadata": {},
   "source": [
    "- o enumerate pode ser utilizado criando uma tupla"
   ]
  },
  {
   "cell_type": "code",
   "execution_count": 6,
   "metadata": {},
   "outputs": [
    {
     "name": "stdout",
     "output_type": "stream",
     "text": [
      "Joao vendeu 1000 unidades\n",
      "Maria vendeu 2000 unidades\n",
      "Pedro vendeu 300 unidades\n",
      "Cris vendeu 150 unidades\n",
      "Gomes vendeu 200 unidades\n"
     ]
    }
   ],
   "source": [
    "vendas = [1000, 2000, 300, 150, 200]\n",
    "funcionarios = ['Joao', 'Maria', 'Pedro', 'Cris', 'Gomes']\n",
    "\n",
    "for i, venda in enumerate(vendas):\n",
    "    print('{} vendeu {} unidades'.format(funcionarios[i], venda))\n"
   ]
  },
  {
   "cell_type": "code",
   "execution_count": 8,
   "metadata": {},
   "outputs": [
    {
     "name": "stdout",
     "output_type": "stream",
     "text": [
      "(0, 1000)\n",
      "(1, 2000)\n",
      "(2, 300)\n",
      "(3, 150)\n",
      "(4, 200)\n"
     ]
    }
   ],
   "source": [
    "#Observando a tupla\n",
    "for item in enumerate(vendas):\n",
    "    print(item)"
   ]
  }
 ],
 "metadata": {
  "kernelspec": {
   "display_name": "Python 3",
   "language": "python",
   "name": "python3"
  },
  "language_info": {
   "codemirror_mode": {
    "name": "ipython",
    "version": 3
   },
   "file_extension": ".py",
   "mimetype": "text/x-python",
   "name": "python",
   "nbconvert_exporter": "python",
   "pygments_lexer": "ipython3",
   "version": "3.7.3"
  },
  "orig_nbformat": 4,
  "vscode": {
   "interpreter": {
    "hash": "ad2bdc8ecc057115af97d19610ffacc2b4e99fae6737bb82f5d7fb13d2f2c186"
   }
  }
 },
 "nbformat": 4,
 "nbformat_minor": 2
}
