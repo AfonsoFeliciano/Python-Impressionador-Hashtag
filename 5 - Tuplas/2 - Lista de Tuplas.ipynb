{
 "cells": [
  {
   "cell_type": "markdown",
   "metadata": {},
   "source": [
    "# Aplicação de Tupla - Lista de Tuplas\n",
    "\n",
    "### Estrutura:\n",
    "\n",
    "Além de casos como o do enumerate, em que usamos uma função para transformar itens em tuplas porque isso ajuda o nosso código, temos também listas de tuplas como algo comum dentro do Python."
   ]
  },
  {
   "cell_type": "raw",
   "metadata": {},
   "source": [
    "lista = [\n",
    "    tupla1,\n",
    "    tupla2,\n",
    "    tupla3,\n",
    "    ]\n",
    "    \n",
    "ou seja\n",
    "\n",
    "lista = [\n",
    "    (valor1, valor2, valor3),\n",
    "    (valor4, valor5, valor6),\n",
    "    (valor7, valor8, valor9),\n",
    "    ]"
   ]
  },
  {
   "cell_type": "markdown",
   "metadata": {},
   "source": [
    "### Exemplo:\n",
    "\n",
    "Digamos que você está analisando as vendas do Banco de Dados de um e-commerce.\n",
    "\n",
    "Em um determinado dia, você extraiu as vendas do Banco de Dados e elas vieram nesse formato:"
   ]
  },
  {
   "cell_type": "code",
   "execution_count": 1,
   "metadata": {},
   "outputs": [],
   "source": [
    "vendas = [\n",
    "    ('20/08/2020', 'iphone x', 'azul', '128gb', 350, 4000),\n",
    "    ('20/08/2020', 'iphone x', 'prata', '128gb', 1500, 4000),\n",
    "    ('20/08/2020', 'ipad', 'prata', '256gb', 127, 6000),\n",
    "    ('20/08/2020', 'ipad', 'prata', '128gb', 981, 5000),\n",
    "    ('21/08/2020', 'iphone x', 'azul', '128gb', 397, 4000),\n",
    "    ('21/08/2020', 'iphone x', 'prata', '128gb', 1017, 4000),\n",
    "    ('21/08/2020', 'ipad', 'prata', '256gb', 50, 6000),\n",
    "    ('21/08/2020', 'ipad', 'prata', '128gb', 4000, 5000),\n",
    "]"
   ]
  },
  {
   "cell_type": "markdown",
   "metadata": {},
   "source": [
    "- Qual foi o faturamento de IPhone no dia 20/08/2020?\n",
    "- Qual foi o produto mais vendido (em unidades) no dia 21/08/2020?"
   ]
  },
  {
   "cell_type": "code",
   "execution_count": 11,
   "metadata": {},
   "outputs": [
    {
     "name": "stdout",
     "output_type": "stream",
     "text": [
      "O faturamento é de 7400000 para o dia 20/08/2020\n"
     ]
    }
   ],
   "source": [
    "faturamento = 0\n",
    "\n",
    "for item in vendas:\n",
    "    data, produto, cor, capacidade, unidades, valor_unitario = item\n",
    "    if produto == 'iphone x' and data == '20/08/2020':\n",
    "        faturamento += unidades * valor_unitario\n",
    "\n",
    "print('O faturamento é de {} para o dia 20/08/2020'.format(faturamento))"
   ]
  },
  {
   "cell_type": "markdown",
   "metadata": {},
   "source": [
    "Simplificando, trocando\n",
    "\n",
    "\n",
    "```\n",
    "for item in vendas:\n",
    "    data, produto, cor, capacidade, unidades, valor_unitario = item\n",
    "```\n",
    "\n",
    "por \n",
    "\n",
    "```\n",
    "for data, produto, cor, capacidade, unidades, valor_unitario in vendas:\n",
    "```"
   ]
  },
  {
   "cell_type": "code",
   "execution_count": 12,
   "metadata": {},
   "outputs": [
    {
     "name": "stdout",
     "output_type": "stream",
     "text": [
      "O faturamento é de 7400000 para o dia 20/08/2020\n"
     ]
    }
   ],
   "source": [
    "faturamento = 0\n",
    "\n",
    "for data, produto, cor, capacidade, unidades, valor_unitario in vendas:\n",
    "    if produto == 'iphone x' and data == '20/08/2020':\n",
    "        faturamento += unidades * valor_unitario\n",
    "\n",
    "print('O faturamento é de {} para o dia 20/08/2020'.format(faturamento))"
   ]
  },
  {
   "cell_type": "markdown",
   "metadata": {},
   "source": [
    "Respondendo a segunda pergunta\n",
    "\n",
    "- Qual foi o produto mais vendido (em unidades) no dia 21/08/2020?"
   ]
  },
  {
   "cell_type": "code",
   "execution_count": 20,
   "metadata": {},
   "outputs": [
    {
     "name": "stdout",
     "output_type": "stream",
     "text": [
      "O produto mais vendido foi o ipad com capacidade de 128gb e cor prata com 4000 unidades\n"
     ]
    }
   ],
   "source": [
    "produto_mais_vendido = ''\n",
    "quantidade_produto_mais_vendido = 0\n",
    "cor_produto_mais_vendido = ''\n",
    "capacidade_produto_mais_vendido = ''\n",
    "\n",
    "for data, produto, cor, capacidade, unidades, valor_unitario in vendas:\n",
    "    if data == '21/08/2020':\n",
    "        if unidades > quantidade_produto_mais_vendido:\n",
    "            produto_mais_vendido = produto\n",
    "            quantidade_produto_mais_vendido = unidades\n",
    "            cor_produto_mais_vendido = cor\n",
    "            capacidade_produto_mais_vendido = capacidade\n",
    "\n",
    "print('O produto mais vendido foi o {} com capacidade de {} e cor {} com {} unidades'.format(produto_mais_vendido, capacidade_produto_mais_vendido, cor_produto_mais_vendido, quantidade_produto_mais_vendido))\n"
   ]
  },
  {
   "cell_type": "code",
   "execution_count": null,
   "metadata": {},
   "outputs": [],
   "source": []
  }
 ],
 "metadata": {
  "kernelspec": {
   "display_name": "Python 3",
   "language": "python",
   "name": "python3"
  },
  "language_info": {
   "codemirror_mode": {
    "name": "ipython",
    "version": 3
   },
   "file_extension": ".py",
   "mimetype": "text/x-python",
   "name": "python",
   "nbconvert_exporter": "python",
   "pygments_lexer": "ipython3",
   "version": "3.7.3"
  }
 },
 "nbformat": 4,
 "nbformat_minor": 4
}
