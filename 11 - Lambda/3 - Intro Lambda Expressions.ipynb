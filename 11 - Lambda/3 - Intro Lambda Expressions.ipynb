{
 "cells": [
  {
   "cell_type": "markdown",
   "metadata": {},
   "source": [
    "# Lambda Expressions\n",
    "\n",
    "### Objetivo:\n",
    "\n",
    "- As lambdas expressions são funções anônimas (sem nome mesmo) que tem 1 linha de código e são atribuidas a uma variável, como se a variável virasse uma função.\n",
    "- Elas normalmente são usadas para fazer uma única ação, mas em Python usamos principalmente dentro de métodos como argumento, para não precisarmos criar uma função só para isso (vamos ver isso na aula que vem)\n",
    "- Outra aplicação delas está em criar um \"gerador de funções\" (vamos ver na 3ª Aula dessa Seção)\n",
    "\n",
    "### Obs\n",
    "\n",
    "- Não é \"obrigatório\" usar lambda expression, até porque praticamente tudo o que você faz com elas você consegue fazer com functions normais. Mas, é importante saber entender quando encontrar e saber usar a medida que você for se acostumando e vendo necessidade\n",
    "\n",
    "### Estrutura:"
   ]
  },
  {
   "cell_type": "raw",
   "metadata": {},
   "source": [
    "minha_funcao = lambda parametro: expressão"
   ]
  },
  {
   "cell_type": "markdown",
   "metadata": {},
   "source": [
    "- Exemplo mais simples"
   ]
  },
  {
   "cell_type": "code",
   "execution_count": 4,
   "metadata": {},
   "outputs": [
    {
     "name": "stdout",
     "output_type": "stream",
     "text": [
      "Função convencional 10\n",
      "Função lambda 10\n"
     ]
    }
   ],
   "source": [
    "def funcao(num):\n",
    "    return num * 2\n",
    "print('Função convencional', funcao(5))\n",
    "\n",
    "\n",
    "funcao2 = lambda num: num * 2\n",
    "print('Função lambda', funcao2(5))"
   ]
  },
  {
   "cell_type": "markdown",
   "metadata": {},
   "source": [
    "- Exemplo útil: Vamos usar lambda expressions para criar uma função que calcula o preço dos produtos acrescido do imposto"
   ]
  },
  {
   "cell_type": "code",
   "execution_count": 5,
   "metadata": {},
   "outputs": [],
   "source": [
    "imposto = 0.3\n",
    "\n",
    "def preco_imposto(preco):\n",
    "    return preco * (1 + 0.3)\n",
    "\n",
    "preco_imposto_2 = lambda preco: preco * (1 + 0.3)\n"
   ]
  },
  {
   "cell_type": "code",
   "execution_count": 7,
   "metadata": {},
   "outputs": [
    {
     "name": "stdout",
     "output_type": "stream",
     "text": [
      "Função convencional 130.0\n",
      "Lambda 130.0\n"
     ]
    }
   ],
   "source": [
    "print('Função convencional', preco_imposto(100))\n",
    "print('Lambda', preco_imposto_2(100))"
   ]
  }
 ],
 "metadata": {
  "kernelspec": {
   "display_name": "Python 3.9.12 ('base')",
   "language": "python",
   "name": "python3"
  },
  "language_info": {
   "codemirror_mode": {
    "name": "ipython",
    "version": 3
   },
   "file_extension": ".py",
   "mimetype": "text/x-python",
   "name": "python",
   "nbconvert_exporter": "python",
   "pygments_lexer": "ipython3",
   "version": "3.9.12"
  },
  "vscode": {
   "interpreter": {
    "hash": "ad2bdc8ecc057115af97d19610ffacc2b4e99fae6737bb82f5d7fb13d2f2c186"
   }
  }
 },
 "nbformat": 4,
 "nbformat_minor": 4
}
