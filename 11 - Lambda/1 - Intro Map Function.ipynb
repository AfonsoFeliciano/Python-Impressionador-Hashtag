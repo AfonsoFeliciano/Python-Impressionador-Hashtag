{
 "cells": [
  {
   "cell_type": "markdown",
   "metadata": {},
   "source": [
    "# Function em iterables\n",
    "\n",
    "### Possui a mesma lógica de list comprehension, porém é mais simples\n",
    "\n",
    "Alguns métodos existente no Python podem rodar uma function para cada item\n",
    "\n",
    "### map function:"
   ]
  },
  {
   "cell_type": "raw",
   "metadata": {},
   "source": [
    "lista = list(map(função, iterable_original))"
   ]
  },
  {
   "cell_type": "markdown",
   "metadata": {},
   "source": [
    "- Exemplo mais simples"
   ]
  },
  {
   "cell_type": "code",
   "execution_count": 1,
   "metadata": {},
   "outputs": [],
   "source": [
    "def padronizar_texto(texto):\n",
    "    texto = texto.casefold()\n",
    "    texto = texto.replace(\"  \", \" \")\n",
    "    texto = texto.strip()\n",
    "    return texto"
   ]
  },
  {
   "cell_type": "markdown",
   "metadata": {},
   "source": [
    "- Agora serão padronizados uma lista de códigos"
   ]
  },
  {
   "cell_type": "code",
   "execution_count": 2,
   "metadata": {},
   "outputs": [],
   "source": [
    "produtos = ['  ABC12', 'acD14', 'aBCcd121', '   BEDS21 ']"
   ]
  },
  {
   "cell_type": "markdown",
   "metadata": {},
   "source": [
    "Utilizando o for, é necessário percorrer toda a lista"
   ]
  },
  {
   "cell_type": "code",
   "execution_count": 4,
   "metadata": {},
   "outputs": [
    {
     "name": "stdout",
     "output_type": "stream",
     "text": [
      "['abc12', 'acd14', 'abccd121', 'beds21']\n"
     ]
    }
   ],
   "source": [
    "for i, produto in enumerate(produtos):\n",
    "    produtos[i] = padronizar_texto(produto)\n",
    "print(produtos)"
   ]
  },
  {
   "cell_type": "markdown",
   "metadata": {},
   "source": [
    "Utilizando o map, basta chamar a função."
   ]
  },
  {
   "cell_type": "code",
   "execution_count": 5,
   "metadata": {},
   "outputs": [
    {
     "name": "stdout",
     "output_type": "stream",
     "text": [
      "['abc12', 'acd14', 'abccd121', 'beds21']\n"
     ]
    }
   ],
   "source": [
    "produtos = list(map(padronizar_texto, produtos))\n",
    "print(produtos)"
   ]
  }
 ],
 "metadata": {
  "kernelspec": {
   "display_name": "Python 3.9.12 ('base')",
   "language": "python",
   "name": "python3"
  },
  "language_info": {
   "codemirror_mode": {
    "name": "ipython",
    "version": 3
   },
   "file_extension": ".py",
   "mimetype": "text/x-python",
   "name": "python",
   "nbconvert_exporter": "python",
   "pygments_lexer": "ipython3",
   "version": "3.9.12"
  },
  "vscode": {
   "interpreter": {
    "hash": "ad2bdc8ecc057115af97d19610ffacc2b4e99fae6737bb82f5d7fb13d2f2c186"
   }
  }
 },
 "nbformat": 4,
 "nbformat_minor": 4
}
