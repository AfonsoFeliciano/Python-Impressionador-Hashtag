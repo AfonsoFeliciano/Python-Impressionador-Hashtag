{
 "cells": [
  {
   "cell_type": "markdown",
   "metadata": {},
   "source": [
    "# Um exemplo prático de List Comprehension\n",
    "\n",
    "### O que faríamos se quisermos ordenar 2 listas \"relacionadas\""
   ]
  },
  {
   "cell_type": "code",
   "execution_count": 5,
   "metadata": {},
   "outputs": [
    {
     "name": "stdout",
     "output_type": "stream",
     "text": [
      "[(1500, 'vinho'), (150, 'cafeiteira'), (2100, 'microondas'), (1950, 'iphone')]\n",
      "[(2100, 'microondas'), (1950, 'iphone'), (1500, 'vinho'), (150, 'cafeiteira')]\n",
      "['microondas', 'iphone', 'vinho', 'cafeiteira']\n"
     ]
    }
   ],
   "source": [
    "vendas_produtos = [1500, 150, 2100, 1950]\n",
    "produtos = ['vinho', 'cafeiteira', 'microondas', 'iphone']\n",
    "\n",
    "#Transformando as listas em tuplas e posteriormente em lista de tuplas\n",
    "lista_aux = list(zip(vendas_produtos, produtos))\n",
    "print(lista_aux)\n",
    "\n",
    "#Ordenando a lista de tuplas\n",
    "lista_aux.sort(reverse=True)\n",
    "print(lista_aux)\n",
    "\n",
    "#Realizando o unpacking utilizando list comprehension\n",
    "produtos = [produto for vendas, produto in lista_aux]\n",
    "print(produtos)\n"
   ]
  }
 ],
 "metadata": {
  "kernelspec": {
   "display_name": "Python 3.9.12 ('base')",
   "language": "python",
   "name": "python3"
  },
  "language_info": {
   "codemirror_mode": {
    "name": "ipython",
    "version": 3
   },
   "file_extension": ".py",
   "mimetype": "text/x-python",
   "name": "python",
   "nbconvert_exporter": "python",
   "pygments_lexer": "ipython3",
   "version": "3.9.12"
  },
  "vscode": {
   "interpreter": {
    "hash": "ad2bdc8ecc057115af97d19610ffacc2b4e99fae6737bb82f5d7fb13d2f2c186"
   }
  }
 },
 "nbformat": 4,
 "nbformat_minor": 4
}
