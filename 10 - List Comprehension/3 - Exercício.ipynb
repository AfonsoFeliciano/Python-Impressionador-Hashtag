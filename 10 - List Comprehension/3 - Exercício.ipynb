{
 "cells": [
  {
   "cell_type": "markdown",
   "metadata": {},
   "source": [
    "# Exercícios\n",
    "\n",
    "## 1. Tirando informações de listas e dicionários\n",
    "\n",
    "Digamos que você está analisando as vendas de produtos de uma empresa de varejo.\n",
    "\n",
    "Essa lista tem: (produto, vendas de 2019, vendas de 2020) para cada produto.\n",
    "\n",
    "Crie uma lista com as vendas de 2019."
   ]
  },
  {
   "cell_type": "code",
   "execution_count": 11,
   "metadata": {},
   "outputs": [
    {
     "name": "stdout",
     "output_type": "stream",
     "text": [
      "[558147, 712350, 573823, 405252, 718654, 531580, 973139, 892292, 422760, 154753, 887061, 438508, 237467, 489705, 328311, 591120]\n",
      "[558147, 712350, 573823, 405252, 718654, 531580, 973139, 892292, 422760, 154753, 887061, 438508, 237467, 489705, 328311, 591120]\n",
      "\n",
      "\n",
      "[951642, 244295, 26964, 787604, 867660, 78830, 710331, 646016, 694913, 539704, 324831, 667179, 295633, 725316, 644622, 994303]\n",
      "[951642, 244295, 26964, 787604, 867660, 78830, 710331, 646016, 694913, 539704, 324831, 667179, 295633, 725316, 644622, 994303]\n"
     ]
    }
   ],
   "source": [
    "vendas_produtos = [('iphone', 558147, 951642), ('galaxy', 712350, 244295), ('ipad', 573823, 26964), ('tv', 405252, 787604), ('máquina de café', 718654, 867660), ('kindle', 531580, 78830), ('geladeira', 973139, 710331), ('adega', 892292, 646016), ('notebook dell', 422760, 694913), ('notebook hp', 154753, 539704), ('notebook asus', 887061, 324831), ('microsoft surface', 438508, 667179), ('webcam', 237467, 295633), ('caixa de som', 489705, 725316), ('microfone', 328311, 644622), ('câmera canon', 591120, 994303)]\n",
    "\n",
    "#realizando unpacking\n",
    "lista_vendas_2019 = []\n",
    "lista_vendas_2020 = []\n",
    "\n",
    "for produto, vendas2019, vendas2020 in vendas_produtos:\n",
    "    lista_vendas_2019.append(vendas2019)\n",
    "    lista_vendas_2020.append(vendas2020)\n",
    "\n",
    "#realizando unpacking list comprehension\n",
    "lista_vendas_2019_lc = [vendas2019 for produto, vendas2019, vendas2020 in vendas_produtos]\n",
    "lista_vendas_2020_lc = [vendas2020 for produto, vendas2019, vendas2020 in vendas_produtos]\n",
    "\n",
    "\n",
    "#printando\n",
    "print(lista_vendas_2019)\n",
    "print(lista_vendas_2019_lc)\n",
    "print('\\n')\n",
    "\n",
    "\n",
    "print(lista_vendas_2020)\n",
    "print(lista_vendas_2020_lc)"
   ]
  },
  {
   "cell_type": "markdown",
   "metadata": {},
   "source": [
    "- Agora, qual o maior valor de vendas de 2019?"
   ]
  },
  {
   "cell_type": "code",
   "execution_count": 12,
   "metadata": {},
   "outputs": [
    {
     "name": "stdout",
     "output_type": "stream",
     "text": [
      "973139\n"
     ]
    }
   ],
   "source": [
    "print(max(lista_vendas_2019_lc))"
   ]
  },
  {
   "cell_type": "markdown",
   "metadata": {},
   "source": [
    "- E se eu quisesse descobrir o produto que mais vendeu em 2019?\n",
    "Temos 2 formas de fazer, refazendo o list comprehension ou consultando a lista original"
   ]
  },
  {
   "cell_type": "code",
   "execution_count": 15,
   "metadata": {},
   "outputs": [
    {
     "name": "stdout",
     "output_type": "stream",
     "text": [
      "(973139, 'geladeira')\n"
     ]
    }
   ],
   "source": [
    "lista_vendas_produto_2019_lc = [(vendas2019, produto) for produto, vendas2019, vendas2020 in vendas_produtos]\n",
    "print(max(lista_vendas_produto_2019_lc))"
   ]
  }
 ],
 "metadata": {
  "kernelspec": {
   "display_name": "Python 3.9.12 ('base')",
   "language": "python",
   "name": "python3"
  },
  "language_info": {
   "codemirror_mode": {
    "name": "ipython",
    "version": 3
   },
   "file_extension": ".py",
   "mimetype": "text/x-python",
   "name": "python",
   "nbconvert_exporter": "python",
   "pygments_lexer": "ipython3",
   "version": "3.9.12"
  },
  "vscode": {
   "interpreter": {
    "hash": "ad2bdc8ecc057115af97d19610ffacc2b4e99fae6737bb82f5d7fb13d2f2c186"
   }
  }
 },
 "nbformat": 4,
 "nbformat_minor": 4
}
