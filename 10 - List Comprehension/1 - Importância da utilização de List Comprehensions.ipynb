{
 "cells": [
  {
   "cell_type": "markdown",
   "metadata": {},
   "source": [
    "# List Comprehension - O que é e qual a importância?\n",
    "\n",
    "### Descrição:\n",
    "\n",
    "- List Comprehension é uma forma de iterar pelos elementas das listas de maneira \"mais direta\", com mais \"cara de Python\"\n",
    "- Em resumo: é como se você fizesse um \"for\" em 1 linha de código\n",
    "\n",
    "### Observação Importante:\n",
    "\n",
    "- Você não precisa de List comprehension para programar, tudo que vamos mostrar aqui dá pra fazer do jeito que já aprendemos\n",
    "- Você não vai sair de uma hora pra outra fazendo tudo list comprehension ao invés de for, porque é realmente mais confuso.\n",
    "- O objetivo aqui é:\n",
    "    1. Saber ler e entender o que tá acontecendo quando ver list comprehension (principal)\n",
    "    2. A medida do tempo você vai se acostumando com isso, vendo mais, usando mais e vai fazer naturalmente quando precisar.\n",
    "    \n",
    "- Mas se você sair desse módulo do curso achando isso tudo muito difícil, fica tranquilo, não usa por hora list comprehension e a medida que você for pegando mais experiência com o Python você lembra que tem esse módulo aqui e pode voltar no futuro\n",
    "\n",
    "### Estrutura:"
   ]
  },
  {
   "cell_type": "raw",
   "metadata": {},
   "source": [
    "lista = [expressão for item in iterable]"
   ]
  },
  {
   "cell_type": "code",
   "execution_count": 1,
   "metadata": {},
   "outputs": [],
   "source": [
    "preco_produtos = [100, 150, 300, 5500]\n",
    "produtos = ['vinho', 'cafeiteira', 'microondas', 'iphone']\n",
    "\n",
    "#digamos que o imposto sobre os produtos é de 30%, ou seja, 0.3. Como eu faria para criar uma lista com os \n",
    "#valores de imposto de cada produto?"
   ]
  },
  {
   "cell_type": "markdown",
   "metadata": {},
   "source": [
    "- Usando um for"
   ]
  },
  {
   "cell_type": "code",
   "execution_count": 2,
   "metadata": {},
   "outputs": [
    {
     "name": "stdout",
     "output_type": "stream",
     "text": [
      "[30.0, 45.0, 90.0, 1650.0]\n"
     ]
    }
   ],
   "source": [
    "impostos = []\n",
    "for item in preco_produtos:\n",
    "    impostos.append(item * 0.3)\n",
    "print(impostos)"
   ]
  },
  {
   "cell_type": "markdown",
   "metadata": {},
   "source": [
    "- Usando list comprehension"
   ]
  },
  {
   "cell_type": "code",
   "execution_count": 3,
   "metadata": {},
   "outputs": [
    {
     "name": "stdout",
     "output_type": "stream",
     "text": [
      "[30.0, 45.0, 90.0, 1650.0]\n"
     ]
    }
   ],
   "source": [
    "impostos = [preco * 0.3 for preco in preco_produtos]\n",
    "print(impostos)"
   ]
  },
  {
   "cell_type": "markdown",
   "metadata": {},
   "source": [
    "- A \"expressão\" na list comprehension pode ser uma function tb"
   ]
  },
  {
   "cell_type": "code",
   "execution_count": 6,
   "metadata": {},
   "outputs": [
    {
     "name": "stdout",
     "output_type": "stream",
     "text": [
      "[30.0, 45.0, 90.0, 1650.0]\n"
     ]
    }
   ],
   "source": [
    "def calcular_imposto(preco, imposto):\n",
    "    return preco * imposto\n",
    "\n",
    "impostos = [calcular_imposto(preco, 0.3) for preco in preco_produtos]\n",
    "print(impostos)"
   ]
  },
  {
   "cell_type": "markdown",
   "metadata": {},
   "source": [
    "### Observação:\n",
    "\n",
    "- Normalmente isso é usado quando queremos fazer uma única ação com os itens de uma lista. Não é obrigatório, mas é comum de encontrar principalmente com programadores mais experientes/preocupados com \"a melhor forma de fazer alguma coisa\"\n",
    "\n",
    "- Cuidado: se a sua lista for MUITO grande, o list comprehension pode acabar sendo difícil de compilar. Nesses casos podemos usar funções, for tradicionais com breaks para interromper ou até bibliotecas como o panda que trabalham bem com muitos dados"
   ]
  }
 ],
 "metadata": {
  "kernelspec": {
   "display_name": "Python 3.9.12 ('base')",
   "language": "python",
   "name": "python3"
  },
  "language_info": {
   "codemirror_mode": {
    "name": "ipython",
    "version": 3
   },
   "file_extension": ".py",
   "mimetype": "text/x-python",
   "name": "python",
   "nbconvert_exporter": "python",
   "pygments_lexer": "ipython3",
   "version": "3.9.12"
  },
  "vscode": {
   "interpreter": {
    "hash": "ad2bdc8ecc057115af97d19610ffacc2b4e99fae6737bb82f5d7fb13d2f2c186"
   }
  }
 },
 "nbformat": 4,
 "nbformat_minor": 4
}
