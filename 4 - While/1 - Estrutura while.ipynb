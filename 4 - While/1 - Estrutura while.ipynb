{
 "cells": [
  {
   "cell_type": "markdown",
   "metadata": {},
   "source": [
    "# Funcionamento\n",
    "\n",
    "O while é utilizado para repetir o código de maneira indeterminada até uma condição ser alterada. "
   ]
  },
  {
   "cell_type": "raw",
   "metadata": {},
   "source": [
    "while condicao:\n",
    "    repete o codigo"
   ]
  },
  {
   "cell_type": "markdown",
   "metadata": {},
   "source": [
    "- Exemplo 1: Quanto uma automação é criada\n",
    "- Exemplo 2: Criando um programa que funciona como registro de vendas de uma empresa\n",
    "\n",
    "Nesse programa deve ser inserido o nome do produto e o produto precisa ser inserido na lista de venda. Enquanto o usuário não encerra o programa, significa que ele está registrando novos produtos."
   ]
  },
  {
   "cell_type": "code",
   "execution_count": 9,
   "metadata": {},
   "outputs": [
    {
     "name": "stdout",
     "output_type": "stream",
     "text": [
      "Registro finalizado. Os produtos cadastrados foram: ['arroz', 'feijao', 'macarrao']\n"
     ]
    }
   ],
   "source": [
    "venda = input('Registro o produto. Para cancelar o registro de um produto aperte enter sem informar nada.')\n",
    "vendas = []\n",
    "\n",
    "while venda != '':\n",
    "    vendas.append(venda)\n",
    "    venda = input('Registro o produto. Para cancelar o registro de um produto aperte enter sem informar nada.')\n",
    "\n",
    "\n",
    "print('Registro finalizado. Os produtos cadastrados foram: {}'.format(vendas))\n"
   ]
  },
  {
   "cell_type": "code",
   "execution_count": null,
   "metadata": {},
   "outputs": [],
   "source": []
  }
 ],
 "metadata": {
  "kernelspec": {
   "display_name": "Python 3",
   "language": "python",
   "name": "python3"
  },
  "language_info": {
   "codemirror_mode": {
    "name": "ipython",
    "version": 3
   },
   "file_extension": ".py",
   "mimetype": "text/x-python",
   "name": "python",
   "nbconvert_exporter": "python",
   "pygments_lexer": "ipython3",
   "version": "3.7.3"
  },
  "orig_nbformat": 4
 },
 "nbformat": 4,
 "nbformat_minor": 2
}
