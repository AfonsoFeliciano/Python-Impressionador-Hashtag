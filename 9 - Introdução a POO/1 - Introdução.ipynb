{
 "cells": [
  {
   "cell_type": "markdown",
   "metadata": {},
   "source": [
    "# Introdução a Orientação a Objeto\n",
    "\n",
    "### Regras Gerais:\n",
    "\n",
    "- Tudo no Python é um objeto.\n",
    "    - String é objeto\n",
    "    - Lista é objeto\n",
    "    - Dicionários são objetos\n",
    "    ...\n",
    "\n",
    "### Comparação Clássica\n",
    "\n",
    "- Pense no Controle Remoto de uma Televisão.\n",
    "    - O Controle é um objeto\n",
    "    - Cada botão dele é um comando, um método.\n",
    "    - Cada método faz 1 ação específica\n",
    "        - Por trás de cada método (dentro do controle) podem acontecer milhares de coisas quando você aperta 1 botão, mas no fundo você tá cagando pra isso, só quer que o botão faça o que você mandou quando você clicar no botão."
   ]
  },
  {
   "cell_type": "markdown",
   "metadata": {},
   "source": [
    "### Em termos práticos no Python\n",
    "\n",
    "- Isso significa que todos eles tem métodos específicos, ou seja, já existe programado no Python várias coisas que você consegue fazer com ele.\n",
    "    - Exemplo: Strings\n",
    "        - Quando no Python criaram a string, eles programaram lá em algum lugar que texto[i] vai te dar o caracter na posição i do texto\n",
    "        - Também criaram o método texto.upper() que torna toda a string em letra maiúscula\n",
    "        - Também criaram o método texto.casefold() que coloca tudo em letra minúscula\n",
    "        - E assim vai para tudo que temos no Python\n",
    "\n",
    "- Em termos práticos, você já deve ter reparado que fazemos muito coisas do tipo variavel.método()\n",
    "    - 'Produto {}: {} unidades vendidas'.format(produto, quantidade)\n",
    "    - lista.append('ABC12304')\n",
    "    - texto.count()\n",
    "    - ..."
   ]
  },
  {
   "cell_type": "markdown",
   "metadata": {},
   "source": [
    "### E para onde vamos com isso agora? Qual a grande vantagem?\n",
    "\n",
    "- A vantagem é que agora vamos aprender a importar módulos novos\n",
    "- Então tem MUITAS, mas MUITAS coisas que já estão prontas no Python que a gente não precisa programar do zero. A gente vai simplesmente importar e usar.\n",
    "- E repare, quando a gente importar, o que na prática estaremos fazendo é importar 1 ou mais objetos que tem vários métodos já prontos para usarmos.\n",
    "\n",
    "### Exemplo: E se eu quisesse criar um código que abrisse o meu navegador em um site específico? Para poder puxar uma informação ou preencher um formulário? -> Próxima Aula"
   ]
  }
 ],
 "metadata": {
  "kernelspec": {
   "display_name": "Python 3",
   "language": "python",
   "name": "python3"
  },
  "language_info": {
   "codemirror_mode": {
    "name": "ipython",
    "version": 3
   },
   "file_extension": ".py",
   "mimetype": "text/x-python",
   "name": "python",
   "nbconvert_exporter": "python",
   "pygments_lexer": "ipython3",
   "version": "3.8.3"
  }
 },
 "nbformat": 4,
 "nbformat_minor": 4
}
