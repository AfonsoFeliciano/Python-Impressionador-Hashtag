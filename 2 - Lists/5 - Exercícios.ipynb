{
 "cells": [
  {
   "cell_type": "markdown",
   "metadata": {},
   "source": [
    "# Exercícios \n",
    "## 1 Faturamento do melhor e do pior mês do ano\n",
    "\n",
    "Qual foi o valor de vendas do melhor mês do ano? E o valor do pior mês do ano? "
   ]
  },
  {
   "cell_type": "code",
   "execution_count": 92,
   "metadata": {},
   "outputs": [],
   "source": [
    "meses = ['jan', 'fev', 'mar', 'abr', 'mai', 'jun', 'ago', 'set', 'out', 'nov', 'dez']\n",
    "vendas_1_sem = [1000, 2000, 3000, 500, 120, 10000]\n",
    "vendas_2_sem = [500, 3250, 10, 50850, 130, 9999]"
   ]
  },
  {
   "cell_type": "code",
   "execution_count": 93,
   "metadata": {},
   "outputs": [
    {
     "name": "stdout",
     "output_type": "stream",
     "text": [
      "Todas as vendas do ano [1000, 2000, 3000, 500, 120, 10000, 500, 3250, 10, 50850, 130, 9999], sendo a pior venda o valor de 10 e a melhor venda o valor de 50850\n"
     ]
    }
   ],
   "source": [
    "vendas_total_ano = vendas_1_sem + vendas_2_sem\n",
    "pior_venda_ano = min(vendas_total_ano)\n",
    "melhor_venda_ano = max(vendas_total_ano)\n",
    "\n",
    "\n",
    "print('Todas as vendas do ano {}, sendo a pior venda o valor de {} e a melhor venda o valor de {}'.format(vendas_total_ano, pior_venda_ano, melhor_venda_ano))\n",
    "\n"
   ]
  },
  {
   "cell_type": "markdown",
   "metadata": {},
   "source": [
    "## 2 Melhorias\n",
    "\n",
    "Agora relacione as duas listas para printar o Melhor mês do ano com o seu nome e repetir o mesmo para o pior mês. \n",
    "\n",
    "Calcule o faturamento total do ano e o percentual do melhor mês para o faturamento total. "
   ]
  },
  {
   "cell_type": "code",
   "execution_count": 94,
   "metadata": {},
   "outputs": [
    {
     "name": "stdout",
     "output_type": "stream",
     "text": [
      "O faturamento total foi de: R$ 81.359,00, sendo o melhor mês o de nov representando 62.50% de vendas e o pior mês foi o de out representando 0.01%\n"
     ]
    }
   ],
   "source": [
    "#Pior mês\n",
    "indice_pior_mes = vendas_total_ano.index(pior_venda_ano)\n",
    "pior_mes = meses[indice_pior_mes]\n",
    "\n",
    "#Melhor mês\n",
    "indice_melhor_mes = vendas_total_ano.index(melhor_venda_ano)\n",
    "melhor_mes = meses[indice_melhor_mes]\n",
    "\n",
    "#Faturamento total\n",
    "faturamento_total = sum(vendas_total_ano)\n",
    "faturamento_total_br =  'R$ {:_.2f}'.format(faturamento_total).replace('.', ',').replace('_', '.')\n",
    "\n",
    "#Percentual melhor mes sobre o total\n",
    "perc_melhor = melhor_venda_ano / faturamento_total\n",
    "\n",
    "#Percentual pior mes sobre o total\n",
    "perc_pior = pior_venda_ano / faturamento_total\n",
    "\n",
    "\n",
    "print('O faturamento total foi de: {}, sendo o melhor mês o de {} representando {:.2%} de vendas e o pior mês foi o de {} representando {:.2%}'\n",
    ".format(faturamento_total_br, melhor_mes, perc_melhor, pior_mes, perc_pior))"
   ]
  },
  {
   "cell_type": "markdown",
   "metadata": {},
   "source": [
    "## 3 - Crie uma lista com o top valores de vendas do ano"
   ]
  },
  {
   "cell_type": "code",
   "execution_count": 96,
   "metadata": {},
   "outputs": [
    {
     "name": "stdout",
     "output_type": "stream",
     "text": [
      "Iteração de número: 1\n",
      "Lista completa: [1000, 2000, 3000, 500, 120, 10000, 500, 3250, 10, 50850, 130, 9999]\n",
      "Maior valor: 50850\n",
      "Top3: [50850]\n",
      "Lista completa após remoção [1000, 2000, 3000, 500, 120, 10000, 500, 3250, 10, 130, 9999]: \n",
      "\n",
      "\n",
      "Iteração de número: 2\n",
      "Lista completa: [1000, 2000, 3000, 500, 120, 10000, 500, 3250, 10, 130, 9999]\n",
      "Maior valor: 10000\n",
      "Top3: [50850, 10000]\n",
      "Lista completa após remoção [1000, 2000, 3000, 500, 120, 500, 3250, 10, 130, 9999]: \n",
      "\n",
      "\n",
      "Iteração de número: 3\n",
      "Lista completa: [1000, 2000, 3000, 500, 120, 500, 3250, 10, 130, 9999]\n",
      "Maior valor: 9999\n",
      "Top3: [50850, 10000, 9999]\n",
      "Lista completa após remoção [1000, 2000, 3000, 500, 120, 500, 3250, 10, 130]: \n",
      "\n",
      "\n"
     ]
    }
   ],
   "source": [
    "#lista\n",
    "top3 = []\n",
    "\n",
    "#Copia a lista, visto que a nova lista terá remoções\n",
    "vendas_total_ano_new = vendas_total_ano.copy()\n",
    "\n",
    "#iterador\n",
    "i = 1\n",
    "\n",
    "#loop\n",
    "while i <= 3:\n",
    "\n",
    "    print('Iteração de número: {}'.format(i))\n",
    "    print('Lista completa: {}'.format(vendas_total_ano_new))\n",
    "\n",
    "    maior_valor = max(vendas_total_ano_new)\n",
    "    top3.append(maior_valor)\n",
    "    vendas_total_ano_new.remove(maior_valor)\n",
    "\n",
    "    \n",
    "    print('Maior valor: {}' .format(maior_valor))\n",
    "    print('Top3: {}'.format(top3))\n",
    "    print('Lista completa após remoção {}: '.format(vendas_total_ano_new))\n",
    "    print('\\n')\n",
    "    i = i + 1\n",
    "\n",
    "\n"
   ]
  },
  {
   "cell_type": "code",
   "execution_count": null,
   "metadata": {},
   "outputs": [],
   "source": []
  }
 ],
 "metadata": {
  "kernelspec": {
   "display_name": "Python 3",
   "language": "python",
   "name": "python3"
  },
  "language_info": {
   "codemirror_mode": {
    "name": "ipython",
    "version": 3
   },
   "file_extension": ".py",
   "mimetype": "text/x-python",
   "name": "python",
   "nbconvert_exporter": "python",
   "pygments_lexer": "ipython3",
   "version": "3.7.3"
  },
  "orig_nbformat": 4
 },
 "nbformat": 4,
 "nbformat_minor": 2
}
