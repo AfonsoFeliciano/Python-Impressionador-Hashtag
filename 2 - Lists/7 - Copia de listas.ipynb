{
 "cells": [
  {
   "cell_type": "markdown",
   "metadata": {},
   "source": [
    "# Cópia de listas\n",
    "\n",
    "## Estrutura: \n",
    "\n",
    "Quando fazemos: \n",
    "\n",
    "lista2 = lista1 não estamos criando uma lista nova, mas estamos atribuindo uma variável a mesma lista existente. \n",
    "\n",
    "Para copiar uma lista é necessário utilizar a sintaxe: \n",
    "\n",
    "lista2 = lista.copy() ou lista2 = lista1[:]"
   ]
  },
  {
   "cell_type": "code",
   "execution_count": 1,
   "metadata": {},
   "outputs": [
    {
     "name": "stdout",
     "output_type": "stream",
     "text": [
      "['ipad', 'iphone 11', 'apple tv']\n",
      "['ipad', 'iphone 11', 'apple tv']\n"
     ]
    }
   ],
   "source": [
    "lista = ['ipad', 'iphone', 'apple tv']\n",
    "lista2 = lista\n",
    "lista[1] = 'iphone 11'\n",
    "\n",
    "print(lista)\n",
    "print(lista2)"
   ]
  },
  {
   "cell_type": "markdown",
   "metadata": {},
   "source": [
    "### Realizando a cópia"
   ]
  },
  {
   "cell_type": "code",
   "execution_count": 2,
   "metadata": {},
   "outputs": [
    {
     "name": "stdout",
     "output_type": "stream",
     "text": [
      "['ipad', 'iphone 11', 'apple tv']\n",
      "['ipad', 'iphone', 'apple tv']\n"
     ]
    }
   ],
   "source": [
    "lista = ['ipad', 'iphone', 'apple tv']\n",
    "lista2 = lista.copy()\n",
    "lista[1] = 'iphone 11'\n",
    "\n",
    "print(lista)\n",
    "print(lista2)"
   ]
  }
 ],
 "metadata": {
  "kernelspec": {
   "display_name": "Python 3",
   "language": "python",
   "name": "python3"
  },
  "language_info": {
   "codemirror_mode": {
    "name": "ipython",
    "version": 3
   },
   "file_extension": ".py",
   "mimetype": "text/x-python",
   "name": "python",
   "nbconvert_exporter": "python",
   "pygments_lexer": "ipython3",
   "version": "3.7.3"
  },
  "orig_nbformat": 4
 },
 "nbformat": 4,
 "nbformat_minor": 2
}
