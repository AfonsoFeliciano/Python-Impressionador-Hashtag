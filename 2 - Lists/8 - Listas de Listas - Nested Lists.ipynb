{
 "cells": [
  {
   "cell_type": "markdown",
   "metadata": {},
   "source": [
    "# Listas de Listas\n",
    "\n",
    "## Estrutura\n",
    "\n",
    "Cada item de uma lista pode ser de qualquer tipo, inclusive uma lista. Quando dentro uma lista, uma outra lista, isso se torna uma lista de listas, conhecida como *nested list*. "
   ]
  },
  {
   "cell_type": "code",
   "execution_count": 1,
   "metadata": {},
   "outputs": [],
   "source": [
    "vendedores = ['Afonso', 'Paulo', 'Daniel', 'Jorge']\n",
    "produtos = ['telefone', 'mouse']\n",
    "vendas = [\n",
    "    [100, 200], \n",
    "    [150, 180], \n",
    "    [50, 800], \n",
    "    [25, 125]\n",
    "]"
   ]
  },
  {
   "cell_type": "markdown",
   "metadata": {},
   "source": [
    "- Quanto Afonso vendeu de telefone? \n",
    "- Quanto Daniel vendeu de mouse? \n",
    "- Qual total de vendas de telefone? "
   ]
  },
  {
   "cell_type": "code",
   "execution_count": 10,
   "metadata": {},
   "outputs": [
    {
     "name": "stdout",
     "output_type": "stream",
     "text": [
      "Vendas de telefones do Afonso: 100\n",
      "Vendas de mouse do Daniel: 800\n",
      "Total de vendas 325\n"
     ]
    }
   ],
   "source": [
    "vendas_telefone_afonso = vendas[0][0]\n",
    "print('Vendas de telefones do Afonso: {}'.format(vendas_telefone_afonso))\n",
    "\n",
    "venda_mouse_daniel = vendas[2][1]\n",
    "print('Vendas de mouse do Daniel: {}'.format(venda_mouse_daniel))\n",
    "\n",
    "#Calculando o total de maneira manual\n",
    "total_vendas_telefone = vendas[0][0] + vendas[1][0] + vendas[2][0] + vendas[3][0] \n",
    "print('Total de vendas {}'.format(total_vendas_telefone))"
   ]
  },
  {
   "cell_type": "markdown",
   "metadata": {},
   "source": [
    "Alterando o valor de uma lista de lista visto que Afonso vendeu 80 telefones"
   ]
  },
  {
   "cell_type": "code",
   "execution_count": 12,
   "metadata": {},
   "outputs": [
    {
     "name": "stdout",
     "output_type": "stream",
     "text": [
      "Exibindo a lista antes da alteração [[100, 200], [150, 180], [50, 800], [25, 125]]\n",
      "Exibindo a lista após alteração [[80, 200], [150, 180], [50, 800], [25, 125]]\n"
     ]
    }
   ],
   "source": [
    "print('Exibindo a lista antes da alteração {}'.format(vendas))\n",
    "vendas[0][0] = 80\n",
    "print('Exibindo a lista após alteração {}'.format(vendas))"
   ]
  },
  {
   "cell_type": "markdown",
   "metadata": {},
   "source": [
    "Adicionando um novo produto com as vendas de cada um dos vendedores, sendo este o produto monitor"
   ]
  },
  {
   "cell_type": "code",
   "execution_count": 14,
   "metadata": {},
   "outputs": [
    {
     "name": "stdout",
     "output_type": "stream",
     "text": [
      "[[80, 200, 50], [150, 180, 25], [50, 800, 30], [25, 125, 10]]\n"
     ]
    }
   ],
   "source": [
    "#Lista com as vendas\n",
    "vendas_monitor = [50, 25, 30, 10]\n",
    "\n",
    "#Atribuição manual\n",
    "vendas[0].append(vendas_monitor[0])\n",
    "vendas[1].append(vendas_monitor[1])\n",
    "vendas[2].append(vendas_monitor[2])\n",
    "vendas[3].append(vendas_monitor[3])\n",
    "\n",
    "#Exibição\n",
    "print(vendas)"
   ]
  }
 ],
 "metadata": {
  "kernelspec": {
   "display_name": "Python 3",
   "language": "python",
   "name": "python3"
  },
  "language_info": {
   "codemirror_mode": {
    "name": "ipython",
    "version": 3
   },
   "file_extension": ".py",
   "mimetype": "text/x-python",
   "name": "python",
   "nbconvert_exporter": "python",
   "pygments_lexer": "ipython3",
   "version": "3.7.3"
  },
  "orig_nbformat": 4
 },
 "nbformat": 4,
 "nbformat_minor": 2
}
