{
 "cells": [
  {
   "cell_type": "markdown",
   "metadata": {},
   "source": [
    "# Funções básicas\n",
    "## Tamanho da lista\n",
    "\n",
    "tamanho = len(lista)"
   ]
  },
  {
   "cell_type": "code",
   "execution_count": 2,
   "metadata": {},
   "outputs": [],
   "source": [
    "produtos = ['arroz', 'feijao', 'oleo', 'leite']"
   ]
  },
  {
   "cell_type": "code",
   "execution_count": 3,
   "metadata": {},
   "outputs": [
    {
     "name": "stdout",
     "output_type": "stream",
     "text": [
      "A lista possui 4 produtos\n"
     ]
    }
   ],
   "source": [
    "tamanho = len(produtos)\n",
    "print('A lista possui {} produtos'.format(tamanho))"
   ]
  },
  {
   "cell_type": "markdown",
   "metadata": {},
   "source": [
    "## Maior e Menor valor"
   ]
  },
  {
   "cell_type": "code",
   "execution_count": 6,
   "metadata": {},
   "outputs": [],
   "source": [
    "produtos = ['arroz', 'feijao', 'milho', 'leite', 'carne']\n",
    "estoque = [10, 15, 20, 35, 800]"
   ]
  },
  {
   "cell_type": "code",
   "execution_count": 7,
   "metadata": {},
   "outputs": [
    {
     "name": "stdout",
     "output_type": "stream",
     "text": [
      "O menor valor é 10 e o maior valor é 800\n"
     ]
    }
   ],
   "source": [
    "maior = max(estoque)\n",
    "menor = min(estoque)\n",
    "\n",
    "print('O menor valor é {} e o maior valor é {}'.format(menor, maior))"
   ]
  },
  {
   "cell_type": "code",
   "execution_count": 10,
   "metadata": {},
   "outputs": [
    {
     "name": "stdout",
     "output_type": "stream",
     "text": [
      "O produto com mais estoque é carne e o produto com menos estoque é arroz\n"
     ]
    }
   ],
   "source": [
    "i_mais_estoque = estoque.index(maior)\n",
    "i_menos_estoque = estoque.index(menor)\n",
    "\n",
    "produto_mais_estoque = produtos[i_mais_estoque]\n",
    "produto_menos_estoque = produtos[i_menos_estoque]\n",
    "\n",
    "print('O produto com mais estoque é {} e o produto com menos estoque é {}'.format(produto_mais_estoque, produto_menos_estoque))"
   ]
  },
  {
   "cell_type": "code",
   "execution_count": 12,
   "metadata": {},
   "outputs": [
    {
     "name": "stdout",
     "output_type": "stream",
     "text": [
      "Max: 300\n",
      "Min: 100\n"
     ]
    }
   ],
   "source": [
    "teste = [200, 100, 100, 200, 300, 300]\n",
    "teste_max = max(teste)\n",
    "teste_min = min(teste)\n",
    "\n",
    "print('Max: {}'.format(teste_max))\n",
    "print('Min: {}'.format(teste_min))"
   ]
  },
  {
   "cell_type": "markdown",
   "metadata": {},
   "source": [
    "## Juntar listas, ordenar listas\n",
    "\n",
    "### 2 maneiras:\n",
    "\n",
    "- lista1.extend(lista2)\n",
    "- lista_nova = lista1 + lista2"
   ]
  },
  {
   "cell_type": "code",
   "execution_count": 14,
   "metadata": {},
   "outputs": [],
   "source": [
    "produtos = ['celular', 'tv', 'relogio']\n",
    "novos_produtos = ['mesa', 'cadeira'] "
   ]
  },
  {
   "cell_type": "markdown",
   "metadata": {},
   "source": [
    "Adicionando os novos produtos na lista de produtos"
   ]
  },
  {
   "cell_type": "code",
   "execution_count": 15,
   "metadata": {},
   "outputs": [
    {
     "name": "stdout",
     "output_type": "stream",
     "text": [
      "['celular', 'tv', 'relogio', 'mesa', 'cadeira']\n"
     ]
    }
   ],
   "source": [
    "produtos.extend(novos_produtos)\n",
    "print(produtos)"
   ]
  },
  {
   "cell_type": "markdown",
   "metadata": {},
   "source": [
    "Criando uma nova variável para receber todos os produtos"
   ]
  },
  {
   "cell_type": "code",
   "execution_count": 16,
   "metadata": {},
   "outputs": [
    {
     "name": "stdout",
     "output_type": "stream",
     "text": [
      "['celular', 'tv', 'relogio', 'mesa', 'cadeira', 'mesa', 'cadeira']\n"
     ]
    }
   ],
   "source": [
    "todos_produtos = produtos + novos_produtos\n",
    "print(todos_produtos)"
   ]
  },
  {
   "cell_type": "markdown",
   "metadata": {},
   "source": [
    "### Ordenando listas\n",
    "\n",
    "lista.sort()\n",
    "\n",
    "Com esse método torna-se possível ordenar utilizando string ou número, porém é utilizado a tabela ASCII como referência, priorizando letras maiúsculas. "
   ]
  },
  {
   "cell_type": "code",
   "execution_count": 19,
   "metadata": {},
   "outputs": [
    {
     "name": "stdout",
     "output_type": "stream",
     "text": [
      "[10, 32, 35, 11248, 12124, 12225, 22323, 3577878]\n"
     ]
    }
   ],
   "source": [
    "matriculas = [12225, 22323, 11248, 3577878, 12124, 32, 35, 10]\n",
    "matriculas.sort()\n",
    "print(matriculas)"
   ]
  },
  {
   "cell_type": "code",
   "execution_count": 20,
   "metadata": {},
   "outputs": [
    {
     "name": "stdout",
     "output_type": "stream",
     "text": [
      "['cadeira', 'cadeira', 'celular', 'mesa', 'mesa', 'relogio', 'tv']\n"
     ]
    }
   ],
   "source": [
    "produtos = ['celular', 'tv', 'relogio', 'mesa', 'cadeira', 'mesa', 'cadeira']\n",
    "produtos.sort()\n",
    "print(produtos)"
   ]
  },
  {
   "cell_type": "markdown",
   "metadata": {},
   "source": [
    "Ordenando casos que possuem letra maiúscula"
   ]
  },
  {
   "cell_type": "code",
   "execution_count": 21,
   "metadata": {},
   "outputs": [
    {
     "name": "stdout",
     "output_type": "stream",
     "text": [
      "['Lapis', 'Mesa', 'Notebook', 'cadeira', 'geladeira']\n"
     ]
    }
   ],
   "source": [
    "produtos_gerais = ['Mesa', 'cadeira', 'Lapis', 'Notebook', 'geladeira']\n",
    "produtos_gerais.sort()\n",
    "print(produtos_gerais)"
   ]
  },
  {
   "cell_type": "markdown",
   "metadata": {},
   "source": [
    "Ordenando casos que possuem letras e números"
   ]
  },
  {
   "cell_type": "code",
   "execution_count": 22,
   "metadata": {},
   "outputs": [
    {
     "name": "stdout",
     "output_type": "stream",
     "text": [
      "['1', '15', '25', 'cadeira', 'caderno', 'lapis']\n"
     ]
    }
   ],
   "source": [
    "lista_mesclada = ['lapis', 'cadeira', 'caderno', '15', '25', '1']\n",
    "lista_mesclada.sort()\n",
    "print(lista_mesclada)"
   ]
  },
  {
   "cell_type": "markdown",
   "metadata": {},
   "source": [
    "Ordenando de maneira descendente"
   ]
  },
  {
   "cell_type": "code",
   "execution_count": 24,
   "metadata": {},
   "outputs": [
    {
     "name": "stdout",
     "output_type": "stream",
     "text": [
      "[3577878, 22323, 12225, 12124, 11248, 35, 32, 10]\n"
     ]
    }
   ],
   "source": [
    "matriculas = [12225, 22323, 11248, 3577878, 12124, 32, 35, 10]\n",
    "matriculas.sort(reverse=True)\n",
    "print(matriculas)"
   ]
  }
 ],
 "metadata": {
  "kernelspec": {
   "display_name": "Python 3",
   "language": "python",
   "name": "python3"
  },
  "language_info": {
   "codemirror_mode": {
    "name": "ipython",
    "version": 3
   },
   "file_extension": ".py",
   "mimetype": "text/x-python",
   "name": "python",
   "nbconvert_exporter": "python",
   "pygments_lexer": "ipython3",
   "version": "3.7.3"
  },
  "orig_nbformat": 4
 },
 "nbformat": 4,
 "nbformat_minor": 2
}
