{
 "cells": [
  {
   "cell_type": "markdown",
   "metadata": {},
   "source": [
    "# Print de Listas\n",
    "\n",
    "- print\n",
    "- método join -> texto.join(lista)"
   ]
  },
  {
   "cell_type": "code",
   "execution_count": 30,
   "metadata": {},
   "outputs": [
    {
     "name": "stdout",
     "output_type": "stream",
     "text": [
      "['arroz', 'feijao', 'suco', 'leite']\n",
      "arroz;feijao;suco;leite\n"
     ]
    }
   ],
   "source": [
    "produtos = ['arroz', 'feijao', 'suco', 'leite']\n",
    "print(produtos)\n",
    "\n",
    "#Delimitador\n",
    "print(';'.join(produtos))"
   ]
  },
  {
   "cell_type": "code",
   "execution_count": 31,
   "metadata": {},
   "outputs": [
    {
     "name": "stdout",
     "output_type": "stream",
     "text": [
      "arroz\n",
      "feijao\n",
      "suco\n",
      "leite\n"
     ]
    }
   ],
   "source": [
    "#Quebrando linhas\n",
    "print('\\n'.join(produtos))"
   ]
  },
  {
   "cell_type": "markdown",
   "metadata": {},
   "source": [
    "Utilizando um split para inputar em uma lista"
   ]
  },
  {
   "cell_type": "code",
   "execution_count": 36,
   "metadata": {},
   "outputs": [
    {
     "name": "stdout",
     "output_type": "stream",
     "text": [
      "['feijao', 'arroz', 'doce', 'suco', 'refrigerante', 'macarrao']\n"
     ]
    }
   ],
   "source": [
    "produtos = 'feijao, arroz, doce, suco, refrigerante, macarrao'\n",
    "\n",
    "#Delimitador é vírgula + espaço\n",
    "lista = produtos.split(', ')\n",
    "\n",
    "print(lista)"
   ]
  },
  {
   "cell_type": "code",
   "execution_count": null,
   "metadata": {},
   "outputs": [],
   "source": []
  }
 ],
 "metadata": {
  "kernelspec": {
   "display_name": "Python 3",
   "language": "python",
   "name": "python3"
  },
  "language_info": {
   "codemirror_mode": {
    "name": "ipython",
    "version": 3
   },
   "file_extension": ".py",
   "mimetype": "text/x-python",
   "name": "python",
   "nbconvert_exporter": "python",
   "pygments_lexer": "ipython3",
   "version": "3.7.3"
  },
  "orig_nbformat": 4
 },
 "nbformat": 4,
 "nbformat_minor": 2
}
