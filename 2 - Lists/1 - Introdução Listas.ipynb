{
 "cells": [
  {
   "cell_type": "markdown",
   "metadata": {},
   "source": [
    "# Listas em Python\n",
    "\n",
    "## Estrutura \n",
    "\n",
    "lista = [valor, valor, valor, valor]\n",
    "\n",
    "- Lista é um dos objetos mais importantes no Python\n",
    "- Quanto uma base de dados é importada para o Python, normalmente é lida como lista\n",
    "- Listas em Python foram criadas para ser homogêneas"
   ]
  },
  {
   "cell_type": "code",
   "execution_count": 1,
   "metadata": {},
   "outputs": [],
   "source": [
    "produtos = ['tv', 'celular', 'mouse', 'teclado', 'table']"
   ]
  },
  {
   "cell_type": "code",
   "execution_count": 2,
   "metadata": {},
   "outputs": [],
   "source": [
    "vendas = [1000, 1500, 200, 300, 900]"
   ]
  },
  {
   "cell_type": "code",
   "execution_count": 3,
   "metadata": {},
   "outputs": [
    {
     "name": "stdout",
     "output_type": "stream",
     "text": [
      "['tv', 'celular', 'mouse', 'teclado', 'table']\n",
      "[1000, 1500, 200, 300, 900]\n"
     ]
    }
   ],
   "source": [
    "print(produtos)\n",
    "print(vendas)"
   ]
  },
  {
   "cell_type": "markdown",
   "metadata": {},
   "source": [
    "lista[i] -> captura o valor de um item da lista, sendo i o indice"
   ]
  },
  {
   "cell_type": "code",
   "execution_count": 5,
   "metadata": {},
   "outputs": [
    {
     "name": "stdout",
     "output_type": "stream",
     "text": [
      "tv\n"
     ]
    }
   ],
   "source": [
    "print(produtos[0])"
   ]
  },
  {
   "cell_type": "code",
   "execution_count": 6,
   "metadata": {},
   "outputs": [
    {
     "name": "stdout",
     "output_type": "stream",
     "text": [
      "Vendas do produto celular foram de 1500 unidades\n"
     ]
    }
   ],
   "source": [
    "print(\"Vendas do produto {} foram de {} unidades\".format(produtos[1], vendas[1]))"
   ]
  },
  {
   "cell_type": "markdown",
   "metadata": {},
   "source": [
    "Substituindo valores de uma lista"
   ]
  },
  {
   "cell_type": "code",
   "execution_count": 7,
   "metadata": {},
   "outputs": [
    {
     "name": "stdout",
     "output_type": "stream",
     "text": [
      "255\n"
     ]
    }
   ],
   "source": [
    "vendas[3] = 255\n",
    "print(vendas[3])"
   ]
  },
  {
   "cell_type": "markdown",
   "metadata": {},
   "source": [
    "## Como descobrir o índice de um item de uma lista\n",
    "\n",
    "i = lista.index('item')"
   ]
  },
  {
   "cell_type": "code",
   "execution_count": 8,
   "metadata": {},
   "outputs": [],
   "source": [
    "produtos = ['tv', 'celular', 'mouse', 'teclado', 'table']\n",
    "vendas = [1000, 1500, 200, 300, 900]"
   ]
  },
  {
   "cell_type": "code",
   "execution_count": 10,
   "metadata": {},
   "outputs": [
    {
     "name": "stdout",
     "output_type": "stream",
     "text": [
      "2\n",
      "mouse\n"
     ]
    }
   ],
   "source": [
    "i = produtos.index('mouse')\n",
    "print(i)\n",
    "print(produtos[i])"
   ]
  },
  {
   "cell_type": "markdown",
   "metadata": {},
   "source": [
    "Crie um programa para fazer uma consulta de vendas no qual o usuário precise inserir o nome do produto no programa e, caso ele não exista na lista, um aviso seja exibido. Caso exista, o programa irá informar a quantidade de unidades em estoque do produto. "
   ]
  },
  {
   "cell_type": "code",
   "execution_count": 28,
   "metadata": {},
   "outputs": [
    {
     "name": "stdout",
     "output_type": "stream",
     "text": [
      "A quantidade em estoque para o produto tv é de: 30\n"
     ]
    }
   ],
   "source": [
    "#Cria listas\n",
    "produtos = ['geladeira', 'mesa', 'cama', 'tv']\n",
    "quantidades = [10, 15, 20, 30]\n",
    "\n",
    "#Informa nome do produto\n",
    "produto = input(\"Informe o nome do produto: \")\n",
    "\n",
    "#Transforma strings em minusculas\n",
    "produto = produto.casefold()\n",
    "\n",
    "#Verifica se existe\n",
    "if produto in produtos:\n",
    "    i = produtos.index(produto)\n",
    "    quantidade = quantidades[i]\n",
    "    print('A quantidade em estoque para o produto {} é de: {}'.format(produto, quantidade))\n",
    "else: \n",
    "    print('O produto informado não está presente na lista')"
   ]
  }
 ],
 "metadata": {
  "kernelspec": {
   "display_name": "Python 3",
   "language": "python",
   "name": "python3"
  },
  "language_info": {
   "codemirror_mode": {
    "name": "ipython",
    "version": 3
   },
   "file_extension": ".py",
   "mimetype": "text/x-python",
   "name": "python",
   "nbconvert_exporter": "python",
   "pygments_lexer": "ipython3",
   "version": "3.7.3"
  },
  "orig_nbformat": 4
 },
 "nbformat": 4,
 "nbformat_minor": 2
}
