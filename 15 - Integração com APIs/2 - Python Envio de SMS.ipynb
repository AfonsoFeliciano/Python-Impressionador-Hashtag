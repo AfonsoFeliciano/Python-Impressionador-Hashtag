{
 "cells": [
  {
   "cell_type": "markdown",
   "metadata": {},
   "source": [
    "# Python e API com Login\n",
    "\n",
    "### O 1º Passo de toda API com Login é criar uma conta e pegar suas credenciais\n",
    "\n",
    "### No seu código, o 1º passo é sempre estabelecer a conexão com a API, usando seu login e suas credenciais\n",
    "\n",
    "- Como cada API é uma ferramenta diferente, cada uma delas pode exigir que você faça algum tipo de configuração, que vai estar explicada na API. No nosso caso, teremos que validar um número e criar um número de envio\n",
    "\n",
    "- Depois, usamos os métodos da API normalmente para fazer o que queremos. No nosso caso, enviar um SMS"
   ]
  },
  {
   "cell_type": "markdown",
   "metadata": {},
   "source": [
    "#### 1. Vamos criar um login no Twilio\n",
    "\n",
    "https://www.twilio.com/docs/libraries/python"
   ]
  },
  {
   "cell_type": "markdown",
   "metadata": {},
   "source": [
    "#### 2. Depois do Login, vamos pegar 3 informações:\n",
    "\n",
    "- ID da Conta\n",
    "- Token\n",
    "- Número de Envio"
   ]
  },
  {
   "cell_type": "markdown",
   "metadata": {},
   "source": [
    "#### 3. Agora vamos validar um número porque no Twilio, enviar SMS para um número válido é de graça"
   ]
  },
  {
   "cell_type": "markdown",
   "metadata": {},
   "source": [
    "#### 4. Agora podemos fazer o nosso código de acordo com as orientações do Twilio"
   ]
  },
  {
   "cell_type": "code",
   "execution_count": 3,
   "metadata": {},
   "outputs": [
    {
     "name": "stdout",
     "output_type": "stream",
     "text": [
      "Defaulting to user installation because normal site-packages is not writeable\n",
      "Collecting twilio\n",
      "  Downloading twilio-7.15.3-py2.py3-none-any.whl (1.4 MB)\n",
      "Requirement already satisfied: pytz in c:\\programdata\\anaconda3\\lib\\site-packages (from twilio) (2021.3)\n",
      "Requirement already satisfied: requests>=2.0.0 in c:\\programdata\\anaconda3\\lib\\site-packages (from twilio) (2.27.1)\n",
      "Note: you may need to restart the kernel to use updated packages.Requirement already satisfied: PyJWT<3.0.0,>=2.0.0 in c:\\programdata\\anaconda3\\lib\\site-packages (from twilio) (2.1.0)\n",
      "Requirement already satisfied: charset-normalizer~=2.0.0 in c:\\programdata\\anaconda3\\lib\\site-packages (from requests>=2.0.0->twilio) (2.0.4)\n",
      "Requirement already satisfied: certifi>=2017.4.17 in c:\\programdata\\anaconda3\\lib\\site-packages (from requests>=2.0.0->twilio) (2021.10.8)\n",
      "Requirement already satisfied: idna<4,>=2.5 in c:\\programdata\\anaconda3\\lib\\site-packages (from requests>=2.0.0->twilio) (3.3)\n",
      "Requirement already satisfied: urllib3<1.27,>=1.21.1 in c:\\programdata\\anaconda3\\lib\\site-packages (from requests>=2.0.0->twilio) (1.26.9)\n",
      "Installing collected packages: twilio\n",
      "Successfully installed twilio-7.15.3\n",
      "\n"
     ]
    }
   ],
   "source": [
    "pip install twilio"
   ]
  },
  {
   "cell_type": "code",
   "execution_count": 4,
   "metadata": {},
   "outputs": [],
   "source": [
    "from twilio.rest import Client"
   ]
  },
  {
   "cell_type": "code",
   "execution_count": 6,
   "metadata": {},
   "outputs": [],
   "source": [
    "account_sid = 'Colocar o SID aqui'\n",
    "auth_token = 'Colocar o TOKEN aqui'\n",
    "remetente = 'Número do remetente'\n",
    "destino = 'Número que receberá a mensagem'\n",
    "\n",
    "client = Client(account_sid, auth_token)\n",
    "\n",
    "message = client.messages.create(\n",
    "    to=destino,\n",
    "    from_=remetente,\n",
    "    body=\"Envio de mensagem via api utilizando python\"\n",
    ")\n"
   ]
  },
  {
   "cell_type": "code",
   "execution_count": 7,
   "metadata": {},
   "outputs": [
    {
     "name": "stdout",
     "output_type": "stream",
     "text": [
      "SM503ea181861c5d3525fa8ffb82a59a8d\n"
     ]
    }
   ],
   "source": [
    "print(message.sid)"
   ]
  },
  {
   "cell_type": "code",
   "execution_count": null,
   "metadata": {},
   "outputs": [],
   "source": []
  }
 ],
 "metadata": {
  "kernelspec": {
   "display_name": "Python 3.9.12 ('base')",
   "language": "python",
   "name": "python3"
  },
  "language_info": {
   "codemirror_mode": {
    "name": "ipython",
    "version": 3
   },
   "file_extension": ".py",
   "mimetype": "text/x-python",
   "name": "python",
   "nbconvert_exporter": "python",
   "pygments_lexer": "ipython3",
   "version": "3.9.12"
  },
  "vscode": {
   "interpreter": {
    "hash": "ad2bdc8ecc057115af97d19610ffacc2b4e99fae6737bb82f5d7fb13d2f2c186"
   }
  }
 },
 "nbformat": 4,
 "nbformat_minor": 4
}
