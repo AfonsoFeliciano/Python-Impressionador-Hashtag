{
 "cells": [
  {
   "cell_type": "markdown",
   "metadata": {},
   "source": [
    "# Argumentos/Parâmetros da Função\n",
    "\n",
    "### Estrutura:"
   ]
  },
  {
   "cell_type": "raw",
   "metadata": {},
   "source": [
    "def minha_funcao(parametro1, parametro2, parametro3):\n",
    "    return parametro1 + parametro2 + parametro3"
   ]
  },
  {
   "cell_type": "markdown",
   "metadata": {},
   "source": [
    "- Exemplo: nosso famoso print"
   ]
  },
  {
   "cell_type": "code",
   "execution_count": 2,
   "metadata": {},
   "outputs": [
    {
     "name": "stdout",
     "output_type": "stream",
     "text": [
      "Produto Iphone Vendas 50\n",
      "Foram informados 4 argumentos no print anterior\n"
     ]
    }
   ],
   "source": [
    "vendas = 50\n",
    "print('Produto', 'Iphone', 'Vendas', vendas)\n",
    "print('Foram informados 4 argumentos no print anterior')"
   ]
  },
  {
   "cell_type": "markdown",
   "metadata": {},
   "source": [
    "- Só para mostrar o funcionamento, vamos criar uma função de soma"
   ]
  },
  {
   "cell_type": "code",
   "execution_count": 5,
   "metadata": {},
   "outputs": [
    {
     "name": "stdout",
     "output_type": "stream",
     "text": [
      "A soma utilizando a função é 60\n"
     ]
    }
   ],
   "source": [
    "def somar(num1, num2, num3):\n",
    "    return num1 + num2 + num3\n",
    "\n",
    "soma = somar(10, 20, 30)\n",
    "print('A soma utilizando a função é {}'.format(soma))"
   ]
  },
  {
   "cell_type": "markdown",
   "metadata": {},
   "source": [
    "- Vamos criar uma function com parâmetro\n",
    "\n",
    "Digamos que estamos criando um programa para categorizar os produtos de uma revendedora de bebidas.\n",
    "\n",
    "Cada produto tem um código. O tipo de produto é dado pelas 3 primeiras letras do código.\n",
    "\n",
    "Ex:<br>\n",
    "Vinho -> BEB12302<br>\n",
    "Cerveja -> BEB12043<br>\n",
    "Vodka -> BEB34501<br>\n",
    "\n",
    "Guaraná -> BSA11104<br>\n",
    "Coca -> BSA54301<br>\n",
    "Sprite -> BSA34012<br>\n",
    "Água -> BSA09871<br>\n",
    "\n",
    "Repare que bebidas não alcóolicas começam com BSA e bebidas alcoolicas começam com BEB.\n",
    "\n",
    "Crie um programa que analise uma lista de produtos e envie instruções para a equipe de estoque dizendo quais produtos devem ser enviados para a área de bebidas alcóolicas."
   ]
  },
  {
   "cell_type": "code",
   "execution_count": 7,
   "metadata": {},
   "outputs": [],
   "source": [
    "def verifica_produto_alcoolico(bebida):\n",
    "    \"\"\" Verifica se o produto informado é uma bebida alcóolica retornando true ou false \"\"\"\n",
    "    bebida = bebida.upper()\n",
    "    if 'BEB' in bebida:\n",
    "        return True\n",
    "    else:\n",
    "        return False"
   ]
  },
  {
   "cell_type": "code",
   "execution_count": 8,
   "metadata": {},
   "outputs": [
    {
     "name": "stdout",
     "output_type": "stream",
     "text": [
      "Enviar o produto beb46275 para o setor de bebidas alcóolicas\n",
      "Enviar o produto BEB21365 para o setor de bebidas alcóolicas\n",
      "Enviar o produto BEB31623 para o setor de bebidas alcóolicas\n",
      "Enviar o produto BEB73344 para o setor de bebidas alcóolicas\n",
      "Enviar o produto BEB80694 para o setor de bebidas alcóolicas\n",
      "Enviar o produto BEB19495 para o setor de bebidas alcóolicas\n",
      "Enviar o produto BEB97471 para o setor de bebidas alcóolicas\n",
      "Enviar o produto BEB62362 para o setor de bebidas alcóolicas\n",
      "Enviar o produto BEB85146 para o setor de bebidas alcóolicas\n",
      "Enviar o produto BEB48898 para o setor de bebidas alcóolicas\n",
      "Enviar o produto BEB79496 para o setor de bebidas alcóolicas\n",
      "Enviar o produto BEB15385 para o setor de bebidas alcóolicas\n",
      "Enviar o produto BEB24213 para o setor de bebidas alcóolicas\n",
      "Enviar o produto BEB56262 para o setor de bebidas alcóolicas\n",
      "Enviar o produto BEB75073 para o setor de bebidas alcóolicas\n"
     ]
    }
   ],
   "source": [
    "produtos = ['beb46275','TFA23962','TFA64715','TFA69555','TFA56743','BSA45510','TFA44968','CAR75448','CAR23596','CAR13490','BEB21365','BEB31623','BSA62419','BEB73344','TFA20079','BEB80694','BSA11769','BEB19495','TFA14792','TFA78043','BSA33484','BEB97471','BEB62362','TFA27311','TFA17715','BEB85146','BEB48898','BEB79496','CAR38417','TFA19947','TFA58799','CAR94811','BSA59251','BEB15385','BEB24213','BEB56262','BSA96915','CAR53454','BEB75073']\n",
    "\n",
    "#percorrer a lista de produtos verificando se é bebida alcóolica\n",
    "for produto in produtos:\n",
    "    if verifica_produto_alcoolico(produto):\n",
    "        print('Enviar o produto {} para o setor de bebidas alcóolicas'.format(produto))\n",
    "    \n",
    "\n"
   ]
  }
 ],
 "metadata": {
  "kernelspec": {
   "display_name": "Python 3.9.12 ('base')",
   "language": "python",
   "name": "python3"
  },
  "language_info": {
   "codemirror_mode": {
    "name": "ipython",
    "version": 3
   },
   "file_extension": ".py",
   "mimetype": "text/x-python",
   "name": "python",
   "nbconvert_exporter": "python",
   "pygments_lexer": "ipython3",
   "version": "3.9.12"
  },
  "vscode": {
   "interpreter": {
    "hash": "ad2bdc8ecc057115af97d19610ffacc2b4e99fae6737bb82f5d7fb13d2f2c186"
   }
  }
 },
 "nbformat": 4,
 "nbformat_minor": 4
}
