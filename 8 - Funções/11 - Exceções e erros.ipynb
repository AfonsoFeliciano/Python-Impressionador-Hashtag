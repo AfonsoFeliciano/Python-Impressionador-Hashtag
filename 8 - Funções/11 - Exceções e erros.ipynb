{
 "cells": [
  {
   "cell_type": "markdown",
   "metadata": {},
   "source": [
    "# Exceções e Erros em Funções\n",
    "\n",
    "### Como \"testar\" erros e tratar exceções:"
   ]
  },
  {
   "cell_type": "raw",
   "metadata": {},
   "source": [
    "try:\n",
    "    o que eu quero tentar fazer\n",
    "except:\n",
    "    o que vou fazer caso dê erro"
   ]
  },
  {
   "cell_type": "code",
   "execution_count": 6,
   "metadata": {},
   "outputs": [],
   "source": [
    "def descobrir_servidor(email):\n",
    "    try:\n",
    "        posicao_a = email.index('@')\n",
    "        servidor = email[posicao_a:]\n",
    "        if 'gmail' in servidor:\n",
    "            return 'gmail'\n",
    "        elif 'hotmail' in servidor or 'outlook' in servidor or 'live' in servidor:\n",
    "            return 'hotmail'\n",
    "        elif 'yahoo' in servidor:\n",
    "            return 'yahoo'\n",
    "        elif 'uol' in servidor or 'bol' in servidor:\n",
    "            return 'uol'\n",
    "        else:\n",
    "            return 'não determinado'\n",
    "    except:\n",
    "        raise Exception('Email digitado não tem @, digite novamente')\n",
    "    "
   ]
  },
  {
   "cell_type": "code",
   "execution_count": 7,
   "metadata": {},
   "outputs": [
    {
     "ename": "Exception",
     "evalue": "Email digitado não tem @, digite novamente",
     "output_type": "error",
     "traceback": [
      "\u001b[1;31m---------------------------------------------------------------------------\u001b[0m",
      "\u001b[1;31mValueError\u001b[0m                                Traceback (most recent call last)",
      "\u001b[1;32mc:\\Users\\afonso.feliciano\\Desktop\\Python-Impressionador-Hashtag\\8 - Funções\\11 - Exceções e erros.ipynb Célula: 4\u001b[0m in \u001b[0;36mdescobrir_servidor\u001b[1;34m(email)\u001b[0m\n\u001b[0;32m      <a href='vscode-notebook-cell:/c%3A/Users/afonso.feliciano/Desktop/Python-Impressionador-Hashtag/8%20-%20Fun%C3%A7%C3%B5es/11%20-%20Exce%C3%A7%C3%B5es%20e%20erros.ipynb#W3sZmlsZQ%3D%3D?line=1'>2</a>\u001b[0m \u001b[39mtry\u001b[39;00m:\n\u001b[1;32m----> <a href='vscode-notebook-cell:/c%3A/Users/afonso.feliciano/Desktop/Python-Impressionador-Hashtag/8%20-%20Fun%C3%A7%C3%B5es/11%20-%20Exce%C3%A7%C3%B5es%20e%20erros.ipynb#W3sZmlsZQ%3D%3D?line=2'>3</a>\u001b[0m     posicao_a \u001b[39m=\u001b[39m email\u001b[39m.\u001b[39;49mindex(\u001b[39m'\u001b[39;49m\u001b[39m@\u001b[39;49m\u001b[39m'\u001b[39;49m)\n\u001b[0;32m      <a href='vscode-notebook-cell:/c%3A/Users/afonso.feliciano/Desktop/Python-Impressionador-Hashtag/8%20-%20Fun%C3%A7%C3%B5es/11%20-%20Exce%C3%A7%C3%B5es%20e%20erros.ipynb#W3sZmlsZQ%3D%3D?line=3'>4</a>\u001b[0m     servidor \u001b[39m=\u001b[39m email[posicao_a:]\n",
      "\u001b[1;31mValueError\u001b[0m: substring not found",
      "\nDuring handling of the above exception, another exception occurred:\n",
      "\u001b[1;31mException\u001b[0m                                 Traceback (most recent call last)",
      "\u001b[1;32mc:\\Users\\afonso.feliciano\\Desktop\\Python-Impressionador-Hashtag\\8 - Funções\\11 - Exceções e erros.ipynb Célula: 4\u001b[0m in \u001b[0;36m<cell line: 2>\u001b[1;34m()\u001b[0m\n\u001b[0;32m      <a href='vscode-notebook-cell:/c%3A/Users/afonso.feliciano/Desktop/Python-Impressionador-Hashtag/8%20-%20Fun%C3%A7%C3%B5es/11%20-%20Exce%C3%A7%C3%B5es%20e%20erros.ipynb#W3sZmlsZQ%3D%3D?line=0'>1</a>\u001b[0m email \u001b[39m=\u001b[39m \u001b[39minput\u001b[39m(\u001b[39m'\u001b[39m\u001b[39mQual o seu e-mail?\u001b[39m\u001b[39m'\u001b[39m)\n\u001b[1;32m----> <a href='vscode-notebook-cell:/c%3A/Users/afonso.feliciano/Desktop/Python-Impressionador-Hashtag/8%20-%20Fun%C3%A7%C3%B5es/11%20-%20Exce%C3%A7%C3%B5es%20e%20erros.ipynb#W3sZmlsZQ%3D%3D?line=1'>2</a>\u001b[0m \u001b[39mprint\u001b[39m(descobrir_servidor(email))\n",
      "\u001b[1;32mc:\\Users\\afonso.feliciano\\Desktop\\Python-Impressionador-Hashtag\\8 - Funções\\11 - Exceções e erros.ipynb Célula: 4\u001b[0m in \u001b[0;36mdescobrir_servidor\u001b[1;34m(email)\u001b[0m\n\u001b[0;32m     <a href='vscode-notebook-cell:/c%3A/Users/afonso.feliciano/Desktop/Python-Impressionador-Hashtag/8%20-%20Fun%C3%A7%C3%B5es/11%20-%20Exce%C3%A7%C3%B5es%20e%20erros.ipynb#W3sZmlsZQ%3D%3D?line=13'>14</a>\u001b[0m         \u001b[39mreturn\u001b[39;00m \u001b[39m'\u001b[39m\u001b[39mnão determinado\u001b[39m\u001b[39m'\u001b[39m\n\u001b[0;32m     <a href='vscode-notebook-cell:/c%3A/Users/afonso.feliciano/Desktop/Python-Impressionador-Hashtag/8%20-%20Fun%C3%A7%C3%B5es/11%20-%20Exce%C3%A7%C3%B5es%20e%20erros.ipynb#W3sZmlsZQ%3D%3D?line=14'>15</a>\u001b[0m \u001b[39mexcept\u001b[39;00m:\n\u001b[1;32m---> <a href='vscode-notebook-cell:/c%3A/Users/afonso.feliciano/Desktop/Python-Impressionador-Hashtag/8%20-%20Fun%C3%A7%C3%B5es/11%20-%20Exce%C3%A7%C3%B5es%20e%20erros.ipynb#W3sZmlsZQ%3D%3D?line=15'>16</a>\u001b[0m     \u001b[39mraise\u001b[39;00m \u001b[39mException\u001b[39;00m(\u001b[39m'\u001b[39m\u001b[39mEmail digitado não tem @, digite novamente\u001b[39m\u001b[39m'\u001b[39m)\n",
      "\u001b[1;31mException\u001b[0m: Email digitado não tem @, digite novamente"
     ]
    }
   ],
   "source": [
    "email = input('Qual o seu e-mail?')\n",
    "print(descobrir_servidor(email))\n"
   ]
  },
  {
   "cell_type": "markdown",
   "metadata": {},
   "source": [
    "- Cuidado: uma vez dentro do try, qualquer erro vai levar ao except"
   ]
  },
  {
   "cell_type": "markdown",
   "metadata": {},
   "source": [
    "### Como \"printar\" um erro em uma function"
   ]
  },
  {
   "cell_type": "raw",
   "metadata": {},
   "source": [
    "raise Exception('O erro foi esse')\n",
    "\n",
    "ou então avisando qual o tipo de erro que ele teve\n",
    "\n",
    "raise TypeError('O erro foi esse')\n",
    "raise ValueError('O erro foi esse')\n",
    "raise ZeroDivisionError('O erro foi esse')"
   ]
  },
  {
   "cell_type": "code",
   "execution_count": null,
   "metadata": {},
   "outputs": [],
   "source": [
    "def descobrir_servidor(email):\n",
    "    posicao_a = email.index('@')\n",
    "    servidor = email[posicao_a:]\n",
    "    if 'gmail' in servidor:\n",
    "        return 'gmail'\n",
    "    elif 'hotmail' in servidor or 'outlook' in servidor or 'live' in servidor:\n",
    "        return 'hotmail'\n",
    "    elif 'yahoo' in servidor:\n",
    "        return 'yahoo'\n",
    "    elif 'uol' in servidor or 'bol' in servidor:\n",
    "        return 'uol'\n",
    "    else:\n",
    "        return 'não determinado'"
   ]
  },
  {
   "cell_type": "markdown",
   "metadata": {},
   "source": [
    "### Tratamento Completo:"
   ]
  },
  {
   "cell_type": "raw",
   "metadata": {},
   "source": [
    "try:\n",
    "    tente fazer isso\n",
    "except ErroEspecífico:\n",
    "    deu esse erro aqui que era esperado \n",
    "else:\n",
    "    caso não dê o erro esperado, rode isso.\n",
    "finally:\n",
    "    independente do que acontecer, faça isso."
   ]
  }
 ],
 "metadata": {
  "kernelspec": {
   "display_name": "Python 3.9.12 ('base')",
   "language": "python",
   "name": "python3"
  },
  "language_info": {
   "codemirror_mode": {
    "name": "ipython",
    "version": 3
   },
   "file_extension": ".py",
   "mimetype": "text/x-python",
   "name": "python",
   "nbconvert_exporter": "python",
   "pygments_lexer": "ipython3",
   "version": "3.9.12"
  },
  "vscode": {
   "interpreter": {
    "hash": "ad2bdc8ecc057115af97d19610ffacc2b4e99fae6737bb82f5d7fb13d2f2c186"
   }
  }
 },
 "nbformat": 4,
 "nbformat_minor": 4
}
