{
 "cells": [
  {
   "cell_type": "markdown",
   "metadata": {},
   "source": [
    "# Exercícios\n",
    "\n",
    "### Antes de irmos para o desafio que apresentamos na última aula (que é bem mais complexo do que um exemplo simples) vamos resolver um exercício um pouco mais simples para treinar\n",
    "\n",
    "## 1. Cálculo do Percentual e da Lista de Vendedores\n",
    "\n",
    "- Queremos criar uma function que consiga identificar os vendedores que bateram uma meta, mas além disso, consigo já me dar como resposta o cálculo do % da lista de vendedores que bateu a meta (para eu não precisar calcular manualmente depois)\n",
    "- Essa function deve receber 2 informações como parâmetro: a meta e um dicionário com os vendedores e suas vendas. E me dar 2 respostas: uma lista com o nome dos vendedores que bateram a meta e o % de vendedores que bateu a meta."
   ]
  },
  {
   "cell_type": "code",
   "execution_count": 1,
   "metadata": {},
   "outputs": [],
   "source": [
    "meta = 10000\n",
    "vendas = {\n",
    "    'João': 15000,\n",
    "    'Julia': 27000,\n",
    "    'Marcus': 9900,\n",
    "    'Maria': 3750,\n",
    "    'Ana': 10300,\n",
    "    'Alon': 7870,\n",
    "}"
   ]
  },
  {
   "cell_type": "code",
   "execution_count": 4,
   "metadata": {},
   "outputs": [],
   "source": [
    "\n",
    "    "
   ]
  },
  {
   "cell_type": "code",
   "execution_count": 8,
   "metadata": {},
   "outputs": [],
   "source": [
    "#Criação da function\n",
    "def calcula_meta(meta, vendas):\n",
    "    bateu_meta = []\n",
    "    for vendedor in vendas:\n",
    "        if vendas[vendedor] >= meta:\n",
    "            bateu_meta.append(vendedor)\n",
    "    percentual_meta_batida = len(bateu_meta) / len(vendas)\n",
    "    return percentual_meta_batida, bateu_meta\n"
   ]
  },
  {
   "cell_type": "code",
   "execution_count": 11,
   "metadata": {},
   "outputs": [
    {
     "name": "stdout",
     "output_type": "stream",
     "text": [
      "0.5\n",
      "['João', 'Julia', 'Ana']\n"
     ]
    }
   ],
   "source": [
    "#aplique sua function nas informações para ver se está funcionando\n",
    "percentual_meta, vendedores_acima_meta = calcula_meta(meta, vendas)\n",
    "print(percentual_meta)\n",
    "print(vendedores_acima_meta)"
   ]
  }
 ],
 "metadata": {
  "kernelspec": {
   "display_name": "Python 3.9.12 ('base')",
   "language": "python",
   "name": "python3"
  },
  "language_info": {
   "codemirror_mode": {
    "name": "ipython",
    "version": 3
   },
   "file_extension": ".py",
   "mimetype": "text/x-python",
   "name": "python",
   "nbconvert_exporter": "python",
   "pygments_lexer": "ipython3",
   "version": "3.9.12"
  },
  "vscode": {
   "interpreter": {
    "hash": "ad2bdc8ecc057115af97d19610ffacc2b4e99fae6737bb82f5d7fb13d2f2c186"
   }
  }
 },
 "nbformat": 4,
 "nbformat_minor": 4
}
