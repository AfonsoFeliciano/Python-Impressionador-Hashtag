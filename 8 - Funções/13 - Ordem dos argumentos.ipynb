{
 "cells": [
  {
   "cell_type": "markdown",
   "metadata": {},
   "source": [
    "# Ordem dos Argumentos\n",
    "\n",
    "### Estrutura:\n",
    "\n",
    "- Sempre os positional arguments vêm antes e depois os keywords arguments.\n",
    "- Sempre os argumentos individuais vêm antes e depois os \"múltiplos\""
   ]
  },
  {
   "cell_type": "raw",
   "metadata": {},
   "source": [
    "def minha_funcao(arg1, arg2, arg3, arg4, *args, k = kwarg1, k2 = kwarg2, k3 = kwarg3, **kwargs):\n",
    "    ..."
   ]
  },
  {
   "cell_type": "code",
   "execution_count": 7,
   "metadata": {},
   "outputs": [],
   "source": [
    "def somar(*numeros, num1):\n",
    "    soma = 0\n",
    "    for numero in numeros:\n",
    "        soma += numero\n",
    "    soma += num1\n",
    "    return soma"
   ]
  },
  {
   "cell_type": "code",
   "execution_count": 2,
   "metadata": {},
   "outputs": [
    {
     "ename": "TypeError",
     "evalue": "somar() missing 1 required keyword-only argument: 'num1'",
     "output_type": "error",
     "traceback": [
      "\u001b[1;31m---------------------------------------------------------------------------\u001b[0m",
      "\u001b[1;31mTypeError\u001b[0m                                 Traceback (most recent call last)",
      "\u001b[1;32mc:\\Users\\afonso.feliciano\\Desktop\\Python-Impressionador-Hashtag\\8 - Funções\\13 - Ordem dos argumentos.ipynb Célula: 4\u001b[0m in \u001b[0;36m<cell line: 1>\u001b[1;34m()\u001b[0m\n\u001b[1;32m----> <a href='vscode-notebook-cell:/c%3A/Users/afonso.feliciano/Desktop/Python-Impressionador-Hashtag/8%20-%20Fun%C3%A7%C3%B5es/13%20-%20Ordem%20dos%20argumentos.ipynb#W4sZmlsZQ%3D%3D?line=0'>1</a>\u001b[0m \u001b[39mprint\u001b[39m(somar(\u001b[39m10\u001b[39;49m, \u001b[39m15\u001b[39;49m, \u001b[39m1\u001b[39;49m))\n",
      "\u001b[1;31mTypeError\u001b[0m: somar() missing 1 required keyword-only argument: 'num1'"
     ]
    }
   ],
   "source": [
    "print(somar(10, 15, 1))"
   ]
  },
  {
   "cell_type": "code",
   "execution_count": 5,
   "metadata": {},
   "outputs": [],
   "source": [
    "def somar(num1, *numeros):\n",
    "    soma = 0\n",
    "    for numero in numeros:\n",
    "        soma += numero\n",
    "    soma += num1\n",
    "    return soma"
   ]
  },
  {
   "cell_type": "code",
   "execution_count": 6,
   "metadata": {},
   "outputs": [
    {
     "name": "stdout",
     "output_type": "stream",
     "text": [
      "26\n"
     ]
    }
   ],
   "source": [
    "print(somar(10, 15, 1))"
   ]
  },
  {
   "cell_type": "code",
   "execution_count": null,
   "metadata": {},
   "outputs": [],
   "source": []
  }
 ],
 "metadata": {
  "kernelspec": {
   "display_name": "Python 3.9.12 ('base')",
   "language": "python",
   "name": "python3"
  },
  "language_info": {
   "codemirror_mode": {
    "name": "ipython",
    "version": 3
   },
   "file_extension": ".py",
   "mimetype": "text/x-python",
   "name": "python",
   "nbconvert_exporter": "python",
   "pygments_lexer": "ipython3",
   "version": "3.9.12"
  },
  "vscode": {
   "interpreter": {
    "hash": "ad2bdc8ecc057115af97d19610ffacc2b4e99fae6737bb82f5d7fb13d2f2c186"
   }
  }
 },
 "nbformat": 4,
 "nbformat_minor": 4
}
