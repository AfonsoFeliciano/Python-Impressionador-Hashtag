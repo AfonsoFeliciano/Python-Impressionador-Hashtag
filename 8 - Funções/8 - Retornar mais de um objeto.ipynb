{
 "cells": [
  {
   "cell_type": "markdown",
   "metadata": {},
   "source": [
    "# Como \"retornar\" mais de um objeto\n",
    "\n",
    "- É possível retornar 2 \"coisas\"? 2 listas, 2 strings, 2 números...\n",
    "    - Sim, basta retornar como uma tupla com 2 itens (vamos fazer um exemplo)\n",
    "    \n"
   ]
  },
  {
   "cell_type": "code",
   "execution_count": 1,
   "metadata": {},
   "outputs": [],
   "source": [
    "def operacoes_basicas(num1, num2):\n",
    "    soma = num1 + num2\n",
    "    diferenca = num1 - num2\n",
    "    mult = num1 * num2\n",
    "    divisao = num1 / num2\n",
    "    return soma, diferenca, mult, divisao"
   ]
  },
  {
   "cell_type": "code",
   "execution_count": 3,
   "metadata": {},
   "outputs": [
    {
     "name": "stdout",
     "output_type": "stream",
     "text": [
      "O retorno é uma tupla (30, -10, 200, 0.5)\n"
     ]
    }
   ],
   "source": [
    "print('O retorno é uma tupla', operacoes_basicas(10, 20))"
   ]
  },
  {
   "cell_type": "markdown",
   "metadata": {},
   "source": [
    "### Aplicação\n",
    "\n",
    "- Data Science e Inteligência Artificial usa MUITO isso.\n",
    "\n",
    "    1. Quando criamos um modelo de previsão, precisamos treinar esse modelo e testar para ver se ele sendo um bom modelo ou não.\n",
    "    2. Temos então que pegar os nossos dados e dividir em 2 pedaços, uma lista de treino e uma lista de teste.\n",
    "    3. Vamos então pensar no exemplo de um modelo que tenta identificar qual o valor justo de um imóvel de acordo com o tamanho do imóvel. Temos então 2 listas:\n",
    "        - Lista 1: Preços Reais dos Imóveis\n",
    "        - Lista 2: Tamanho do imóvel.\n",
    "    4. Vamos criar então uma função que recebe 2 listas como entrada e que divide cada uma dessas listas em 2, um pedaço de treino e um pedaço de teste. O percentual que a lista vai ser dividida é definida por um fator (que também vai ser um parâmetro da função)"
   ]
  },
  {
   "cell_type": "code",
   "execution_count": 3,
   "metadata": {},
   "outputs": [
    {
     "name": "stdout",
     "output_type": "stream",
     "text": [
      "[2.17, 1.54, 1.45, 1.94, 2.37, 2.3, 1.79]\n",
      "[1.8, 2.25, 1.37]\n"
     ]
    }
   ],
   "source": [
    "#exemplo mais simples para facilitar a visualização\n",
    "precos_imoveis = [2.17,1.54,1.45,1.94,2.37,2.3,1.79,1.8,2.25,1.37]\n",
    "tamanho_imoveis = [207,148,130,203,257,228,160,194,232,147]\n",
    "\n",
    "# Vamos definir qual o fator que vamos dividir as listas (ou seja, quantos % da lista vai ficar pra teste. O resto fica pra treino)\n",
    "#Vamos usar 0.1 (10%)\n",
    "fator = 0.25\n",
    "\n",
    "\n",
    "#Isso significa que a lista de teste tem quantos itens?\n",
    "i = int((1 - fator) * len(precos_imoveis))\n",
    "\n",
    "#Agora vamos entender qual conta temos que fazer para dividir a lista em 2 listas. Uma com 90% dos valores e outra com 10%\n",
    "precos_treino = precos_imoveis[:i]\n",
    "precos_teste = precos_imoveis[i:]\n",
    "\n",
    "print(precos_treino)\n",
    "print(precos_teste)"
   ]
  },
  {
   "cell_type": "code",
   "execution_count": 12,
   "metadata": {},
   "outputs": [
    {
     "name": "stdout",
     "output_type": "stream",
     "text": [
      "Preço para treino [2.17, 1.54, 1.45, 1.94, 2.37, 2.3, 1.79, 1.8, 2.25]\n",
      "Preço para teste [1.37]\n",
      "Tamanho para treino [207, 148, 130, 203, 257, 228, 160, 194, 232]\n",
      "Tamanho para teste [147]\n"
     ]
    }
   ],
   "source": [
    "def separar_listas(precos, tamanhos, fator = 0.1):\n",
    "    if len(precos) == len(tamanhos):\n",
    "        i = int((1 - fator) * len(precos))\n",
    "\n",
    "        #Preços\n",
    "        precos_imoveis_treino = precos[:i]\n",
    "        precos_imoveis_teste = precos[i:]\n",
    "        \n",
    "        #Testes\n",
    "        tamanho_imoveis_treino = tamanhos[:i]\n",
    "        tamanho_imoveis_teste = tamanhos[i:]\n",
    "\n",
    "        return precos_imoveis_treino, precos_imoveis_teste, tamanho_imoveis_treino, tamanho_imoveis_teste\n",
    "\n",
    "    else:\n",
    "        print('As listas precisam possuir a mesma quantidade de itens')\n",
    "        return None\n",
    "\n",
    "\n",
    "preco_treino, preco_teste, tamanho_treino, tamanho_teste = separar_listas(precos_imoveis, tamanho_imoveis)\n",
    "print('Preço para treino', preco_treino)\n",
    "print('Preço para teste', preco_teste)\n",
    "print('Tamanho para treino', tamanho_treino)\n",
    "print('Tamanho para teste', tamanho_teste)"
   ]
  },
  {
   "cell_type": "markdown",
   "metadata": {},
   "source": [
    "- Gabarito:"
   ]
  }
 ],
 "metadata": {
  "kernelspec": {
   "display_name": "Python 3.9.12 ('base')",
   "language": "python",
   "name": "python3"
  },
  "language_info": {
   "codemirror_mode": {
    "name": "ipython",
    "version": 3
   },
   "file_extension": ".py",
   "mimetype": "text/x-python",
   "name": "python",
   "nbconvert_exporter": "python",
   "pygments_lexer": "ipython3",
   "version": "3.9.12"
  },
  "vscode": {
   "interpreter": {
    "hash": "ad2bdc8ecc057115af97d19610ffacc2b4e99fae6737bb82f5d7fb13d2f2c186"
   }
  }
 },
 "nbformat": 4,
 "nbformat_minor": 4
}
