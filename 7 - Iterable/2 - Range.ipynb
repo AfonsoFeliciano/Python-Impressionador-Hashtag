{
 "cells": [
  {
   "cell_type": "markdown",
   "metadata": {},
   "source": [
    "# Range\n",
    "\n",
    "## Estrutura\n",
    "\n",
    "- range(tamanho)\n",
    "- range(inicio, fim)\n",
    "- range(inicio, fim, passo)"
   ]
  },
  {
   "cell_type": "markdown",
   "metadata": {},
   "source": [
    "## Range convencional"
   ]
  },
  {
   "cell_type": "code",
   "execution_count": 2,
   "metadata": {},
   "outputs": [
    {
     "name": "stdout",
     "output_type": "stream",
     "text": [
      "arroz: 50 unidades em estoque\n",
      "feijao: 100 unidades em estoque\n",
      "macarrao: 20 unidades em estoque\n",
      "atum: 5 unidades em estoque\n",
      "azeite: 80 unidades em estoque\n"
     ]
    }
   ],
   "source": [
    "produtos = ['arroz', 'feijao', 'macarrao', 'atum', 'azeite']\n",
    "estoque = [50, 100, 20, 5, 80]\n",
    "\n",
    "for i in range(5):\n",
    "    print('{}: {} unidades em estoque'.format(produtos[i], estoque[i]))"
   ]
  },
  {
   "cell_type": "markdown",
   "metadata": {},
   "source": [
    "## Range com início e fim"
   ]
  },
  {
   "cell_type": "markdown",
   "metadata": {},
   "source": [
    "- Exemplo Modelo Jack Welch da G&E\n",
    "\n",
    "1.  Classe A: 10% melhor\n",
    "1.  Classe B: 80% mantém/busca melhorar\n",
    "1.  Classe C: 10% pior"
   ]
  },
  {
   "cell_type": "code",
   "execution_count": 9,
   "metadata": {},
   "outputs": [
    {
     "name": "stdout",
     "output_type": "stream",
     "text": [
      "Funcionários classe B\n",
      "Daniel fez 500 vendas\n",
      "Antonio fez 485 vendas\n",
      "Francisco fez 460 vendas\n",
      "Ana fez 300 vendas\n",
      "Luiz fez 285 vendas\n",
      "Paulo fez 250 vendas\n"
     ]
    }
   ],
   "source": [
    "funcionarios = ['Maria', 'Jorge', 'Daniel', 'Antonio', 'Francisco', 'Ana', 'Luiz', 'Paulo', 'Carlos', 'Manoel']\n",
    "vendas = [3000, 1500, 500, 485, 460, 300, 285, 250, 15, 10]\n",
    "\n",
    "print('Funcionários classe B')\n",
    "for i in range(2, 8):\n",
    "    print('{} fez {} vendas'.format(funcionarios[i], vendas[i]))\n",
    "    \n"
   ]
  },
  {
   "cell_type": "markdown",
   "metadata": {},
   "source": [
    "- Range com passo"
   ]
  },
  {
   "cell_type": "code",
   "execution_count": 10,
   "metadata": {},
   "outputs": [
    {
     "name": "stdout",
     "output_type": "stream",
     "text": [
      "0\n",
      "2\n",
      "4\n",
      "6\n",
      "8\n"
     ]
    }
   ],
   "source": [
    "for i in range(0, 10, 2):\n",
    "    print(i)"
   ]
  }
 ],
 "metadata": {
  "kernelspec": {
   "display_name": "Python 3.9.12 ('base')",
   "language": "python",
   "name": "python3"
  },
  "language_info": {
   "codemirror_mode": {
    "name": "ipython",
    "version": 3
   },
   "file_extension": ".py",
   "mimetype": "text/x-python",
   "name": "python",
   "nbconvert_exporter": "python",
   "pygments_lexer": "ipython3",
   "version": "3.9.12"
  },
  "orig_nbformat": 4,
  "vscode": {
   "interpreter": {
    "hash": "ad2bdc8ecc057115af97d19610ffacc2b4e99fae6737bb82f5d7fb13d2f2c186"
   }
  }
 },
 "nbformat": 4,
 "nbformat_minor": 2
}
