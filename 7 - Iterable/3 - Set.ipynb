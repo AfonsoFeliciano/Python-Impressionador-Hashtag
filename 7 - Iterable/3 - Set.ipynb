{
 "cells": [
  {
   "cell_type": "markdown",
   "metadata": {},
   "source": [
    "# Set\n",
    "\n",
    "## Estrutura\n",
    "\n",
    "meu_set = {valor1, valor2, valor3, valor4 ...}\n",
    "\n",
    "### Observações\n",
    "\n",
    "- Não pode ter valores duplicados\n",
    "- Não tem ordem fixa"
   ]
  },
  {
   "cell_type": "code",
   "execution_count": 1,
   "metadata": {},
   "outputs": [
    {
     "name": "stdout",
     "output_type": "stream",
     "text": [
      "{'feijao', 'azeite', 'macarrao', 'arroz'}\n"
     ]
    }
   ],
   "source": [
    "set_produtos = {'arroz', 'feijao', 'macarrao', 'azeite'}\n",
    "print(set_produtos)"
   ]
  },
  {
   "cell_type": "markdown",
   "metadata": {},
   "source": [
    "- QUantos clientes a loja possui? "
   ]
  },
  {
   "cell_type": "code",
   "execution_count": 4,
   "metadata": {},
   "outputs": [
    {
     "name": "stdout",
     "output_type": "stream",
     "text": [
      "A loja possui 2 cpfs cadastrados.\n"
     ]
    }
   ],
   "source": [
    "# Criando set de cpfs utilizando lista, porém com valores duplicados\n",
    "cpf_clientes = ['726.145.175-20', '826.145.14-10', '726.145.175-20']\n",
    "\n",
    "set_cpf_clientes = set(cpf_clientes)\n",
    "\n",
    "print('A loja possui {} cpfs cadastrados.'.format(len(set_cpf_clientes)))\n",
    "\n"
   ]
  }
 ],
 "metadata": {
  "kernelspec": {
   "display_name": "Python 3.9.12 ('base')",
   "language": "python",
   "name": "python3"
  },
  "language_info": {
   "codemirror_mode": {
    "name": "ipython",
    "version": 3
   },
   "file_extension": ".py",
   "mimetype": "text/x-python",
   "name": "python",
   "nbconvert_exporter": "python",
   "pygments_lexer": "ipython3",
   "version": "3.9.12"
  },
  "orig_nbformat": 4,
  "vscode": {
   "interpreter": {
    "hash": "ad2bdc8ecc057115af97d19610ffacc2b4e99fae6737bb82f5d7fb13d2f2c186"
   }
  }
 },
 "nbformat": 4,
 "nbformat_minor": 2
}
