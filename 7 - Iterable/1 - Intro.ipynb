{
 "cells": [
  {
   "cell_type": "markdown",
   "metadata": {},
   "source": [
    "# o que é um iterable? \n",
    "\n",
    "Um iterable é uma estrutura que armazena dados que podem ser iterados, realizando loops como for e percorrendo item a item. "
   ]
  },
  {
   "cell_type": "markdown",
   "metadata": {},
   "source": [
    "- Lista"
   ]
  },
  {
   "cell_type": "code",
   "execution_count": 1,
   "metadata": {},
   "outputs": [
    {
     "name": "stdout",
     "output_type": "stream",
     "text": [
      "celular\n",
      "notebook\n",
      "tv\n"
     ]
    }
   ],
   "source": [
    "produtos = ['celular', 'notebook', 'tv']\n",
    "\n",
    "for produto in produtos:\n",
    "    print(produto)"
   ]
  },
  {
   "cell_type": "markdown",
   "metadata": {},
   "source": [
    "- Strings"
   ]
  },
  {
   "cell_type": "code",
   "execution_count": 2,
   "metadata": {},
   "outputs": [
    {
     "name": "stdout",
     "output_type": "stream",
     "text": [
      "a\n",
      "f\n",
      "o\n",
      "n\n",
      "s\n",
      "o\n",
      "f\n",
      "e\n",
      "l\n",
      "i\n",
      "c\n",
      "i\n",
      "a\n",
      "n\n",
      "o\n",
      "@\n",
      "l\n",
      "i\n",
      "v\n",
      "e\n",
      ".\n",
      "c\n",
      "o\n",
      "m\n"
     ]
    }
   ],
   "source": [
    "texto = 'afonsofeliciano@live.com'\n",
    "\n",
    "for caractere in texto:\n",
    "    print(caractere)"
   ]
  },
  {
   "cell_type": "markdown",
   "metadata": {},
   "source": [
    "- Tupla"
   ]
  },
  {
   "cell_type": "code",
   "execution_count": 3,
   "metadata": {},
   "outputs": [
    {
     "name": "stdout",
     "output_type": "stream",
     "text": [
      "telefone\n",
      "mesa\n",
      "cadeira\n"
     ]
    }
   ],
   "source": [
    "produtos = ('telefone', 'mesa', 'cadeira')\n",
    "\n",
    "for produto in produtos:\n",
    "    print(produto)"
   ]
  },
  {
   "cell_type": "markdown",
   "metadata": {},
   "source": [
    "- Dicionário"
   ]
  },
  {
   "cell_type": "code",
   "execution_count": 6,
   "metadata": {},
   "outputs": [
    {
     "name": "stdout",
     "output_type": "stream",
     "text": [
      "telefone: 200 unidades\n",
      "mesa: 500 unidades\n",
      "cadeira: 2000 unidades\n"
     ]
    }
   ],
   "source": [
    "venda_produtos = {'telefone': 200, 'mesa': 500, 'cadeira': 2000}\n",
    "\n",
    "for produto in venda_produtos:\n",
    "    print('{}: {} unidades'.format(produto, venda_produtos[produto]))"
   ]
  }
 ],
 "metadata": {
  "kernelspec": {
   "display_name": "Python 3.9.12 ('base')",
   "language": "python",
   "name": "python3"
  },
  "language_info": {
   "codemirror_mode": {
    "name": "ipython",
    "version": 3
   },
   "file_extension": ".py",
   "mimetype": "text/x-python",
   "name": "python",
   "nbconvert_exporter": "python",
   "pygments_lexer": "ipython3",
   "version": "3.9.12"
  },
  "orig_nbformat": 4,
  "vscode": {
   "interpreter": {
    "hash": "ad2bdc8ecc057115af97d19610ffacc2b4e99fae6737bb82f5d7fb13d2f2c186"
   }
  }
 },
 "nbformat": 4,
 "nbformat_minor": 2
}
