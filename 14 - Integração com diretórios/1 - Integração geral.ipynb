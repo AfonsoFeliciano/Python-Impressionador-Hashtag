{
 "cells": [
  {
   "cell_type": "markdown",
   "metadata": {},
   "source": [
    "# Python e Arquivos do Computador\n",
    "\n",
    "### Módulo os e pathlib\n",
    "\n",
    "Os módulos os e pathlib são uns dos melhores módulos/bibliotecas para controlar as pastas e arquivos do seu computador. Existem alguns outros módulos que podem auxiliar dependendo do que você está querendo fazer, mas em essência conseguiremos usar esses módulos para resolver nossos desafios.\n",
    "\n",
    "Usaremos aqui o pathlib por ele funcionar bem independente do sistema operacional que você está usando.\n",
    "\n",
    "### Atenção Especial\n",
    "\n",
    "Normalmente os caminhos em computadores Windows, Mac ou Linux são diferentes, mas isso é algo que o pathlib vai resolver para a gente\n",
    "\n",
    "### Módulo shutil\n",
    "\n",
    "Para as ações de copiar e colar arquivo, até conseguimos fazer com os módulos os e pathlib, mas é mais difícil e com maior margem de erro. MAS, existe o módulo shutil para ajudar nisso"
   ]
  },
  {
   "cell_type": "markdown",
   "metadata": {},
   "source": [
    "- Importando os Módulos"
   ]
  },
  {
   "cell_type": "raw",
   "metadata": {},
   "source": [
    "from pathlib import Path"
   ]
  },
  {
   "cell_type": "markdown",
   "metadata": {},
   "source": [
    "- Descobrindo onde está o nosso arquivo"
   ]
  },
  {
   "cell_type": "raw",
   "metadata": {},
   "source": [
    "caminho = Path.cwd()"
   ]
  },
  {
   "cell_type": "markdown",
   "metadata": {},
   "source": [
    "- Navegando até uma pasta específica"
   ]
  },
  {
   "cell_type": "raw",
   "metadata": {},
   "source": [
    "caminho = Path('pasta1/pasta2/pasta3/')"
   ]
  },
  {
   "cell_type": "markdown",
   "metadata": {},
   "source": [
    "- Listando todos os arquivos da Pasta Atual"
   ]
  },
  {
   "cell_type": "raw",
   "metadata": {},
   "source": [
    "arquivos = Path.iterdir()"
   ]
  },
  {
   "cell_type": "markdown",
   "metadata": {},
   "source": [
    "- Criando uma pasta"
   ]
  },
  {
   "cell_type": "raw",
   "metadata": {},
   "source": [
    "Path('pasta/nova_pasta').mkdir()"
   ]
  },
  {
   "cell_type": "markdown",
   "metadata": {},
   "source": [
    "- Verificando se um Arquivo Existe"
   ]
  },
  {
   "cell_type": "raw",
   "metadata": {},
   "source": [
    "arquivo = Path('pasta/arquivo.extensao')\n",
    "arquivo.exists()"
   ]
  },
  {
   "cell_type": "markdown",
   "metadata": {},
   "source": [
    "- Copiando um Arquivo"
   ]
  },
  {
   "cell_type": "raw",
   "metadata": {},
   "source": [
    "import shutil\n",
    "shutil.copy2('arquivo_para_copiar.extensao', 'nome_da_copia_criada.extensao')"
   ]
  },
  {
   "cell_type": "markdown",
   "metadata": {},
   "source": [
    "- Movendo um Arquivo"
   ]
  },
  {
   "cell_type": "raw",
   "metadata": {},
   "source": [
    "2 formas:\n",
    "\n",
    "Path('caminho/arquivo.extensao').rename('caminho_novo/arquivo.extensao')<br>\n",
    "\n",
    "ou\n",
    "\n",
    "shutil.move(Path('caminho/arquivo.extensao'), Path('caminho_novo/arquivo.extensao'))"
   ]
  },
  {
   "cell_type": "code",
   "execution_count": 1,
   "metadata": {},
   "outputs": [],
   "source": [
    "from pathlib import Path"
   ]
  },
  {
   "cell_type": "markdown",
   "metadata": {},
   "source": [
    "### Vamos listar todos os arquivos de uma pasta"
   ]
  },
  {
   "cell_type": "code",
   "execution_count": 7,
   "metadata": {},
   "outputs": [
    {
     "name": "stdout",
     "output_type": "stream",
     "text": [
      "c:\\Users\\afonso.feliciano\\Desktop\\Python-Impressionador-Hashtag\\14 - Integração com diretórios\n",
      "Arquivos_Lojas\\201801_Amazonas Shopping_AM.csv\n",
      "Arquivos_Lojas\\201801_Barra Shopping_RJ.csv\n",
      "Arquivos_Lojas\\201801_BH Shopping_MG.csv\n",
      "Arquivos_Lojas\\201801_Bourbon_SP.csv\n",
      "Arquivos_Lojas\\201801_Buriti Shopping_GO.csv\n",
      "Arquivos_Lojas\\201801_Cidade de Sao Paulo_SP.csv\n",
      "Arquivos_Lojas\\201801_Goiania Shopping_GO.csv\n",
      "Arquivos_Lojas\\201801_Ibirapuera_SP.csv\n",
      "Arquivos_Lojas\\201801_Iguatemi_SP.csv\n",
      "Arquivos_Lojas\\201801_Independência Shopping_MG.csv\n",
      "Arquivos_Lojas\\201801_JK Iguatemi_SP.csv\n",
      "Arquivos_Lojas\\201801_Minas Shopping_MG.csv\n",
      "Arquivos_Lojas\\201801_Morumbi_SP.csv\n",
      "Arquivos_Lojas\\201801_Plaza Shopping_RJ.csv\n",
      "Arquivos_Lojas\\201801_Rio Sul_RJ.csv\n",
      "Arquivos_Lojas\\201801_Shopping Cidade_MG.csv\n",
      "Arquivos_Lojas\\201801_Shopping Leblon_RJ.csv\n",
      "Arquivos_Lojas\\201801_Shopping Tijuca_RJ.csv\n",
      "Arquivos_Lojas\\201802_Amazonas Shopping_AM.csv\n",
      "Arquivos_Lojas\\201802_Barra Shopping_RJ.csv\n",
      "Arquivos_Lojas\\201802_BH Shopping_MG.csv\n",
      "Arquivos_Lojas\\201802_Bourbon_SP.csv\n",
      "Arquivos_Lojas\\201802_Buriti Shopping_GO.csv\n",
      "Arquivos_Lojas\\201802_Cidade de Sao Paulo_SP.csv\n",
      "Arquivos_Lojas\\201802_Goiania Shopping_GO.csv\n",
      "Arquivos_Lojas\\201802_Ibirapuera_SP.csv\n",
      "Arquivos_Lojas\\201802_Iguatemi_SP.csv\n",
      "Arquivos_Lojas\\201802_Independência Shopping_MG.csv\n",
      "Arquivos_Lojas\\201802_JK Iguatemi_SP.csv\n",
      "Arquivos_Lojas\\201802_Minas Shopping_MG.csv\n",
      "Arquivos_Lojas\\201802_Morumbi_SP.csv\n",
      "Arquivos_Lojas\\201802_Plaza Shopping_RJ.csv\n",
      "Arquivos_Lojas\\201802_Rio Sul_RJ.csv\n",
      "Arquivos_Lojas\\201802_Shopping Cidade_MG.csv\n",
      "Arquivos_Lojas\\201802_Shopping Leblon_RJ.csv\n",
      "Arquivos_Lojas\\201802_Shopping Tijuca_RJ.csv\n",
      "Arquivos_Lojas\\201803_Amazonas Shopping_AM.csv\n",
      "Arquivos_Lojas\\201803_Barra Shopping_RJ.csv\n",
      "Arquivos_Lojas\\201803_BH Shopping_MG.csv\n",
      "Arquivos_Lojas\\201803_Bourbon_SP.csv\n",
      "Arquivos_Lojas\\201803_Buriti Shopping_GO.csv\n",
      "Arquivos_Lojas\\201803_Cidade de Sao Paulo_SP.csv\n",
      "Arquivos_Lojas\\201803_Goiania Shopping_GO.csv\n",
      "Arquivos_Lojas\\201803_Ibirapuera_SP.csv\n",
      "Arquivos_Lojas\\201803_Iguatemi_SP.csv\n",
      "Arquivos_Lojas\\201803_Independência Shopping_MG.csv\n",
      "Arquivos_Lojas\\201803_JK Iguatemi_SP.csv\n",
      "Arquivos_Lojas\\201803_Minas Shopping_MG.csv\n",
      "Arquivos_Lojas\\201803_Morumbi_SP.csv\n",
      "Arquivos_Lojas\\201803_Plaza Shopping_RJ.csv\n",
      "Arquivos_Lojas\\201803_Rio Sul_RJ.csv\n",
      "Arquivos_Lojas\\201803_Shopping Cidade_MG.csv\n",
      "Arquivos_Lojas\\201803_Shopping Leblon_RJ.csv\n",
      "Arquivos_Lojas\\201803_Shopping Tijuca_RJ.csv\n",
      "Arquivos_Lojas\\201804_Amazonas Shopping_AM.csv\n",
      "Arquivos_Lojas\\201804_Barra Shopping_RJ.csv\n",
      "Arquivos_Lojas\\201804_BH Shopping_MG.csv\n",
      "Arquivos_Lojas\\201804_Bourbon_SP.csv\n",
      "Arquivos_Lojas\\201804_Buriti Shopping_GO.csv\n",
      "Arquivos_Lojas\\201804_Cidade de Sao Paulo_SP.csv\n",
      "Arquivos_Lojas\\201804_Goiania Shopping_GO.csv\n",
      "Arquivos_Lojas\\201804_Ibirapuera_SP.csv\n",
      "Arquivos_Lojas\\201804_Iguatemi_SP.csv\n",
      "Arquivos_Lojas\\201804_Independência Shopping_MG.csv\n",
      "Arquivos_Lojas\\201804_JK Iguatemi_SP.csv\n",
      "Arquivos_Lojas\\201804_Minas Shopping_MG.csv\n",
      "Arquivos_Lojas\\201804_Morumbi_SP.csv\n",
      "Arquivos_Lojas\\201804_Plaza Shopping_RJ.csv\n",
      "Arquivos_Lojas\\201804_Rio Sul_RJ.csv\n",
      "Arquivos_Lojas\\201804_Shopping Cidade_MG.csv\n",
      "Arquivos_Lojas\\201804_Shopping Leblon_RJ.csv\n",
      "Arquivos_Lojas\\201804_Shopping Tijuca_RJ.csv\n",
      "Arquivos_Lojas\\201901_Amazonas Shopping_AM.csv\n",
      "Arquivos_Lojas\\201901_Barra Shopping_RJ.csv\n",
      "Arquivos_Lojas\\201901_BH Shopping_MG.csv\n",
      "Arquivos_Lojas\\201901_Bourbon_SP.csv\n",
      "Arquivos_Lojas\\201901_Buriti Shopping_GO.csv\n",
      "Arquivos_Lojas\\201901_Cidade de Sao Paulo_SP.csv\n",
      "Arquivos_Lojas\\201901_Goiania Shopping_GO.csv\n",
      "Arquivos_Lojas\\201901_Ibirapuera_SP.csv\n",
      "Arquivos_Lojas\\201901_Iguatemi_SP.csv\n",
      "Arquivos_Lojas\\201901_Independência Shopping_MG.csv\n",
      "Arquivos_Lojas\\201901_JK Iguatemi_SP.csv\n",
      "Arquivos_Lojas\\201901_Minas Shopping_MG.csv\n",
      "Arquivos_Lojas\\201901_Morumbi_SP.csv\n",
      "Arquivos_Lojas\\201901_Plaza Shopping_RJ.csv\n",
      "Arquivos_Lojas\\201901_Rio Sul_RJ.csv\n",
      "Arquivos_Lojas\\201901_Shopping Cidade_MG.csv\n",
      "Arquivos_Lojas\\201901_Shopping Leblon_RJ.csv\n",
      "Arquivos_Lojas\\201901_Shopping Tijuca_RJ.csv\n",
      "Arquivos_Lojas\\201902_Amazonas Shopping_AM.csv\n",
      "Arquivos_Lojas\\201902_Barra Shopping_RJ.csv\n",
      "Arquivos_Lojas\\201902_BH Shopping_MG.csv\n",
      "Arquivos_Lojas\\201902_Bourbon_SP.csv\n",
      "Arquivos_Lojas\\201902_Buriti Shopping_GO.csv\n",
      "Arquivos_Lojas\\201902_Cidade de Sao Paulo_SP.csv\n",
      "Arquivos_Lojas\\201902_Goiania Shopping_GO.csv\n",
      "Arquivos_Lojas\\201902_Ibirapuera_SP.csv\n",
      "Arquivos_Lojas\\201902_Iguatemi_SP.csv\n",
      "Arquivos_Lojas\\201902_Independência Shopping_MG.csv\n",
      "Arquivos_Lojas\\201902_JK Iguatemi_SP.csv\n",
      "Arquivos_Lojas\\201902_Minas Shopping_MG.csv\n",
      "Arquivos_Lojas\\201902_Morumbi_SP.csv\n",
      "Arquivos_Lojas\\201902_Plaza Shopping_RJ.csv\n",
      "Arquivos_Lojas\\201902_Rio Sul_RJ.csv\n",
      "Arquivos_Lojas\\201902_Shopping Cidade_MG.csv\n",
      "Arquivos_Lojas\\201902_Shopping Leblon_RJ.csv\n",
      "Arquivos_Lojas\\201902_Shopping Tijuca_RJ.csv\n",
      "Arquivos_Lojas\\201903_Amazonas Shopping_AM.csv\n",
      "Arquivos_Lojas\\201903_Barra Shopping_RJ.csv\n",
      "Arquivos_Lojas\\201903_BH Shopping_MG.csv\n",
      "Arquivos_Lojas\\201903_Bourbon_SP.csv\n",
      "Arquivos_Lojas\\201903_Buriti Shopping_GO.csv\n",
      "Arquivos_Lojas\\201903_Cidade de Sao Paulo_SP.csv\n",
      "Arquivos_Lojas\\201903_Goiania Shopping_GO.csv\n",
      "Arquivos_Lojas\\201903_Ibirapuera_SP.csv\n",
      "Arquivos_Lojas\\201903_Iguatemi_SP.csv\n",
      "Arquivos_Lojas\\201903_Independência Shopping_MG.csv\n",
      "Arquivos_Lojas\\201903_JK Iguatemi_SP.csv\n",
      "Arquivos_Lojas\\201903_Minas Shopping_MG.csv\n",
      "Arquivos_Lojas\\201903_Morumbi_SP.csv\n",
      "Arquivos_Lojas\\201903_Plaza Shopping_RJ.csv\n",
      "Arquivos_Lojas\\201903_Rio Sul_RJ.csv\n",
      "Arquivos_Lojas\\201903_Shopping Cidade_MG.csv\n",
      "Arquivos_Lojas\\201903_Shopping Leblon_RJ.csv\n",
      "Arquivos_Lojas\\201903_Shopping Tijuca_RJ.csv\n",
      "Arquivos_Lojas\\201904_Amazonas Shopping_AM.csv\n",
      "Arquivos_Lojas\\201904_Barra Shopping_RJ.csv\n",
      "Arquivos_Lojas\\201904_BH Shopping_MG.csv\n",
      "Arquivos_Lojas\\201904_Bourbon_SP.csv\n",
      "Arquivos_Lojas\\201904_Buriti Shopping_GO.csv\n",
      "Arquivos_Lojas\\201904_Cidade de Sao Paulo_SP.csv\n",
      "Arquivos_Lojas\\201904_Goiania Shopping_GO.csv\n",
      "Arquivos_Lojas\\201904_Ibirapuera_SP.csv\n",
      "Arquivos_Lojas\\201904_Iguatemi_SP.csv\n",
      "Arquivos_Lojas\\201904_Independência Shopping_MG.csv\n",
      "Arquivos_Lojas\\201904_JK Iguatemi_SP.csv\n",
      "Arquivos_Lojas\\201904_Minas Shopping_MG.csv\n",
      "Arquivos_Lojas\\201904_Morumbi_SP.csv\n",
      "Arquivos_Lojas\\201904_Plaza Shopping_RJ.csv\n",
      "Arquivos_Lojas\\201904_Rio Sul_RJ.csv\n",
      "Arquivos_Lojas\\201904_Shopping Cidade_MG.csv\n",
      "Arquivos_Lojas\\201904_Shopping Leblon_RJ.csv\n",
      "Arquivos_Lojas\\201904_Shopping Tijuca_RJ.csv\n",
      "Arquivos_Lojas\\202001_Amazonas Shopping_AM.csv\n",
      "Arquivos_Lojas\\202001_Barra Shopping_RJ.csv\n",
      "Arquivos_Lojas\\202001_BH Shopping_MG.csv\n",
      "Arquivos_Lojas\\202001_Bourbon_SP.csv\n",
      "Arquivos_Lojas\\202001_Buriti Shopping_GO.csv\n",
      "Arquivos_Lojas\\202001_Cidade de Sao Paulo_SP.csv\n",
      "Arquivos_Lojas\\202001_Goiania Shopping_GO.csv\n",
      "Arquivos_Lojas\\202001_Ibirapuera_SP.csv\n",
      "Arquivos_Lojas\\202001_Iguatemi_SP.csv\n",
      "Arquivos_Lojas\\202001_Independência Shopping_MG.csv\n",
      "Arquivos_Lojas\\202001_JK Iguatemi_SP.csv\n",
      "Arquivos_Lojas\\202001_Minas Shopping_MG.csv\n",
      "Arquivos_Lojas\\202001_Morumbi_SP.csv\n",
      "Arquivos_Lojas\\202001_Plaza Shopping_RJ.csv\n",
      "Arquivos_Lojas\\202001_Rio Sul_RJ.csv\n",
      "Arquivos_Lojas\\202001_Shopping Cidade_MG.csv\n",
      "Arquivos_Lojas\\202001_Shopping Leblon_RJ.csv\n",
      "Arquivos_Lojas\\202001_Shopping Tijuca_RJ.csv\n",
      "Arquivos_Lojas\\202002_Amazonas Shopping_AM.csv\n",
      "Arquivos_Lojas\\202002_Barra Shopping_RJ.csv\n",
      "Arquivos_Lojas\\202002_BH Shopping_MG.csv\n",
      "Arquivos_Lojas\\202002_Bourbon_SP.csv\n",
      "Arquivos_Lojas\\202002_Buriti Shopping_GO.csv\n",
      "Arquivos_Lojas\\202002_Cidade de Sao Paulo_SP.csv\n",
      "Arquivos_Lojas\\202002_Goiania Shopping_GO.csv\n",
      "Arquivos_Lojas\\202002_Ibirapuera_SP.csv\n",
      "Arquivos_Lojas\\202002_Iguatemi_SP.csv\n",
      "Arquivos_Lojas\\202002_Independência Shopping_MG.csv\n",
      "Arquivos_Lojas\\202002_JK Iguatemi_SP.csv\n",
      "Arquivos_Lojas\\202002_Minas Shopping_MG.csv\n",
      "Arquivos_Lojas\\202002_Morumbi_SP.csv\n",
      "Arquivos_Lojas\\202002_Plaza Shopping_RJ.csv\n",
      "Arquivos_Lojas\\202002_Rio Sul_RJ.csv\n",
      "Arquivos_Lojas\\202002_Shopping Cidade_MG.csv\n",
      "Arquivos_Lojas\\202002_Shopping Leblon_RJ.csv\n",
      "Arquivos_Lojas\\202002_Shopping Tijuca_RJ.csv\n",
      "Arquivos_Lojas\\202003_Amazonas Shopping_AM.csv\n",
      "Arquivos_Lojas\\202003_Barra Shopping_RJ.csv\n",
      "Arquivos_Lojas\\202003_BH Shopping_MG.csv\n",
      "Arquivos_Lojas\\202003_Bourbon_SP.csv\n",
      "Arquivos_Lojas\\202003_Buriti Shopping_GO.csv\n",
      "Arquivos_Lojas\\202003_Cidade de Sao Paulo_SP.csv\n",
      "Arquivos_Lojas\\202003_Goiania Shopping_GO.csv\n",
      "Arquivos_Lojas\\202003_Ibirapuera_SP.csv\n",
      "Arquivos_Lojas\\202003_Iguatemi_SP.csv\n",
      "Arquivos_Lojas\\202003_Independência Shopping_MG.csv\n",
      "Arquivos_Lojas\\202003_JK Iguatemi_SP.csv\n",
      "Arquivos_Lojas\\202003_Minas Shopping_MG.csv\n",
      "Arquivos_Lojas\\202003_Morumbi_SP.csv\n",
      "Arquivos_Lojas\\202003_Plaza Shopping_RJ.csv\n",
      "Arquivos_Lojas\\202003_Rio Sul_RJ.csv\n",
      "Arquivos_Lojas\\202003_Shopping Cidade_MG.csv\n",
      "Arquivos_Lojas\\202003_Shopping Leblon_RJ.csv\n",
      "Arquivos_Lojas\\202003_Shopping Tijuca_RJ.csv\n",
      "Arquivos_Lojas\\202004_Amazonas Shopping_AM.csv\n",
      "Arquivos_Lojas\\202004_Barra Shopping_RJ.csv\n",
      "Arquivos_Lojas\\202004_BH Shopping_MG.csv\n",
      "Arquivos_Lojas\\202004_Bourbon_SP.csv\n",
      "Arquivos_Lojas\\202004_Buriti Shopping_GO.csv\n",
      "Arquivos_Lojas\\202004_Cidade de Sao Paulo_SP.csv\n",
      "Arquivos_Lojas\\202004_Goiania Shopping_GO.csv\n",
      "Arquivos_Lojas\\202004_Ibirapuera_SP.csv\n",
      "Arquivos_Lojas\\202004_Iguatemi_SP.csv\n",
      "Arquivos_Lojas\\202004_Independência Shopping_MG.csv\n",
      "Arquivos_Lojas\\202004_JK Iguatemi_SP.csv\n",
      "Arquivos_Lojas\\202004_Minas Shopping_MG.csv\n",
      "Arquivos_Lojas\\202004_Morumbi_SP.csv\n",
      "Arquivos_Lojas\\202004_Plaza Shopping_RJ.csv\n",
      "Arquivos_Lojas\\202004_Rio Sul_RJ.csv\n",
      "Arquivos_Lojas\\202004_Shopping Cidade_MG.csv\n",
      "Arquivos_Lojas\\202004_Shopping Leblon_RJ.csv\n",
      "Arquivos_Lojas\\202004_Shopping Tijuca_RJ.csv\n"
     ]
    }
   ],
   "source": [
    "\n",
    "#Exibe o diretório que o código está sendo executado\n",
    "print(Path.cwd())\n",
    "\n",
    "#Define caminho compatível com múltiplos SO\n",
    "##Modo estático\n",
    "caminho = Path('c:/Users/afonso.feliciano/Desktop/Python-Impressionador-Hashtag/14 - Integração com diretórios/Arquivos_Lojas')\n",
    "\n",
    "##Modo relativo\n",
    "caminho = Path('Arquivos_Lojas')\n",
    "\n",
    "#Cria lista com os arquivos no diretório\n",
    "arquivos = caminho.iterdir()\n",
    "\n",
    "#Exibe os arquivos\n",
    "for arquivo in arquivos:\n",
    "    print(arquivo)"
   ]
  },
  {
   "cell_type": "markdown",
   "metadata": {},
   "source": [
    "### Agora, vamos verificar se um arquivo que estamos procurando existe na pasta"
   ]
  },
  {
   "cell_type": "code",
   "execution_count": 11,
   "metadata": {},
   "outputs": [
    {
     "name": "stdout",
     "output_type": "stream",
     "text": [
      "Existe\n"
     ]
    }
   ],
   "source": [
    "if (caminho / Path('202004_Rio Sul_RJ.csv')).exists():\n",
    "    print('Existe')"
   ]
  },
  {
   "cell_type": "markdown",
   "metadata": {},
   "source": [
    "### Criando uma nova pasta"
   ]
  },
  {
   "cell_type": "code",
   "execution_count": 15,
   "metadata": {},
   "outputs": [],
   "source": [
    "Path('Auxiliar').mkdir()\n",
    "Path('Auxiliar/Temp').mkdir()"
   ]
  },
  {
   "cell_type": "markdown",
   "metadata": {},
   "source": [
    "### Criando uma cópia do nosso arquivo na nova pasta que criamos"
   ]
  },
  {
   "cell_type": "code",
   "execution_count": 16,
   "metadata": {},
   "outputs": [],
   "source": [
    "import shutil"
   ]
  },
  {
   "cell_type": "code",
   "execution_count": 17,
   "metadata": {},
   "outputs": [
    {
     "data": {
      "text/plain": [
       "WindowsPath('Auxiliar/Temp/201801_Goiania Shopping_GO_v2.csv')"
      ]
     },
     "execution_count": 17,
     "metadata": {},
     "output_type": "execute_result"
    }
   ],
   "source": [
    "\n",
    "\n",
    "arquivo_copia = Path('Arquivos_Lojas/201801_Goiania Shopping_GO.csv')\n",
    "arquivo_colar = Path('Auxiliar/Temp/201801_Goiania Shopping_GO_v2.csv')\n",
    "\n",
    "shutil.copy2(arquivo_copia, arquivo_colar)"
   ]
  },
  {
   "cell_type": "markdown",
   "metadata": {},
   "source": [
    "### Movendo um arquivo de um lugar para o outro"
   ]
  },
  {
   "cell_type": "code",
   "execution_count": 18,
   "metadata": {},
   "outputs": [
    {
     "data": {
      "text/plain": [
       "WindowsPath('Auxiliar/201801_Goiania Shopping_GO_v2.csv')"
      ]
     },
     "execution_count": 18,
     "metadata": {},
     "output_type": "execute_result"
    }
   ],
   "source": [
    "\n",
    "arquivo_mover = arquivo_colar\n",
    "arquivo_colar = Path('Auxiliar/201801_Goiania Shopping_GO_v2.csv')\n",
    "\n",
    "shutil.move(arquivo_mover, arquivo_colar)"
   ]
  },
  {
   "cell_type": "markdown",
   "metadata": {},
   "source": [
    "### Desafio\n",
    "\n",
    "Você trabalha em uma empresa que tem 18 lojas espalhadas por todo o Brasil e divididas em 5 estados diferentes:\n",
    "- RJ\n",
    "- SP\n",
    "- MG\n",
    "- GO\n",
    "- AM\n",
    "\n",
    "Todo trimestre, são calculados os indicadores de cada funcionário de cada loja e esses indicadores são armazenados em um arquivo em Excel.\n",
    "\n",
    "Cada estado tem 1 Gerente Geral responsável por todas as lojas daqueles estados.\n",
    "\n",
    "Pediram para você enviar para cada Gerente Geral todas as bases de indicadores correspondentes às lojas que ele é responsável, porque a equipe deles precisa desses indicadores.\n",
    "\n",
    "Obs: Não vamos enviar por e-mail porque ainda não aprendemos a fazer isso, mas vamos deixar todos os arquivos em uma pasta única para cada gerente, ou seja, para cada estado.\n",
    "\n",
    "Então o seu desafio é separar todos os arquivos de forma que cada arquivo esteja na pasta do estado correspondente aquele arquivo.\n",
    "\n",
    "Obs: Para pegar o nome de um arquivo como um texto no pathlib, você pode usar Path.name ou arquivo.name:<br>\n",
    "caminho = Path('Pasta/Arquivo.csv')<br>\n",
    "print(caminho.name) -> resposta: 'Arquivo.csv'"
   ]
  },
  {
   "cell_type": "code",
   "execution_count": 21,
   "metadata": {},
   "outputs": [],
   "source": [
    "from pathlib import Path\n",
    "import shutil\n",
    "\n",
    "estados = ['RJ', 'SP', 'MG', 'GO', 'AM']\n",
    "for estado in estados:\n",
    "    Path('Arquivos_Lojas/{}'.format(estado)).mkdir()"
   ]
  },
  {
   "cell_type": "code",
   "execution_count": 25,
   "metadata": {},
   "outputs": [],
   "source": [
    "caminho = Path('Arquivos_Lojas/')\n",
    "arquivos = caminho.iterdir()\n",
    "\n",
    "for arquivo in arquivos:\n",
    "    nome_arquivo = arquivo.name\n",
    "    if nome_arquivo[-3:] == 'csv':\n",
    "        estado = nome_arquivo[-6:-4]\n",
    "        local_final = caminho / Path('{}/{}'.format(estado, nome_arquivo))\n",
    "        shutil.move(arquivo, local_final)"
   ]
  },
  {
   "cell_type": "code",
   "execution_count": null,
   "metadata": {},
   "outputs": [],
   "source": []
  }
 ],
 "metadata": {
  "kernelspec": {
   "display_name": "Python 3.9.12 ('base')",
   "language": "python",
   "name": "python3"
  },
  "language_info": {
   "codemirror_mode": {
    "name": "ipython",
    "version": 3
   },
   "file_extension": ".py",
   "mimetype": "text/x-python",
   "name": "python",
   "nbconvert_exporter": "python",
   "pygments_lexer": "ipython3",
   "version": "3.9.12"
  },
  "vscode": {
   "interpreter": {
    "hash": "ad2bdc8ecc057115af97d19610ffacc2b4e99fae6737bb82f5d7fb13d2f2c186"
   }
  }
 },
 "nbformat": 4,
 "nbformat_minor": 4
}
