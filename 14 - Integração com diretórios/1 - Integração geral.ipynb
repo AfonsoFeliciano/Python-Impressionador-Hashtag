{
 "cells": [
  {
   "cell_type": "markdown",
   "metadata": {},
   "source": [
    "# Python e Arquivos do Computador\n",
    "\n",
    "### Módulo os e pathlib\n",
    "\n",
    "Os módulos os e pathlib são uns dos melhores módulos/bibliotecas para controlar as pastas e arquivos do seu computador. Existem alguns outros módulos que podem auxiliar dependendo do que você está querendo fazer, mas em essência conseguiremos usar esses módulos para resolver nossos desafios.\n",
    "\n",
    "Usaremos aqui o pathlib por ele funcionar bem independente do sistema operacional que você está usando.\n",
    "\n",
    "### Atenção Especial\n",
    "\n",
    "Normalmente os caminhos em computadores Windows, Mac ou Linux são diferentes, mas isso é algo que o pathlib vai resolver para a gente\n",
    "\n",
    "### Módulo shutil\n",
    "\n",
    "Para as ações de copiar e colar arquivo, até conseguimos fazer com os módulos os e pathlib, mas é mais difícil e com maior margem de erro. MAS, existe o módulo shutil para ajudar nisso"
   ]
  },
  {
   "cell_type": "markdown",
   "metadata": {},
   "source": [
    "- Importando os Módulos"
   ]
  },
  {
   "cell_type": "raw",
   "metadata": {},
   "source": [
    "from pathlib import Path"
   ]
  },
  {
   "cell_type": "markdown",
   "metadata": {},
   "source": [
    "- Descobrindo onde está o nosso arquivo"
   ]
  },
  {
   "cell_type": "raw",
   "metadata": {},
   "source": [
    "caminho = Path.cwd()"
   ]
  },
  {
   "cell_type": "markdown",
   "metadata": {},
   "source": [
    "- Navegando até uma pasta específica"
   ]
  },
  {
   "cell_type": "raw",
   "metadata": {},
   "source": [
    "caminho = Path('pasta1/pasta2/pasta3/')"
   ]
  },
  {
   "cell_type": "markdown",
   "metadata": {},
   "source": [
    "- Listando todos os arquivos da Pasta Atual"
   ]
  },
  {
   "cell_type": "raw",
   "metadata": {},
   "source": [
    "arquivos = Path.iterdir()"
   ]
  },
  {
   "cell_type": "markdown",
   "metadata": {},
   "source": [
    "- Criando uma pasta"
   ]
  },
  {
   "cell_type": "raw",
   "metadata": {},
   "source": [
    "Path('pasta/nova_pasta').mkdir()"
   ]
  },
  {
   "cell_type": "markdown",
   "metadata": {},
   "source": [
    "- Verificando se um Arquivo Existe"
   ]
  },
  {
   "cell_type": "raw",
   "metadata": {},
   "source": [
    "arquivo = Path('pasta/arquivo.extensao')\n",
    "arquivo.exists()"
   ]
  },
  {
   "cell_type": "markdown",
   "metadata": {},
   "source": [
    "- Copiando um Arquivo"
   ]
  },
  {
   "cell_type": "raw",
   "metadata": {},
   "source": [
    "import shutil\n",
    "shutil.copy2('arquivo_para_copiar.extensao', 'nome_da_copia_criada.extensao')"
   ]
  },
  {
   "cell_type": "markdown",
   "metadata": {},
   "source": [
    "- Movendo um Arquivo"
   ]
  },
  {
   "cell_type": "raw",
   "metadata": {},
   "source": [
    "2 formas:\n",
    "\n",
    "Path('caminho/arquivo.extensao').rename('caminho_novo/arquivo.extensao')<br>\n",
    "\n",
    "ou\n",
    "\n",
    "shutil.move(Path('caminho/arquivo.extensao'), Path('caminho_novo/arquivo.extensao'))"
   ]
  },
  {
   "cell_type": "markdown",
   "metadata": {},
   "source": [
    "### Vamos listar todos os arquivos de uma pasta"
   ]
  },
  {
   "cell_type": "code",
   "execution_count": null,
   "metadata": {},
   "outputs": [],
   "source": []
  },
  {
   "cell_type": "markdown",
   "metadata": {},
   "source": [
    "### Agora, vamos verificar se um arquivo que estamos procurando existe na pasta"
   ]
  },
  {
   "cell_type": "code",
   "execution_count": null,
   "metadata": {},
   "outputs": [],
   "source": []
  },
  {
   "cell_type": "markdown",
   "metadata": {},
   "source": [
    "### Criando uma nova pasta"
   ]
  },
  {
   "cell_type": "code",
   "execution_count": null,
   "metadata": {},
   "outputs": [],
   "source": []
  },
  {
   "cell_type": "markdown",
   "metadata": {},
   "source": [
    "### Criando uma cópia do nosso arquivo na nova pasta que criamos"
   ]
  },
  {
   "cell_type": "code",
   "execution_count": null,
   "metadata": {},
   "outputs": [],
   "source": []
  },
  {
   "cell_type": "markdown",
   "metadata": {},
   "source": [
    "### Movendo um arquivo de um lugar para o outro"
   ]
  },
  {
   "cell_type": "code",
   "execution_count": null,
   "metadata": {},
   "outputs": [],
   "source": []
  },
  {
   "cell_type": "markdown",
   "metadata": {},
   "source": [
    "### Desafio\n",
    "\n",
    "Você trabalha em uma empresa que tem 18 lojas espalhadas por todo o Brasil e divididas em 5 estados diferentes:\n",
    "- RJ\n",
    "- SP\n",
    "- MG\n",
    "- GO\n",
    "- AM\n",
    "\n",
    "Todo trimestre, são calculados os indicadores de cada funcionário de cada loja e esses indicadores são armazenados em um arquivo em Excel.\n",
    "\n",
    "Cada estado tem 1 Gerente Geral responsável por todas as lojas daqueles estados.\n",
    "\n",
    "Pediram para você enviar para cada Gerente Geral todas as bases de indicadores correspondentes às lojas que ele é responsável, porque a equipe deles precisa desses indicadores.\n",
    "\n",
    "Obs: Não vamos enviar por e-mail porque ainda não aprendemos a fazer isso, mas vamos deixar todos os arquivos em uma pasta única para cada gerente, ou seja, para cada estado.\n",
    "\n",
    "Então o seu desafio é separar todos os arquivos de forma que cada arquivo esteja na pasta do estado correspondente aquele arquivo.\n",
    "\n",
    "Obs: Para pegar o nome de um arquivo como um texto no pathlib, você pode usar Path.name ou arquivo.name:<br>\n",
    "caminho = Path('Pasta/Arquivo.csv')<br>\n",
    "print(caminho.name) -> resposta: 'Arquivo.csv'"
   ]
  }
 ],
 "metadata": {
  "kernelspec": {
   "display_name": "Python 3",
   "language": "python",
   "name": "python3"
  },
  "language_info": {
   "codemirror_mode": {
    "name": "ipython",
    "version": 3
   },
   "file_extension": ".py",
   "mimetype": "text/x-python",
   "name": "python",
   "nbconvert_exporter": "python",
   "pygments_lexer": "ipython3",
   "version": "3.8.3"
  }
 },
 "nbformat": 4,
 "nbformat_minor": 4
}
