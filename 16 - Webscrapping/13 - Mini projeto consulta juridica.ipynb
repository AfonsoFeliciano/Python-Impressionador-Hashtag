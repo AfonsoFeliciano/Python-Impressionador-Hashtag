{
 "cells": [
  {
   "attachments": {},
   "cell_type": "markdown",
   "metadata": {},
   "source": [
    "### Criar o navegador "
   ]
  },
  {
   "cell_type": "code",
   "execution_count": 65,
   "metadata": {},
   "outputs": [],
   "source": [
    "\n",
    "#Imports necessários\n",
    "import os\n",
    "import time\n",
    "from selenium import webdriver\n",
    "from selenium.webdriver.chrome.service import Service \n",
    "from webdriver_manager.chrome import ChromeDriverManager\n",
    "from selenium.webdriver.common.by import By\n",
    "from selenium.webdriver import ActionChains\n",
    "import pandas as pd\n",
    "\n",
    "#Abrindo navegador\n",
    "servico = Service(ChromeDriverManager().install())\n",
    "navegador = webdriver.Chrome(service=servico)\n"
   ]
  },
  {
   "cell_type": "code",
   "execution_count": 66,
   "metadata": {},
   "outputs": [],
   "source": [
    "caminho = os.getcwd()\n",
    "arquivo = caminho + r\"\\files\\consulta_juridica\\index.html\"\n",
    "\n"
   ]
  },
  {
   "attachments": {},
   "cell_type": "markdown",
   "metadata": {},
   "source": [
    "### Importar a base de dados"
   ]
  },
  {
   "cell_type": "code",
   "execution_count": 67,
   "metadata": {},
   "outputs": [],
   "source": [
    "df = pd.read_excel(r'files/consulta_juridica/Processos.xlsx')"
   ]
  },
  {
   "cell_type": "code",
   "execution_count": 68,
   "metadata": {},
   "outputs": [],
   "source": [
    "for linha in df.index:\n",
    "\n",
    "    #Abrir a página index\n",
    "    navegador.get(arquivo)\n",
    "\n",
    "\n",
    "    # Simular ação hover (mouse em cima de um botão)\n",
    "\n",
    "    botao = navegador.find_element(By.CLASS_NAME, 'dropdown-menu')\n",
    "    ActionChains(navegador).move_to_element(botao).perform()\n",
    "\n",
    "    cidade = df.loc[linha, \"Cidade\"]\n",
    "    \n",
    "\n",
    "    #Abrindo as cidades de maneira dinâmica\n",
    "    navegador.find_element(By.PARTIAL_LINK_TEXT, cidade).click()\n",
    "\n",
    "    #Detectando as abas\n",
    "    aba_original = navegador.window_handles[0]\n",
    "\n",
    "    indice = 1 + linha\n",
    "    nova_aba = navegador.window_handles[indice]\n",
    "\n",
    "    #Trocando de aba\n",
    "    navegador.switch_to.window(nova_aba)\n",
    "\n",
    "    #Preencher o formulário com os dados de busca\n",
    "    navegador.find_element(By.ID, 'nome').send_keys(df.loc[linha, \"Nome\"])\n",
    "    navegador.find_element(By.ID, 'advogado').send_keys(df.loc[linha, \"Advogado\"])\n",
    "    navegador.find_element(By.ID, 'numero').send_keys(df.loc[linha, \"Processo\"])\n",
    "\n",
    "    #Clicar em pesquisar \n",
    "    navegador.find_element(By.CLASS_NAME, 'registerbtn').click()\n",
    "\n",
    "    #Confirmar a pesquisa (alert)\n",
    "    alerta = navegador.switch_to.alert\n",
    "    alerta.accept()\n",
    "\n",
    "    #Aguardar o resultado da pesquisa\n",
    "    while True:\n",
    "        try:\n",
    "            alerta = navegador.switch_to.alert\n",
    "            break\n",
    "        except:\n",
    "            time.sleep(1)\n",
    "\n",
    "\n",
    "    texto_alerta = alerta.text\n",
    "\n",
    "    if \"Processo encontrado com sucesso\" in texto_alerta:\n",
    "        alerta.accept()\n",
    "        df.loc[linha, \"Status\"] = \"Encontrado\"\n",
    "    else:\n",
    "        df.loc[linha, \"Status\"] = \"Não Encontrado\"\n",
    "        alerta.accept()\n",
    "    \n",
    "    \n",
    "    "
   ]
  },
  {
   "cell_type": "code",
   "execution_count": 69,
   "metadata": {},
   "outputs": [],
   "source": [
    "navegador.quit()\n",
    "df.head()\n",
    "df.to_excel(r\"files\\consulta_juridica\\ProcessosAtualizados.xlsx\", index=False)"
   ]
  }
 ],
 "metadata": {
  "kernelspec": {
   "display_name": "base",
   "language": "python",
   "name": "python3"
  },
  "language_info": {
   "codemirror_mode": {
    "name": "ipython",
    "version": 3
   },
   "file_extension": ".py",
   "mimetype": "text/x-python",
   "name": "python",
   "nbconvert_exporter": "python",
   "pygments_lexer": "ipython3",
   "version": "3.9.12"
  },
  "orig_nbformat": 4,
  "vscode": {
   "interpreter": {
    "hash": "ad2bdc8ecc057115af97d19610ffacc2b4e99fae6737bb82f5d7fb13d2f2c186"
   }
  }
 },
 "nbformat": 4,
 "nbformat_minor": 2
}
