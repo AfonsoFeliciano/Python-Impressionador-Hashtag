{
 "cells": [
  {
   "cell_type": "code",
   "execution_count": 2,
   "metadata": {},
   "outputs": [],
   "source": [
    "import os\n",
    "from selenium import webdriver\n",
    "from selenium.webdriver.chrome.service import Service \n",
    "from webdriver_manager.chrome import ChromeDriverManager\n",
    "from selenium.webdriver.common.by import By\n",
    "from selenium.webdriver import ActionChains"
   ]
  },
  {
   "cell_type": "code",
   "execution_count": 3,
   "metadata": {},
   "outputs": [
    {
     "name": "stdout",
     "output_type": "stream",
     "text": [
      "c:\\Users\\afonso.feliciano\\Desktop\\Python-Impressionador-Hashtag\\16 - Webscrapping\\files\\Pagina Hashtag.html\n"
     ]
    }
   ],
   "source": [
    "#Definindo os paths\n",
    "caminho = os.getcwd()\n",
    "arquivo = caminho  + r\"\\files\\Pagina Hashtag.html\"\n",
    "print(arquivo)"
   ]
  },
  {
   "cell_type": "code",
   "execution_count": 4,
   "metadata": {},
   "outputs": [],
   "source": [
    "#Instalando o driver\n",
    "servico = Service(ChromeDriverManager().install())\n",
    "\n",
    "#Abrindo o navegador\n",
    "navegador = webdriver.Chrome(service=servico)\n",
    "\n",
    "#Abrindo o arquivo\n",
    "navegador.get(arquivo)"
   ]
  },
  {
   "cell_type": "code",
   "execution_count": 5,
   "metadata": {},
   "outputs": [],
   "source": [
    "menu = navegador.find_element(By.XPATH, '//*[@id=\"menu-item-dropdown-16313\"]') \n",
    "item = navegador.find_element(By.XPATH, '//*[@id=\"menu-item-17042\"]/a')\n",
    "\n",
    "#Colocar o mouse em cima do menu\n",
    "ActionChains(navegador).move_to_element(menu).perform()\n",
    "\n",
    "#Clicar no item\n",
    "item.click()"
   ]
  }
 ],
 "metadata": {
  "kernelspec": {
   "display_name": "Python 3.9.12 ('base')",
   "language": "python",
   "name": "python3"
  },
  "language_info": {
   "codemirror_mode": {
    "name": "ipython",
    "version": 3
   },
   "file_extension": ".py",
   "mimetype": "text/x-python",
   "name": "python",
   "nbconvert_exporter": "python",
   "pygments_lexer": "ipython3",
   "version": "3.9.12"
  },
  "orig_nbformat": 4,
  "vscode": {
   "interpreter": {
    "hash": "ad2bdc8ecc057115af97d19610ffacc2b4e99fae6737bb82f5d7fb13d2f2c186"
   }
  }
 },
 "nbformat": 4,
 "nbformat_minor": 2
}
