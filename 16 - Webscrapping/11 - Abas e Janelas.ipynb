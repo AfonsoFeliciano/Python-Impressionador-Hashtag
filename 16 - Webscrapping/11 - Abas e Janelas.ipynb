{
 "cells": [
  {
   "cell_type": "markdown",
   "id": "367cd714",
   "metadata": {},
   "source": [
    "### Documentação Selenium:\n",
    "\n",
    "- https://selenium-python.readthedocs.io/locating-elements.html"
   ]
  },
  {
   "cell_type": "code",
   "execution_count": 26,
   "id": "4e28f9f7",
   "metadata": {},
   "outputs": [],
   "source": [
    "from selenium import webdriver\n",
    "from selenium.webdriver.chrome.service import Service\n",
    "from webdriver_manager.chrome import ChromeDriverManager\n",
    "from selenium.webdriver.common.by import By\n",
    "\n",
    "servico = Service(ChromeDriverManager().install())\n",
    "navegador = webdriver.Chrome(service=servico)"
   ]
  },
  {
   "cell_type": "code",
   "execution_count": 27,
   "id": "59c8398d",
   "metadata": {},
   "outputs": [
    {
     "name": "stdout",
     "output_type": "stream",
     "text": [
      "c:\\Users\\afonso.feliciano\\Desktop\\Python-Impressionador-Hashtag\\16 - Webscrapping\\files\\Pagina Hashtag.html\n"
     ]
    }
   ],
   "source": [
    "import os\n",
    "\n",
    "#Definindo os paths\n",
    "caminho = os.getcwd()\n",
    "arquivo = caminho  + r\"\\files\\Pagina Hashtag.html\"\n",
    "print(arquivo)\n",
    "\n",
    "#Abrindo o arquivo\n",
    "navegador.get(arquivo)"
   ]
  },
  {
   "cell_type": "markdown",
   "id": "1a0d1ae6",
   "metadata": {},
   "source": [
    "#### Botão que abre outra janela"
   ]
  },
  {
   "cell_type": "code",
   "execution_count": 28,
   "id": "d90ab797",
   "metadata": {},
   "outputs": [],
   "source": [
    "#Clicando na imagem do power bi\n",
    "navegador.find_element(By.XPATH, '/html/body/section[2]/div/div[6]/figure/a/img').click()"
   ]
  },
  {
   "cell_type": "markdown",
   "id": "80f18fcd",
   "metadata": {},
   "source": [
    "### Outra aba"
   ]
  },
  {
   "cell_type": "code",
   "execution_count": 29,
   "id": "dbac0005",
   "metadata": {},
   "outputs": [],
   "source": [
    "#Detectando a aba\n",
    "aba_original = navegador.window_handles[0]\n",
    "nova_aba  = navegador.window_handles[1]\n"
   ]
  },
  {
   "cell_type": "code",
   "execution_count": 30,
   "id": "60740aca",
   "metadata": {},
   "outputs": [],
   "source": [
    "#Alterando a aba\n",
    "navegador.switch_to.window(nova_aba)"
   ]
  },
  {
   "cell_type": "code",
   "execution_count": 31,
   "id": "7e7b9025",
   "metadata": {},
   "outputs": [],
   "source": [
    "#Preenchendo formulario\n",
    "navegador.find_element(By.NAME, 'firstname').send_keys('Afonso')\n",
    "navegador.find_element(By.NAME, 'email').send_keys('afonso@teste.com')"
   ]
  },
  {
   "cell_type": "code",
   "execution_count": 32,
   "id": "f3fda339",
   "metadata": {},
   "outputs": [],
   "source": [
    "#Voltando para aba original\n",
    "navegador.switch_to.window(aba_original)"
   ]
  },
  {
   "cell_type": "code",
   "execution_count": 33,
   "id": "42f16b4a",
   "metadata": {},
   "outputs": [],
   "source": [
    "#Clicando em outra imagem\n",
    "navegador.find_element(By.XPATH, '/html/body/section[2]/div/div[4]/figure/a/img').click()"
   ]
  },
  {
   "cell_type": "code",
   "execution_count": 34,
   "id": "493ca130",
   "metadata": {},
   "outputs": [
    {
     "name": "stdout",
     "output_type": "stream",
     "text": [
      "Todos os Cursos Hashtag Treinamentos\n",
      "Curso Power BI Avançado | Projetos Reais e +80h de Conteúdo\n",
      "Excel Impressionador: Curso Completo do Básico ao Avançado\n"
     ]
    }
   ],
   "source": [
    "for aba in navegador.window_handles:\n",
    "    navegador.switch_to.window(aba)\n",
    "    print(navegador.title)"
   ]
  },
  {
   "cell_type": "markdown",
   "id": "cab240fc",
   "metadata": {},
   "source": [
    "Fechando aba"
   ]
  },
  {
   "cell_type": "code",
   "execution_count": 35,
   "id": "3b3381fc",
   "metadata": {},
   "outputs": [],
   "source": [
    "#Fecha a aba atual\n",
    "navegador.close()"
   ]
  },
  {
   "cell_type": "code",
   "execution_count": 36,
   "id": "3146dcf0",
   "metadata": {},
   "outputs": [],
   "source": [
    "#Fecha todas as abas\n",
    "navegador.quit()"
   ]
  },
  {
   "cell_type": "code",
   "execution_count": null,
   "id": "09883a46",
   "metadata": {},
   "outputs": [],
   "source": []
  }
 ],
 "metadata": {
  "kernelspec": {
   "display_name": "Python 3.9.12 ('base')",
   "language": "python",
   "name": "python3"
  },
  "language_info": {
   "codemirror_mode": {
    "name": "ipython",
    "version": 3
   },
   "file_extension": ".py",
   "mimetype": "text/x-python",
   "name": "python",
   "nbconvert_exporter": "python",
   "pygments_lexer": "ipython3",
   "version": "3.9.12"
  },
  "vscode": {
   "interpreter": {
    "hash": "ad2bdc8ecc057115af97d19610ffacc2b4e99fae6737bb82f5d7fb13d2f2c186"
   }
  }
 },
 "nbformat": 4,
 "nbformat_minor": 5
}
