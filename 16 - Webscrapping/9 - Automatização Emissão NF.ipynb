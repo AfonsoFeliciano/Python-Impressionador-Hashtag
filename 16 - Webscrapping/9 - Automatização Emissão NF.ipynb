{
 "cells": [
  {
   "cell_type": "code",
   "execution_count": 37,
   "metadata": {},
   "outputs": [],
   "source": [
    "#Imports necessários\n",
    "import os\n",
    "import pandas as pd\n",
    "from selenium import webdriver\n",
    "from selenium.webdriver.chrome.service import Service \n",
    "from webdriver_manager.chrome import ChromeDriverManager\n",
    "from selenium.webdriver.common.by import By\n",
    "from selenium.webdriver.common.keys import Keys\n",
    "from selenium.webdriver.support.select import Select\n",
    "\n",
    "\n",
    "#Desabilitar verificação de segurança do chrome\n",
    "options = webdriver.ChromeOptions()\n",
    "options.add_experimental_option(\"prefs\", {\n",
    "    \"download.default_directory\": r\"C:\\Users\\afonso.feliciano\\Downloads\",\n",
    "    \"download.prompt_for_download\": False,\n",
    "    \"download.directory_upgrade\": True,\n",
    "    \"safebrowsing.enabled\": True\n",
    "})\n",
    "\n",
    "#Abrindo navegador\n",
    "servico = Service(ChromeDriverManager().install())\n",
    "navegador = webdriver.Chrome(service=servico, options=options)"
   ]
  },
  {
   "cell_type": "markdown",
   "metadata": {},
   "source": [
    "Entrar na página de login"
   ]
  },
  {
   "cell_type": "code",
   "execution_count": 38,
   "metadata": {},
   "outputs": [],
   "source": [
    "caminho = os.getcwd()\n",
    "arquivo = caminho + r\"\\nf\\login.html\"\n",
    "navegador.get(arquivo)\n"
   ]
  },
  {
   "cell_type": "markdown",
   "metadata": {},
   "source": [
    "Preencher e-mail e senha"
   ]
  },
  {
   "cell_type": "code",
   "execution_count": 39,
   "metadata": {},
   "outputs": [],
   "source": [
    "#Email\n",
    "navegador.find_element(By.XPATH, '/html/body/div/form/input[1]').send_keys('afonso@teste.com')\n",
    "\n",
    "#Senha\n",
    "navegador.find_element(By.XPATH, '/html/body/div/form/input[2]').send_keys('password123')"
   ]
  },
  {
   "cell_type": "markdown",
   "metadata": {},
   "source": [
    "Realizando login"
   ]
  },
  {
   "cell_type": "code",
   "execution_count": 40,
   "metadata": {},
   "outputs": [],
   "source": [
    "#Realizando o click\n",
    "navegador.find_element(By.XPATH, '/html/body/div/form/button').click()"
   ]
  },
  {
   "cell_type": "markdown",
   "metadata": {},
   "source": [
    "Importando base de clientes"
   ]
  },
  {
   "cell_type": "code",
   "execution_count": 41,
   "metadata": {},
   "outputs": [
    {
     "data": {
      "text/html": [
       "<div>\n",
       "<style scoped>\n",
       "    .dataframe tbody tr th:only-of-type {\n",
       "        vertical-align: middle;\n",
       "    }\n",
       "\n",
       "    .dataframe tbody tr th {\n",
       "        vertical-align: top;\n",
       "    }\n",
       "\n",
       "    .dataframe thead th {\n",
       "        text-align: right;\n",
       "    }\n",
       "</style>\n",
       "<table border=\"1\" class=\"dataframe\">\n",
       "  <thead>\n",
       "    <tr style=\"text-align: right;\">\n",
       "      <th></th>\n",
       "      <th>Cliente</th>\n",
       "      <th>CPF/CNPJ</th>\n",
       "      <th>CEP</th>\n",
       "      <th>Endereço</th>\n",
       "      <th>Bairro</th>\n",
       "      <th>Municipio</th>\n",
       "      <th>UF</th>\n",
       "      <th>Inscricao Estadual</th>\n",
       "      <th>Descrição</th>\n",
       "      <th>Quantidade</th>\n",
       "      <th>Valor Unitario</th>\n",
       "      <th>Valor Total</th>\n",
       "    </tr>\n",
       "  </thead>\n",
       "  <tbody>\n",
       "    <tr>\n",
       "      <th>0</th>\n",
       "      <td>Valentina Márcia Melissa da Cunha</td>\n",
       "      <td>25379574076</td>\n",
       "      <td>73402036</td>\n",
       "      <td>Módulo Módulo 12</td>\n",
       "      <td>Estância Mestre D'Armas V (Planaltina)</td>\n",
       "      <td>Brasília</td>\n",
       "      <td>DF</td>\n",
       "      <td>213873</td>\n",
       "      <td>Nota referente aos serviços prestados/produtos...</td>\n",
       "      <td>3</td>\n",
       "      <td>273</td>\n",
       "      <td>819</td>\n",
       "    </tr>\n",
       "    <tr>\n",
       "      <th>1</th>\n",
       "      <td>Lara Benedita Josefa Drumond</td>\n",
       "      <td>30227643160</td>\n",
       "      <td>78730170</td>\n",
       "      <td>Avenida Manoel de Araújo Piau</td>\n",
       "      <td>Jardim Belo Panorama</td>\n",
       "      <td>Rondonópolis</td>\n",
       "      <td>MT</td>\n",
       "      <td>194139</td>\n",
       "      <td>Nota referente aos serviços prestados/produtos...</td>\n",
       "      <td>6</td>\n",
       "      <td>730</td>\n",
       "      <td>4380</td>\n",
       "    </tr>\n",
       "    <tr>\n",
       "      <th>2</th>\n",
       "      <td>Silvana Melissa da Paz</td>\n",
       "      <td>36636402806</td>\n",
       "      <td>69308220</td>\n",
       "      <td>Rua Madre Rosa</td>\n",
       "      <td>Treze de Setembro</td>\n",
       "      <td>Boa Vista</td>\n",
       "      <td>RR</td>\n",
       "      <td>203703</td>\n",
       "      <td>Nota referente aos serviços prestados/produtos...</td>\n",
       "      <td>2</td>\n",
       "      <td>389</td>\n",
       "      <td>778</td>\n",
       "    </tr>\n",
       "    <tr>\n",
       "      <th>3</th>\n",
       "      <td>Pietro Diego César Monteiro</td>\n",
       "      <td>51701896486</td>\n",
       "      <td>60182541</td>\n",
       "      <td>Rua Sousa Bandeira</td>\n",
       "      <td>Antônio Diogo</td>\n",
       "      <td>Fortaleza</td>\n",
       "      <td>CE</td>\n",
       "      <td>326342</td>\n",
       "      <td>Nota referente aos serviços prestados/produtos...</td>\n",
       "      <td>2</td>\n",
       "      <td>652</td>\n",
       "      <td>1304</td>\n",
       "    </tr>\n",
       "    <tr>\n",
       "      <th>4</th>\n",
       "      <td>Tomás Gabriel Alves</td>\n",
       "      <td>59992546980</td>\n",
       "      <td>96830690</td>\n",
       "      <td>Rua Capitão Francisco Cândido de Castro Menezes</td>\n",
       "      <td>Aliança</td>\n",
       "      <td>Santa Cruz do Sul</td>\n",
       "      <td>RS</td>\n",
       "      <td>549783</td>\n",
       "      <td>Nota referente aos serviços prestados/produtos...</td>\n",
       "      <td>9</td>\n",
       "      <td>533</td>\n",
       "      <td>4797</td>\n",
       "    </tr>\n",
       "  </tbody>\n",
       "</table>\n",
       "</div>"
      ],
      "text/plain": [
       "                             Cliente     CPF/CNPJ       CEP  \\\n",
       "0  Valentina Márcia Melissa da Cunha  25379574076  73402036   \n",
       "1       Lara Benedita Josefa Drumond  30227643160  78730170   \n",
       "2             Silvana Melissa da Paz  36636402806  69308220   \n",
       "3        Pietro Diego César Monteiro  51701896486  60182541   \n",
       "4                Tomás Gabriel Alves  59992546980  96830690   \n",
       "\n",
       "                                          Endereço  \\\n",
       "0                                 Módulo Módulo 12   \n",
       "1                    Avenida Manoel de Araújo Piau   \n",
       "2                                   Rua Madre Rosa   \n",
       "3                               Rua Sousa Bandeira   \n",
       "4  Rua Capitão Francisco Cândido de Castro Menezes   \n",
       "\n",
       "                                   Bairro          Municipio  UF  \\\n",
       "0  Estância Mestre D'Armas V (Planaltina)           Brasília  DF   \n",
       "1                    Jardim Belo Panorama       Rondonópolis  MT   \n",
       "2                       Treze de Setembro          Boa Vista  RR   \n",
       "3                           Antônio Diogo          Fortaleza  CE   \n",
       "4                                 Aliança  Santa Cruz do Sul  RS   \n",
       "\n",
       "   Inscricao Estadual                                          Descrição  \\\n",
       "0              213873  Nota referente aos serviços prestados/produtos...   \n",
       "1              194139  Nota referente aos serviços prestados/produtos...   \n",
       "2              203703  Nota referente aos serviços prestados/produtos...   \n",
       "3              326342  Nota referente aos serviços prestados/produtos...   \n",
       "4              549783  Nota referente aos serviços prestados/produtos...   \n",
       "\n",
       "   Quantidade  Valor Unitario  Valor Total  \n",
       "0           3             273          819  \n",
       "1           6             730         4380  \n",
       "2           2             389          778  \n",
       "3           2             652         1304  \n",
       "4           9             533         4797  "
      ]
     },
     "execution_count": 41,
     "metadata": {},
     "output_type": "execute_result"
    }
   ],
   "source": [
    "df = pd.read_excel('nf/NotasEmitir.xlsx')\n",
    "df.head()"
   ]
  },
  {
   "cell_type": "markdown",
   "metadata": {},
   "source": [
    "Percorrendo o dataframe pandas através das linhas"
   ]
  },
  {
   "cell_type": "code",
   "execution_count": 42,
   "metadata": {},
   "outputs": [],
   "source": [
    "for linha in df.index:\n",
    "\n",
    "    #Nome/Razão Social\n",
    "    navegador.find_element(By.NAME, 'nome').send_keys(df.loc[linha, \"Cliente\"])\n",
    "\n",
    "    #Endereço\n",
    "    navegador.find_element(By.NAME, 'endereco').send_keys(df.loc[linha, \"Endereço\"])\n",
    "\n",
    "    #Bairro\n",
    "    navegador.find_element(By.NAME, 'bairro').send_keys(df.loc[linha, \"Bairro\"])\n",
    "\n",
    "    #Cidade\n",
    "    navegador.find_element(By.NAME, 'municipio').send_keys(df.loc[linha, \"Municipio\"])\n",
    "\n",
    "    #CEP\n",
    "    navegador.find_element(By.NAME, 'cep').send_keys(str(df.loc[linha, \"CEP\"]))\n",
    "\n",
    "    #UF\n",
    "    navegador.find_element(By.NAME, 'uf').send_keys(df.loc[linha, \"UF\"])\n",
    "\n",
    "    #CPF/CNPJ\n",
    "    navegador.find_element(By.NAME, 'cnpj').send_keys(str(df.loc[linha, \"CPF/CNPJ\"]))\n",
    "\n",
    "    # Inscrição estuadual\n",
    "    navegador.find_element(By.NAME, 'inscricao').send_keys(str(df.loc[linha, \"Inscricao Estadual\"]))\n",
    "\n",
    "    # Descrição\n",
    "    texto = df.loc[linha, \"Descrição\"]\n",
    "    navegador.find_element(By.NAME, 'descricao').send_keys(texto)\n",
    "\n",
    "    # Quantidade\n",
    "    navegador.find_element(By.NAME, 'quantidade').send_keys(str(df.loc[linha, \"Quantidade\"]))\n",
    "\n",
    "    #Valor unitário\n",
    "    navegador.find_element(By.NAME, 'valor_unitario').send_keys(str(df.loc[linha, \"Valor Unitario\"]))\n",
    "\n",
    "    #Valor total\n",
    "    navegador.find_element(By.NAME, 'total').send_keys(str(df.loc[linha, \"Valor Total\"]))\n",
    "\n",
    "    #Clica no botão de envio do formulário\n",
    "    navegador.find_element(By.CLASS_NAME, 'registerbtn').click()\n",
    "\n",
    "    #Recarrega a página para limpar o formulário\n",
    "    navegador.refresh()\n",
    "    \n",
    "    #Fecha o navegador\n",
    "    navegador.quit()"
   ]
  }
 ],
 "metadata": {
  "kernelspec": {
   "display_name": "Python 3.9.12 ('base')",
   "language": "python",
   "name": "python3"
  },
  "language_info": {
   "codemirror_mode": {
    "name": "ipython",
    "version": 3
   },
   "file_extension": ".py",
   "mimetype": "text/x-python",
   "name": "python",
   "nbconvert_exporter": "python",
   "pygments_lexer": "ipython3",
   "version": "3.9.12"
  },
  "orig_nbformat": 4,
  "vscode": {
   "interpreter": {
    "hash": "ad2bdc8ecc057115af97d19610ffacc2b4e99fae6737bb82f5d7fb13d2f2c186"
   }
  }
 },
 "nbformat": 4,
 "nbformat_minor": 2
}
