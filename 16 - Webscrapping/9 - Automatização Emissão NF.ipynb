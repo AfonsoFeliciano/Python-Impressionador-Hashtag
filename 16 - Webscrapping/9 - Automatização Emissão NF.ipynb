{
 "cells": [
  {
   "cell_type": "code",
   "execution_count": 13,
   "metadata": {},
   "outputs": [],
   "source": [
    "#Imports necessários\n",
    "import os\n",
    "from selenium import webdriver\n",
    "from selenium.webdriver.chrome.service import Service \n",
    "from webdriver_manager.chrome import ChromeDriverManager\n",
    "from selenium.webdriver.common.by import By\n",
    "from selenium.webdriver.common.keys import Keys\n",
    "from selenium.webdriver.support.select import Select\n",
    "\n",
    "\n",
    "#Desabilitar verificação de segurança do chrome\n",
    "options = webdriver.ChromeOptions()\n",
    "options.add_experimental_option(\"prefs\", {\n",
    "    \"download.default_directory\": r\"C:\\Users\\afonso.feliciano\\Downloads\",\n",
    "    \"download.prompt_for_download\": False,\n",
    "    \"download.directory_upgrade\": True,\n",
    "    \"safebrowsing.enabled\": True\n",
    "})\n",
    "\n",
    "#Abrindo navegador\n",
    "servico = Service(ChromeDriverManager().install())\n",
    "navegador = webdriver.Chrome(service=servico, options=options)"
   ]
  },
  {
   "cell_type": "markdown",
   "metadata": {},
   "source": [
    "Entrar na página de login"
   ]
  },
  {
   "cell_type": "code",
   "execution_count": 8,
   "metadata": {},
   "outputs": [],
   "source": [
    "caminho = os.getcwd()\n",
    "arquivo = caminho + r\"\\nf\\login.html\"\n",
    "navegador.get(arquivo)\n"
   ]
  },
  {
   "cell_type": "markdown",
   "metadata": {},
   "source": [
    "Preencher e-mail e senha"
   ]
  },
  {
   "cell_type": "code",
   "execution_count": 9,
   "metadata": {},
   "outputs": [],
   "source": [
    "#Email\n",
    "navegador.find_element(By.XPATH, '/html/body/div/form/input[1]').send_keys('afonso@teste.com')\n",
    "\n",
    "#Senha\n",
    "navegador.find_element(By.XPATH, '/html/body/div/form/input[2]').send_keys('password123')"
   ]
  },
  {
   "cell_type": "markdown",
   "metadata": {},
   "source": [
    "Realizando login"
   ]
  },
  {
   "cell_type": "code",
   "execution_count": 10,
   "metadata": {},
   "outputs": [],
   "source": [
    "#Realizando o click\n",
    "navegador.find_element(By.XPATH, '/html/body/div/form/button').click()"
   ]
  },
  {
   "cell_type": "markdown",
   "metadata": {},
   "source": [
    "Preencher dados da nota fiscal"
   ]
  },
  {
   "cell_type": "code",
   "execution_count": 11,
   "metadata": {},
   "outputs": [],
   "source": [
    "#Nome/Razão Social\n",
    "navegador.find_element(By.NAME, 'nome').send_keys('Afonso LTDA')\n",
    "\n",
    "#Endereço\n",
    "navegador.find_element(By.NAME, 'endereco').send_keys('Av Centésima')\n",
    "\n",
    "#Bairro\n",
    "navegador.find_element(By.NAME, 'bairro').send_keys('Sexto')\n",
    "\n",
    "#Cidade\n",
    "navegador.find_element(By.NAME, 'municipio').send_keys('São Paulo')\n",
    "\n",
    "#CEP\n",
    "navegador.find_element(By.NAME, 'cep').send_keys('38212000')\n",
    "\n",
    "#UF\n",
    "navegador.find_element(By.NAME, 'uf').send_keys('SP')\n",
    "\n",
    "#CPF/CNPJ\n",
    "navegador.find_element(By.NAME, 'cnpj').send_keys('3710004545787')\n",
    "\n",
    "# Inscrição estuadual\n",
    "navegador.find_element(By.NAME, 'inscricao').send_keys('001212124')\n",
    "\n",
    "# Descrição\n",
    "texto = \"Valor referente aos treinamentos de novembro e dezembro\"\n",
    "navegador.find_element(By.NAME, 'descricao').send_keys(texto)\n",
    "\n",
    "# Quantidade\n",
    "navegador.find_element(By.NAME, 'quantidade').send_keys(2)\n",
    "\n",
    "#Valor unitário\n",
    "navegador.find_element(By.NAME, 'valor_unitario').send_keys(1000)\n",
    "\n",
    "#Valor total\n",
    "navegador.find_element(By.NAME, 'total').send_keys(2000)\n",
    "\n"
   ]
  },
  {
   "cell_type": "markdown",
   "metadata": {},
   "source": [
    "Clicar em emitir nota fiscal"
   ]
  },
  {
   "cell_type": "code",
   "execution_count": 12,
   "metadata": {},
   "outputs": [],
   "source": [
    "navegador.find_element(By.CLASS_NAME, 'registerbtn').click()"
   ]
  }
 ],
 "metadata": {
  "kernelspec": {
   "display_name": "Python 3.9.12 ('base')",
   "language": "python",
   "name": "python3"
  },
  "language_info": {
   "codemirror_mode": {
    "name": "ipython",
    "version": 3
   },
   "file_extension": ".py",
   "mimetype": "text/x-python",
   "name": "python",
   "nbconvert_exporter": "python",
   "pygments_lexer": "ipython3",
   "version": "3.9.12"
  },
  "orig_nbformat": 4,
  "vscode": {
   "interpreter": {
    "hash": "ad2bdc8ecc057115af97d19610ffacc2b4e99fae6737bb82f5d7fb13d2f2c186"
   }
  }
 },
 "nbformat": 4,
 "nbformat_minor": 2
}
