{
 "cells": [
  {
   "cell_type": "markdown",
   "id": "6915cedb",
   "metadata": {},
   "source": [
    "### Esperar o Elemento carregar\n",
    "\n",
    "2 métodos:\n",
    "\n",
    "- WebDriverWait + ExpectedConditions (EC)\n",
    "    - Nativo do Selenium, menos linhas de código\n",
    "    - Já vi dar bug e mais chatinho de lembrar\n",
    "- Loop de espera\n",
    "    - Criação de uma espera \"manual\"\n",
    "    - Nunca abandona"
   ]
  },
  {
   "cell_type": "code",
   "execution_count": 13,
   "id": "1da172c3",
   "metadata": {},
   "outputs": [
    {
     "name": "stdout",
     "output_type": "stream",
     "text": [
      "Fechou\n"
     ]
    }
   ],
   "source": [
    "from selenium import webdriver\n",
    "import time\n",
    "\n",
    "driver = webdriver.Chrome()\n",
    "driver.get(\"https://hashtagtreinamentos.com\")\n",
    "time.sleep(15)\n",
    "driver.find_element_by_class_name(\"eicon-close\").click()\n",
    "print(\"Fechou\")"
   ]
  },
  {
   "cell_type": "code",
   "execution_count": 21,
   "id": "eb54b416",
   "metadata": {},
   "outputs": [
    {
     "name": "stdout",
     "output_type": "stream",
     "text": [
      "Fechou\n"
     ]
    }
   ],
   "source": [
    "# WebDriverWait e EC\n",
    "from selenium.webdriver.common.by import By\n",
    "from selenium.webdriver.support.ui import WebDriverWait\n",
    "from selenium.webdriver.support import expected_conditions as EC\n",
    "\n",
    "driver = webdriver.Chrome()\n",
    "driver.get(\"https://hashtagtreinamentos.com\")\n",
    "\n",
    "elemento = WebDriverWait(driver, 30).until(EC.presence_of_element_located((By.CLASS_NAME, \"eicon-close\")))\n",
    "time.sleep(1)\n",
    "elemento.click()\n",
    "\n",
    "print(\"Fechou\")"
   ]
  },
  {
   "cell_type": "code",
   "execution_count": 22,
   "id": "d484295f",
   "metadata": {},
   "outputs": [
    {
     "name": "stdout",
     "output_type": "stream",
     "text": [
      "Fechou\n"
     ]
    }
   ],
   "source": [
    "# loop\n",
    "driver = webdriver.Chrome()\n",
    "driver.get(\"https://hashtagtreinamentos.com\")\n",
    "\n",
    "while len(driver.find_elements_by_class_name(\"eicon-close\")) == 0:\n",
    "    time.sleep(1)\n",
    "time.sleep(1)\n",
    "driver.find_element_by_class_name(\"eicon-close\").click()\n",
    "\n",
    "print(\"Fechou\")"
   ]
  },
  {
   "cell_type": "code",
   "execution_count": null,
   "id": "d3ff88fe",
   "metadata": {},
   "outputs": [],
   "source": []
  }
 ],
 "metadata": {
  "kernelspec": {
   "display_name": "Python 3",
   "language": "python",
   "name": "python3"
  },
  "language_info": {
   "codemirror_mode": {
    "name": "ipython",
    "version": 3
   },
   "file_extension": ".py",
   "mimetype": "text/x-python",
   "name": "python",
   "nbconvert_exporter": "python",
   "pygments_lexer": "ipython3",
   "version": "3.8.8"
  }
 },
 "nbformat": 4,
 "nbformat_minor": 5
}
