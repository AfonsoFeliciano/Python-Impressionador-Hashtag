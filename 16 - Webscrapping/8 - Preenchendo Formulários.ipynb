{
 "cells": [
  {
   "cell_type": "code",
   "execution_count": 27,
   "metadata": {},
   "outputs": [],
   "source": [
    "import os\n",
    "from selenium import webdriver\n",
    "from selenium.webdriver.chrome.service import Service \n",
    "from webdriver_manager.chrome import ChromeDriverManager\n",
    "from selenium.webdriver.common.by import By\n",
    "from selenium.webdriver.common.keys import Keys"
   ]
  },
  {
   "cell_type": "code",
   "execution_count": 2,
   "metadata": {},
   "outputs": [
    {
     "name": "stdout",
     "output_type": "stream",
     "text": [
      "c:\\Users\\afonso.feliciano\\Desktop\\Python-Impressionador-Hashtag\\16 - Webscrapping\\files\\formulario.html\n"
     ]
    }
   ],
   "source": [
    "#Definindo os paths\n",
    "caminho = os.getcwd()\n",
    "arquivo = caminho  + r\"\\files\\formulario.html\"\n",
    "print(arquivo)"
   ]
  },
  {
   "cell_type": "code",
   "execution_count": 3,
   "metadata": {},
   "outputs": [],
   "source": [
    "#Instalando o driver\n",
    "servico = Service(ChromeDriverManager().install())\n",
    "\n",
    "#Abrindo o navegador\n",
    "navegador = webdriver.Chrome(service=servico)\n",
    "\n",
    "#Abrindo o arquivo\n",
    "navegador.get(arquivo)"
   ]
  },
  {
   "cell_type": "markdown",
   "metadata": {},
   "source": [
    "Realizando click"
   ]
  },
  {
   "cell_type": "code",
   "execution_count": 6,
   "metadata": {},
   "outputs": [],
   "source": [
    "navegador.find_element(By.XPATH, '/html/body/form/input[1]').click()\n",
    "alerta = navegador.switch_to.alert\n",
    "alerta.accept()"
   ]
  },
  {
   "cell_type": "markdown",
   "metadata": {},
   "source": [
    "Botão de checkbox (múltiplas seleções)"
   ]
  },
  {
   "cell_type": "code",
   "execution_count": 9,
   "metadata": {},
   "outputs": [],
   "source": [
    "#Clicar no botão\n",
    "navegador.find_element(By.XPATH, '/html/body/form/input[2]').click()"
   ]
  },
  {
   "cell_type": "code",
   "execution_count": 11,
   "metadata": {},
   "outputs": [
    {
     "name": "stdout",
     "output_type": "stream",
     "text": [
      "True\n"
     ]
    }
   ],
   "source": [
    "#Verificando se está selecionado\n",
    "valor = navegador.find_element(By.XPATH, '/html/body/form/input[2]').is_selected()\n",
    "print(valor)"
   ]
  },
  {
   "cell_type": "markdown",
   "metadata": {},
   "source": [
    "Botão de seleção de cores (envio de valores)"
   ]
  },
  {
   "cell_type": "code",
   "execution_count": 16,
   "metadata": {},
   "outputs": [],
   "source": [
    "#Preencher a cor\n",
    "navegador.find_element(By.XPATH, '/html/body/form/input[4]').send_keys('#894d4d')"
   ]
  },
  {
   "cell_type": "code",
   "execution_count": 17,
   "metadata": {},
   "outputs": [
    {
     "name": "stdout",
     "output_type": "stream",
     "text": [
      "#894d4d\n"
     ]
    }
   ],
   "source": [
    "#Verifiar cor selecionada \n",
    "cor = navegador.find_element(By.XPATH, '/html/body/form/input[4]').get_attribute('value')\n",
    "print(cor)"
   ]
  },
  {
   "cell_type": "markdown",
   "metadata": {},
   "source": [
    "Botão de Datas (enviar o valor)"
   ]
  },
  {
   "cell_type": "code",
   "execution_count": 30,
   "metadata": {},
   "outputs": [],
   "source": [
    "#Preenchendo informação\n",
    "navegador.find_element(By.XPATH, '/html/body/form/input[6]').send_keys('12/11/2021')"
   ]
  },
  {
   "cell_type": "code",
   "execution_count": 31,
   "metadata": {},
   "outputs": [
    {
     "name": "stdout",
     "output_type": "stream",
     "text": [
      "2021-11-12\n"
     ]
    }
   ],
   "source": [
    "#Obtendo informação\n",
    "data = navegador.find_element(By.XPATH, '/html/body/form/input[6]').get_attribute('value')\n",
    "print(data)"
   ]
  },
  {
   "cell_type": "markdown",
   "metadata": {},
   "source": [
    "Botão de Data e Hora"
   ]
  },
  {
   "cell_type": "code",
   "execution_count": 32,
   "metadata": {},
   "outputs": [],
   "source": [
    "#Preenchendo informação de data e hora simulando a tecla TAB\n",
    "navegador.find_element(By.XPATH, '/html/body/form/input[7]').send_keys('15/02/1992', Keys.TAB, '21:14')"
   ]
  },
  {
   "cell_type": "code",
   "execution_count": 33,
   "metadata": {},
   "outputs": [
    {
     "name": "stdout",
     "output_type": "stream",
     "text": [
      "1992-02-15T21:14\n"
     ]
    }
   ],
   "source": [
    "#Buscando informação\n",
    "data_hora = navegador.find_element(By.XPATH, '/html/body/form/input[7]').get_attribute('value')\n",
    "print(data_hora)"
   ]
  },
  {
   "cell_type": "markdown",
   "metadata": {},
   "source": [
    "Botão para selecionar arquivo"
   ]
  },
  {
   "cell_type": "code",
   "execution_count": 34,
   "metadata": {},
   "outputs": [
    {
     "name": "stdout",
     "output_type": "stream",
     "text": [
      "\n"
     ]
    }
   ],
   "source": [
    "#Verificando se tem arquivo anexado\n",
    "arquivo = navegador.find_element(By.XPATH, '/html/body/form/input[8]').get_attribute('value')\n",
    "print(arquivo)"
   ]
  },
  {
   "cell_type": "code",
   "execution_count": 39,
   "metadata": {},
   "outputs": [],
   "source": [
    "#Enviando arquivo\n",
    "\n",
    "#Seleção do arquivo\n",
    "caminho = os.getcwd()\n",
    "arquivo = caminho + r\"\\files\\Pagina Hashtag.html\"\n",
    "\n",
    "\n",
    "#Ação de envio\n",
    "navegador.find_element(By.XPATH, '/html/body/form/input[8]').send_keys(arquivo)\n"
   ]
  },
  {
   "cell_type": "code",
   "execution_count": 38,
   "metadata": {},
   "outputs": [
    {
     "name": "stdout",
     "output_type": "stream",
     "text": [
      "C:\\fakepath\\2 - Abrindo navegador.ipynb\n"
     ]
    }
   ],
   "source": [
    "#Verificando se tem arquivo anexado\n",
    "arquivo = navegador.find_element(By.XPATH, '/html/body/form/input[8]').get_attribute('value')\n",
    "print(arquivo)"
   ]
  },
  {
   "cell_type": "markdown",
   "metadata": {},
   "source": [
    "Botão para selecionar mês e ano"
   ]
  },
  {
   "cell_type": "markdown",
   "metadata": {},
   "source": [
    "Campos numéricos"
   ]
  },
  {
   "cell_type": "markdown",
   "metadata": {},
   "source": [
    "Campos de senha"
   ]
  },
  {
   "cell_type": "markdown",
   "metadata": {},
   "source": [
    "Caixa de Texto"
   ]
  },
  {
   "cell_type": "code",
   "execution_count": 12,
   "metadata": {},
   "outputs": [],
   "source": [
    "#Preencher\n",
    "navegador.find_element(By.XPATH, '/html/body/form/input[16]').send_keys('Cruzeiro')"
   ]
  },
  {
   "cell_type": "code",
   "execution_count": 13,
   "metadata": {},
   "outputs": [
    {
     "name": "stdout",
     "output_type": "stream",
     "text": [
      "Cruzeiro\n"
     ]
    }
   ],
   "source": [
    "#Verificar o valor\n",
    "time = navegador.find_element(By.XPATH, '/html/body/form/input[16]').get_attribute('value')\n",
    "print(time)"
   ]
  }
 ],
 "metadata": {
  "kernelspec": {
   "display_name": "Python 3.9.12 ('base')",
   "language": "python",
   "name": "python3"
  },
  "language_info": {
   "codemirror_mode": {
    "name": "ipython",
    "version": 3
   },
   "file_extension": ".py",
   "mimetype": "text/x-python",
   "name": "python",
   "nbconvert_exporter": "python",
   "pygments_lexer": "ipython3",
   "version": "3.9.12"
  },
  "orig_nbformat": 4,
  "vscode": {
   "interpreter": {
    "hash": "ad2bdc8ecc057115af97d19610ffacc2b4e99fae6737bb82f5d7fb13d2f2c186"
   }
  }
 },
 "nbformat": 4,
 "nbformat_minor": 2
}
