{
 "cells": [
  {
   "cell_type": "code",
   "execution_count": 35,
   "metadata": {},
   "outputs": [],
   "source": [
    "import os\n",
    "from selenium import webdriver\n",
    "from selenium.webdriver.chrome.service import Service \n",
    "from webdriver_manager.chrome import ChromeDriverManager\n",
    "from selenium.webdriver.common.by import By"
   ]
  },
  {
   "cell_type": "code",
   "execution_count": 36,
   "metadata": {},
   "outputs": [
    {
     "name": "stdout",
     "output_type": "stream",
     "text": [
      "c:\\Users\\afonso.feliciano\\Desktop\\Python-Impressionador-Hashtag\\16 - Webscrapping\\files\\Pagina Hashtag.html\n"
     ]
    }
   ],
   "source": [
    "#Definindo os paths\n",
    "caminho = os.getcwd()\n",
    "arquivo = caminho  + r\"\\files\\Pagina Hashtag.html\"\n",
    "print(arquivo)"
   ]
  },
  {
   "cell_type": "code",
   "execution_count": 37,
   "metadata": {},
   "outputs": [],
   "source": [
    "#Instalando o driver\n",
    "servico = Service(ChromeDriverManager().install())\n",
    "\n",
    "#Abrindo o navegador\n",
    "navegador = webdriver.Chrome(service=servico)\n",
    "\n",
    "#Abrindo o arquivo\n",
    "navegador.get(arquivo)"
   ]
  },
  {
   "cell_type": "raw",
   "metadata": {},
   "source": [
    "navegador.find_element() -> Retorna 1 item\n",
    "navegador.find_elements() -> Retorna 1 lista"
   ]
  },
  {
   "cell_type": "code",
   "execution_count": 38,
   "metadata": {},
   "outputs": [],
   "source": [
    "#Escrevendo em formulário\n",
    "navegador.find_element(By.ID, \"fullname\").send_keys(\"Afonso Feliciano\")\n"
   ]
  },
  {
   "cell_type": "code",
   "execution_count": 39,
   "metadata": {},
   "outputs": [],
   "source": [
    "#Escrevendo em formulário\n",
    "navegador.find_element(By.ID, \"email\").send_keys(\"afonsofeliciano@teste.com\")"
   ]
  },
  {
   "cell_type": "code",
   "execution_count": 42,
   "metadata": {},
   "outputs": [],
   "source": [
    "#Clicando em botão\n",
    "navegador.find_element(By.ID, \"_form_176_submit\").click()"
   ]
  }
 ],
 "metadata": {
  "kernelspec": {
   "display_name": "Python 3.9.12 ('base')",
   "language": "python",
   "name": "python3"
  },
  "language_info": {
   "codemirror_mode": {
    "name": "ipython",
    "version": 3
   },
   "file_extension": ".py",
   "mimetype": "text/x-python",
   "name": "python",
   "nbconvert_exporter": "python",
   "pygments_lexer": "ipython3",
   "version": "3.9.12"
  },
  "orig_nbformat": 4,
  "vscode": {
   "interpreter": {
    "hash": "ad2bdc8ecc057115af97d19610ffacc2b4e99fae6737bb82f5d7fb13d2f2c186"
   }
  }
 },
 "nbformat": 4,
 "nbformat_minor": 2
}
