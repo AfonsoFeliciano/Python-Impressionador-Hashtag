{
 "cells": [
  {
   "cell_type": "markdown",
   "metadata": {},
   "source": [
    "# Exercícios"
   ]
  },
  {
   "cell_type": "markdown",
   "metadata": {},
   "source": [
    "## 1 Cadastro de CPF\n",
    "\n",
    "Crie um programa para cadastro de CPF de clientes que recebe o CPF em input box apenas com números. \n",
    "\n",
    "Ex: Insira seu CPF (digite apenas números)\n",
    "\n",
    "Caso o usuário digite algo diferente números ou digite menos de 11 caracteres (tamanho do CPF) o programa deve exibir uma mensagem de \"Digite seu CPF corretamente e digite apenas números\"\n"
   ]
  },
  {
   "cell_type": "code",
   "execution_count": 12,
   "metadata": {},
   "outputs": [
    {
     "name": "stdout",
     "output_type": "stream",
     "text": [
      "Insira o seu CPF (Digite apenas números): 123456789100\n",
      "Digite seu CPF corretamente e digite apenas números\n"
     ]
    }
   ],
   "source": [
    "cpf = input(\"Insira o seu CPF (Digite apenas números): \")\n",
    "\n",
    "if len(cpf) != 11 or cpf.isnumeric() == False:\n",
    "    print(\"Digite seu CPF corretamente e digite apenas números\")\n",
    "else:\n",
    "    print(\"O CPF foi digitado corretamente\")"
   ]
  },
  {
   "cell_type": "markdown",
   "metadata": {},
   "source": [
    "## 2 Melhorando o cadastro do CPF\n",
    "\n",
    "Além das validações anteriores, criei um input que permita que o usuário insira pontos, traçoes e espaços vazios. \n",
    "\n",
    "O programa deve tratar o que usuário inserir para padronizar o CPF em apenas números. \n",
    "\n",
    "A verificação do CPF com 11 caracteres continua sendo válida, mas ela só deve ser feita depois de retirar todos os pontos, traços e espaços que o cliente inserir, e, uma vez retirados, devem sobrar apenas números no CPF. Qualquer outro caractere se torna inválido. \n",
    "\n",
    "O programa precisará retornar uma mensagem informando ao usuário se o CPF inserido foi inválido, e em caso de sucesso printar o CPF apenas com os números."
   ]
  },
  {
   "cell_type": "code",
   "execution_count": 24,
   "metadata": {},
   "outputs": [
    {
     "name": "stdout",
     "output_type": "stream",
     "text": [
      "Digite o seu CPF: 118.841.176-43\n",
      "11884117643\n"
     ]
    }
   ],
   "source": [
    "cpf = input(\"Digite o seu CPF: \")\n",
    "\n",
    "#Remove espaços, pontos e traços\n",
    "cpf_tratado = cpf.replace('.','').replace('-', '').strip()\n",
    "\n",
    "if cpf_tratado.isnumeric() == False and len(cpf_tratado) != 11:\n",
    "    print(\"CPF inválido\")\n",
    "else:\n",
    "    print(cpf_tratado)"
   ]
  },
  {
   "cell_type": "markdown",
   "metadata": {},
   "source": [
    "## 3 Cadastro de e-mails\n",
    "\n",
    "Verificando se um e-mail é válido ou não através de algumas regras. \n",
    "\n",
    "- afonsofelicianolive.com NÃO é válido\n",
    "- afonso@live NÃO é válido\n",
    "- afonso@live.com É válido\n",
    "\n",
    "Crie um programa que permita o cadastro de nome e e-mail através de inputs capaz de verificar \n",
    "\n",
    "1. Se o nome e e-mail foram preenchidos, caso contrário informar que faltou algum preenchimento\n",
    "1. Se o e-mail contém '@' e se depois do '@' exise algum '.'. Caso contrário exibir mensagem de e-mail inválido. "
   ]
  },
  {
   "cell_type": "markdown",
   "metadata": {},
   "source": [
    "### Solução Inicial"
   ]
  },
  {
   "cell_type": "code",
   "execution_count": 76,
   "metadata": {},
   "outputs": [
    {
     "name": "stdout",
     "output_type": "stream",
     "text": [
      "Informe o seu nome: afonso\n",
      "Informe o seu e-mail: afonso@live.com\n",
      "afonso@live.com\n"
     ]
    }
   ],
   "source": [
    "nome = input('Informe o seu nome: ')\n",
    "email = input('Informe o seu e-mail: ')\n",
    "\n",
    "#Verifica se @ existe no e-mail\n",
    "verifica_arroba = '@' in email\n",
    "\n",
    "#Busca a posição do @ no e-mail\n",
    "posicao_arroba = email.find('@')\n",
    "\n",
    "#Corta a string de acordo com a posição do @\n",
    "string_apos_arroba = email[email.find('@'):]\n",
    "\n",
    "#Verfica na string cortada se existe um .\n",
    "verifica_ponto = '.' in string_apos_arroba\n",
    "\n",
    "\n",
    "if len(nome) <= 0 or len(email) <= 0:\n",
    "    print('Preencher todas as informações')\n",
    "elif verifica_arroba == False or verifica_ponto == False:\n",
    "    print('Email inválido')\n",
    "else:\n",
    "    print(email)"
   ]
  },
  {
   "cell_type": "markdown",
   "metadata": {},
   "source": [
    "### Simplificando"
   ]
  },
  {
   "cell_type": "code",
   "execution_count": 79,
   "metadata": {},
   "outputs": [
    {
     "name": "stdout",
     "output_type": "stream",
     "text": [
      "Informe o seu nome: afonso\n",
      "Informe o seu e-mail: afonso@live.com\n",
      "afonso@live.com\n"
     ]
    }
   ],
   "source": [
    "nome = input('Informe o seu nome: ')\n",
    "email = input('Informe o seu e-mail: ')\n",
    "\n",
    "if nome and email:\n",
    "    posicao_arroba = email.find('@')\n",
    "    string_apos_arroba = email[email.find('@'):]\n",
    "    \n",
    "    if posicao_arroba != -1 and '.' in string_apos_arroba:\n",
    "        print(email)\n",
    "    else:\n",
    "        print('E-mail inválido')\n",
    "else:\n",
    "    print('Preencher todas as informações')"
   ]
  }
 ],
 "metadata": {
  "kernelspec": {
   "display_name": "Python 3",
   "language": "python",
   "name": "python3"
  },
  "language_info": {
   "codemirror_mode": {
    "name": "ipython",
    "version": 3
   },
   "file_extension": ".py",
   "mimetype": "text/x-python",
   "name": "python",
   "nbconvert_exporter": "python",
   "pygments_lexer": "ipython3",
   "version": "3.7.3"
  }
 },
 "nbformat": 4,
 "nbformat_minor": 2
}
