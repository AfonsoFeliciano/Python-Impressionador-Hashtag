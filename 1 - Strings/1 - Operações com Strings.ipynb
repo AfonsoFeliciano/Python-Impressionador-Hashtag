{
 "cells": [
  {
   "cell_type": "markdown",
   "metadata": {},
   "source": [
    "# Trabalhando com strings\n",
    "\n",
    "Capturar um item de uma string: texto[indice]\n",
    "\n",
    "Descobrir o tamanho de uma string: len(texto)"
   ]
  },
  {
   "cell_type": "markdown",
   "metadata": {},
   "source": [
    "a f o n s o f e l i c  i  a  n  o  @  l  i  v  e  .  c  o  m\n",
    "0 1 2 3 4 5 6 7 8 9 10 11 12 13 14 15 16 17 18 19 20 21 22 23"
   ]
  },
  {
   "cell_type": "code",
   "execution_count": 1,
   "metadata": {},
   "outputs": [],
   "source": [
    "email = 'afonsofeliciano@live.com'\n",
    "nome = 'Afonso Feliciano'"
   ]
  },
  {
   "cell_type": "markdown",
   "metadata": {},
   "source": [
    "Tamanho da string"
   ]
  },
  {
   "cell_type": "code",
   "execution_count": 2,
   "metadata": {},
   "outputs": [
    {
     "name": "stdout",
     "output_type": "stream",
     "text": [
      "16\n"
     ]
    }
   ],
   "source": [
    "print(len(nome))"
   ]
  },
  {
   "cell_type": "markdown",
   "metadata": {},
   "source": [
    "Capturando posição específica da string"
   ]
  },
  {
   "cell_type": "code",
   "execution_count": 5,
   "metadata": {},
   "outputs": [
    {
     "name": "stdout",
     "output_type": "stream",
     "text": [
      "s\n"
     ]
    }
   ],
   "source": [
    "print(email[4])"
   ]
  },
  {
   "cell_type": "markdown",
   "metadata": {},
   "source": [
    "## Trabalhando com índices negativos\n",
    "\n",
    "Com o índice negativo, torna-se possível pegar o caracter de maneira invertida."
   ]
  },
  {
   "cell_type": "code",
   "execution_count": 8,
   "metadata": {},
   "outputs": [
    {
     "name": "stdout",
     "output_type": "stream",
     "text": [
      "e\n"
     ]
    }
   ],
   "source": [
    "print(email[-5])"
   ]
  },
  {
   "cell_type": "markdown",
   "metadata": {},
   "source": [
    "## Capturando pedaço de uma string"
   ]
  },
  {
   "cell_type": "code",
   "execution_count": 16,
   "metadata": {},
   "outputs": [
    {
     "name": "stdout",
     "output_type": "stream",
     "text": [
      "live\n"
     ]
    }
   ],
   "source": [
    "print(email[16:20])"
   ]
  },
  {
   "cell_type": "markdown",
   "metadata": {},
   "source": [
    "Para fixar:"
   ]
  },
  {
   "cell_type": "code",
   "execution_count": 23,
   "metadata": {},
   "outputs": [
    {
     "name": "stdout",
     "output_type": "stream",
     "text": [
      "Tamanho do e-mail 24 caracteres\n",
      "Primeiro caractere do e-email a\n",
      "Último caractere do e-mail m\n",
      "Servidor do e-mail live.com\n"
     ]
    }
   ],
   "source": [
    "print('Tamanho do e-mail ' + str(len(email)) + ' caracteres')\n",
    "print('Primeiro caractere do e-email ' + str(email[0]))\n",
    "print('Último caractere do e-mail ' + str(email[-1]))\n",
    "print('Servidor do e-mail ' + str(email[16:]))"
   ]
  },
  {
   "cell_type": "markdown",
   "metadata": {},
   "source": [
    "## Operações com string\n",
    "\n",
    "str -> transforma número em string\n",
    "\n",
    "in -> verifica se um caracter existe dentro de outro\n",
    "\n",
    "sinal + -> utilizado para concatenação\n",
    "\n",
    "format e {} -> substituição de valores\n",
    "\n",
    "%s -> substituição de textos\n",
    "\n",
    "%d -> substituição de números decimais"
   ]
  },
  {
   "cell_type": "code",
   "execution_count": 24,
   "metadata": {},
   "outputs": [],
   "source": [
    "faturamento = 1000\n",
    "custo = 500\n",
    "lucro = faturamento - custo"
   ]
  },
  {
   "cell_type": "markdown",
   "metadata": {},
   "source": [
    "Utilização do str e sinal de + para concatenar"
   ]
  },
  {
   "cell_type": "code",
   "execution_count": 26,
   "metadata": {},
   "outputs": [
    {
     "name": "stdout",
     "output_type": "stream",
     "text": [
      "O faturamento da loja foi de: 1000\n"
     ]
    }
   ],
   "source": [
    "print ('O faturamento da loja foi de: ' + str( faturamento ))"
   ]
  },
  {
   "cell_type": "markdown",
   "metadata": {},
   "source": [
    "Utilização de format"
   ]
  },
  {
   "cell_type": "code",
   "execution_count": 34,
   "metadata": {},
   "outputs": [
    {
     "name": "stdout",
     "output_type": "stream",
     "text": [
      "O faturamento foi de: 1000. O custo foi de 500 e o lucro foi de 500, lembrando que o faturamento foi de 1000\n"
     ]
    }
   ],
   "source": [
    "print ('O faturamento foi de: {}. O custo foi de {} e o lucro foi de {}' .format(faturamento, custo, lucro))"
   ]
  },
  {
   "cell_type": "markdown",
   "metadata": {},
   "source": [
    "Uma outra forma é utilizando índices para que seja possível repetir variáveis, como por exemplo no caso abaixo, o faturamento."
   ]
  },
  {
   "cell_type": "code",
   "execution_count": 35,
   "metadata": {},
   "outputs": [
    {
     "name": "stdout",
     "output_type": "stream",
     "text": [
      "O faturamento foi de: 1000. O custo foi de 500 e o lucro foi de 500, lembrando que o faturamento foi de 1000\n"
     ]
    }
   ],
   "source": [
    "print ('O faturamento foi de: {0}. O custo foi de {1} e o lucro foi de {2}, lembrando que o faturamento foi de {0}' .format(faturamento, custo, lucro))"
   ]
  },
  {
   "cell_type": "markdown",
   "metadata": {},
   "source": [
    "Utilização de %s e %d"
   ]
  },
  {
   "cell_type": "code",
   "execution_count": 38,
   "metadata": {},
   "outputs": [
    {
     "name": "stdout",
     "output_type": "stream",
     "text": [
      "O faturamento foi de: 1000. O custo foi de 500 e o lucro foi de 500\n"
     ]
    }
   ],
   "source": [
    "print('O faturamento foi de: %d. O custo foi de %d e o lucro foi de %d' % (faturamento, custo, lucro))"
   ]
  },
  {
   "cell_type": "markdown",
   "metadata": {},
   "source": [
    "Utilização do in para verificar se um caractere existe dentro do outro. "
   ]
  },
  {
   "cell_type": "code",
   "execution_count": 39,
   "metadata": {},
   "outputs": [
    {
     "name": "stdout",
     "output_type": "stream",
     "text": [
      "O @ existe na string\n"
     ]
    }
   ],
   "source": [
    "if '@' in 'afonsofeliciano@live.com':\n",
    "    print('O @ existe na string')\n",
    "else:\n",
    "    print('O @ não existe na string')"
   ]
  },
  {
   "cell_type": "code",
   "execution_count": 40,
   "metadata": {},
   "outputs": [
    {
     "name": "stdout",
     "output_type": "stream",
     "text": [
      "O @ não existe na string\n"
     ]
    }
   ],
   "source": [
    "if '@' in 'afonsofelicianolive.com':\n",
    "    print('O @ existe na string')\n",
    "else:\n",
    "    print('O @ não existe na string')"
   ]
  },
  {
   "cell_type": "code",
   "execution_count": null,
   "metadata": {},
   "outputs": [],
   "source": []
  }
 ],
 "metadata": {
  "kernelspec": {
   "display_name": "Python 3",
   "language": "python",
   "name": "python3"
  },
  "language_info": {
   "codemirror_mode": {
    "name": "ipython",
    "version": 3
   },
   "file_extension": ".py",
   "mimetype": "text/x-python",
   "name": "python",
   "nbconvert_exporter": "python",
   "pygments_lexer": "ipython3",
   "version": "3.7.3"
  }
 },
 "nbformat": 4,
 "nbformat_minor": 2
}
